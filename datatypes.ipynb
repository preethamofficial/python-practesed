{
 "cells": [
  {
   "cell_type": "code",
   "execution_count": 1,
   "id": "7cec7045-d298-4b3d-bc9b-2a30235df87f",
   "metadata": {},
   "outputs": [
    {
     "name": "stdout",
     "output_type": "stream",
     "text": [
      "800\n"
     ]
    }
   ],
   "source": [
    "a=100\n",
    "b=900\n",
    "c=b-a\n",
    "print(c)"
   ]
  },
  {
   "cell_type": "code",
   "execution_count": 3,
   "id": "cc4fc86d-af84-486a-906c-2d2d67fe1df5",
   "metadata": {},
   "outputs": [
    {
     "name": "stdout",
     "output_type": "stream",
     "text": [
      "Age: 19\n",
      "Height: 5.5\n",
      "Name: preetham\n"
     ]
    }
   ],
   "source": [
    "## data type\n",
    "age=19\n",
    "height=5.5\n",
    "name=\"preetham\"\n",
    "is_student=True\n",
    "print(\"Age:\",age)\n",
    "print(\"Height:\",height)\n",
    "print(\"Name:\",name)"
   ]
  },
  {
   "cell_type": "code",
   "execution_count": 4,
   "id": "f195ddf8-ae0e-43d1-bee3-8a2fdf28005c",
   "metadata": {},
   "outputs": [
    {
     "name": "stdout",
     "output_type": "stream",
     "text": [
      "reddy preetham\n"
     ]
    }
   ],
   "source": [
    "## string\n",
    "first_name=\"preetham\"\n",
    "last_name=\"reddy\"\n",
    "print(last_name,first_name)"
   ]
  },
  {
   "cell_type": "code",
   "execution_count": 8,
   "id": "9dcb255f-d556-42db-9279-e1bcd510f001",
   "metadata": {},
   "outputs": [
    {
     "data": {
      "text/plain": [
       "True"
      ]
     },
     "execution_count": 8,
     "metadata": {},
     "output_type": "execute_result"
    }
   ],
   "source": [
    "name=\"preetham\"\n",
    "Name=\"preetham\"\n",
    "name==Name"
   ]
  },
  {
   "cell_type": "code",
   "execution_count": 4,
   "id": "b34b0533-5f49-4f41-848f-64098ae61ca4",
   "metadata": {},
   "outputs": [
    {
     "data": {
      "text/plain": [
       "False"
      ]
     },
     "execution_count": 4,
     "metadata": {},
     "output_type": "execute_result"
    }
   ],
   "source": [
    "## true or flase\n",
    "name=\"preetham\"\n",
    "Name=\"Preetham\"\n",
    "name==Name"
   ]
  },
  {
   "cell_type": "code",
   "execution_count": 10,
   "id": "a3d2d9c1-3308-43f4-afe5-8d5cfd873b5b",
   "metadata": {},
   "outputs": [
    {
     "data": {
      "text/plain": [
       "False"
      ]
     },
     "execution_count": 10,
     "metadata": {},
     "output_type": "execute_result"
    }
   ],
   "source": [
    "## t/f\n",
    "name=\"preetham\"\n",
    "Name=\"Reddy\"\n",
    "name==Name"
   ]
  },
  {
   "cell_type": "code",
   "execution_count": 12,
   "id": "e789957d-4e84-477f-9f48-87796f02b86b",
   "metadata": {},
   "outputs": [
    {
     "name": "stdout",
     "output_type": "stream",
     "text": [
      "<class 'int'>\n",
      "<class 'str'>\n",
      "<class 'float'>\n"
     ]
    }
   ],
   "source": [
    "## data type\n",
    "age=90\n",
    "height=5.5\n",
    "name=\"preetham\"\n",
    "print(type(age))\n",
    "print(type(name))\n",
    "print(type(height))"
   ]
  },
  {
   "cell_type": "code",
   "execution_count": 14,
   "id": "c2eb51dd-1f30-4996-a729-8b1217e23718",
   "metadata": {},
   "outputs": [
    {
     "name": "stdout",
     "output_type": "stream",
     "text": [
      "<class 'int'>\n",
      "<class 'str'>\n"
     ]
    },
    {
     "data": {
      "text/plain": [
       "float"
      ]
     },
     "execution_count": 14,
     "metadata": {},
     "output_type": "execute_result"
    }
   ],
   "source": [
    "## data type\n",
    "age=90\n",
    "height=5.5\n",
    "name=\"preetham\"\n",
    "print(type(age))\n",
    "print(type(name))\n",
    "type(height)"
   ]
  },
  {
   "cell_type": "code",
   "execution_count": 1,
   "id": "0d4569fc-a5d1-4a4f-9b05-a00038c558f9",
   "metadata": {},
   "outputs": [
    {
     "name": "stdout",
     "output_type": "stream",
     "text": [
      "<class 'int'>\n",
      "<class 'float'>\n",
      "<class 'str'>\n"
     ]
    }
   ],
   "source": [
    "## convertion of data type from int to float,string\n",
    "age=20\n",
    "print(type(age))\n",
    "age_str=str(age)\n",
    "age_float=float(age)\n",
    "print(type(age_float))\n",
    "print(type(age_str))"
   ]
  },
  {
   "cell_type": "code",
   "execution_count": 2,
   "id": "c66cc7e3-302f-4d84-bfb8-752b885956e0",
   "metadata": {},
   "outputs": [
    {
     "data": {
      "text/plain": [
       "str"
      ]
     },
     "execution_count": 2,
     "metadata": {},
     "output_type": "execute_result"
    }
   ],
   "source": [
    "## declaring int value in string\n",
    "age=\"20\"\n",
    "type(age)"
   ]
  },
  {
   "cell_type": "code",
   "execution_count": 18,
   "id": "01e07c42-9ccb-4a8e-94b2-6db4e8e9b55d",
   "metadata": {},
   "outputs": [
    {
     "name": "stdout",
     "output_type": "stream",
     "text": [
      "<class 'int'>\n"
     ]
    }
   ],
   "source": [
    "## class of data type\n",
    "age=\"20\"\n",
    "print(type(int(age)))"
   ]
  },
  {
   "cell_type": "code",
   "execution_count": 2,
   "id": "bc2f3b4c-847c-481c-95ef-eba405116eb2",
   "metadata": {},
   "outputs": [
    {
     "name": "stdout",
     "output_type": "stream",
     "text": [
      "<class 'int'>\n",
      "5\n"
     ]
    }
   ],
   "source": [
    "## convert float value to integer\n",
    "height=5.6\n",
    "print(type(int(height)))\n",
    "print(int(height))"
   ]
  },
  {
   "cell_type": "code",
   "execution_count": 20,
   "id": "8c3894f7-9faa-4e66-bb4d-90a9014be930",
   "metadata": {},
   "outputs": [
    {
     "name": "stdout",
     "output_type": "stream",
     "text": [
      "8\n"
     ]
    }
   ],
   "source": [
    "height=8.9\n",
    "print(int(height))"
   ]
  },
  {
   "cell_type": "code",
   "execution_count": 24,
   "id": "503ab7fb-046d-4a94-bbde-9e63d4c88fe2",
   "metadata": {},
   "outputs": [
    {
     "name": "stdout",
     "output_type": "stream",
     "text": [
      "123\n"
     ]
    }
   ],
   "source": [
    "name=123.2345455643\n",
    "print(int(name))"
   ]
  },
  {
   "cell_type": "code",
   "execution_count": 25,
   "id": "0e4eb9b6-02b2-4d20-b4bb-8a351ae71b37",
   "metadata": {},
   "outputs": [
    {
     "name": "stdout",
     "output_type": "stream",
     "text": [
      "20.0\n"
     ]
    }
   ],
   "source": [
    "age=20\n",
    "print(float(age))"
   ]
  },
  {
   "cell_type": "code",
   "execution_count": 7,
   "id": "445cad87-e187-46b1-8c7c-d737cde789df",
   "metadata": {},
   "outputs": [
    {
     "name": "stdout",
     "output_type": "stream",
     "text": [
      "10 <class 'int'>\n",
      "punny <class 'str'>\n",
      "10.98 <class 'float'>\n",
      "10\n",
      "10.98\n",
      "punny\n"
     ]
    }
   ],
   "source": [
    "## same value a but different data type\n",
    "a=10\n",
    "print(a,type(a))\n",
    "a=\"punny\"\n",
    "print(a,type(a))\n",
    "a=10.98\n",
    "print(a,type(a))\n",
    "print(int(a))\n",
    "print(float(a))\n",
    "print(str(\"punny\"))"
   ]
  },
  {
   "cell_type": "code",
   "execution_count": 6,
   "id": "2edd57f3-f8fc-4a8f-b200-8dd96f9f7797",
   "metadata": {},
   "outputs": [
    {
     "name": "stdin",
     "output_type": "stream",
     "text": [
      "what is the age 20\n"
     ]
    },
    {
     "name": "stdout",
     "output_type": "stream",
     "text": [
      "20 <class 'int'>\n"
     ]
    }
   ],
   "source": [
    "## input the age\n",
    "age=int(input(\"what is the age\"))\n",
    "print(age,type(age))"
   ]
  },
  {
   "cell_type": "code",
   "execution_count": 38,
   "id": "651a4d33-9299-4cd0-87f7-2a388d87f423",
   "metadata": {},
   "outputs": [
    {
     "name": "stdin",
     "output_type": "stream",
     "text": [
      "enter first number 8\n",
      "enter second number 3\n"
     ]
    },
    {
     "name": "stdout",
     "output_type": "stream",
     "text": [
      "sum 11.0\n",
      "difference 5.0\n",
      "product 24.0\n",
      "quotient 2.6666666666666665\n"
     ]
    }
   ],
   "source": [
    "## simple calculator\n",
    "n1=float(input(\"enter first number\"))\n",
    "n2=float(input(\"enter second number\"))\n",
    "su=n1+n2\n",
    "diff=n1-n2\n",
    "prod=n1*n2\n",
    "quot=n1/n2\n",
    "print(\"sum\",su)\n",
    "print(\"difference\",diff)\n",
    "print(\"product\",prod)\n",
    "print(\"quotient\",quot)"
   ]
  },
  {
   "cell_type": "code",
   "execution_count": 16,
   "id": "9fec3ae6-d3af-43af-8169-2e420be8f623",
   "metadata": {},
   "outputs": [
    {
     "name": "stdout",
     "output_type": "stream",
     "text": [
      "True\n"
     ]
    },
    {
     "data": {
      "text/plain": [
       "bool"
      ]
     },
     "execution_count": 16,
     "metadata": {},
     "output_type": "execute_result"
    }
   ],
   "source": [
    "is_true=True\n",
    "print(is_true)\n",
    "type(is_true)"
   ]
  },
  {
   "cell_type": "code",
   "execution_count": 1,
   "id": "a28f07a7-557a-4e9c-a1cc-b1f68a31bc93",
   "metadata": {
    "scrolled": true
   },
   "outputs": [
    {
     "name": "stdout",
     "output_type": "stream",
     "text": [
      "False\n"
     ]
    },
    {
     "data": {
      "text/plain": [
       "bool"
      ]
     },
     "execution_count": 1,
     "metadata": {},
     "output_type": "execute_result"
    }
   ],
   "source": [
    "is_true=False\n",
    "print(is_true)\n",
    "type(is_true)"
   ]
  },
  {
   "cell_type": "code",
   "execution_count": 44,
   "id": "08f63a14-112b-48e5-8ae4-1013a323b1c9",
   "metadata": {},
   "outputs": [
    {
     "data": {
      "text/plain": [
       "int"
      ]
     },
     "execution_count": 44,
     "metadata": {},
     "output_type": "execute_result"
    }
   ],
   "source": [
    "is_true=1\n",
    "type(is_true)"
   ]
  },
  {
   "cell_type": "code",
   "execution_count": 45,
   "id": "8f7f33d5-0c4b-4406-8d43-468f1ed95853",
   "metadata": {},
   "outputs": [
    {
     "data": {
      "text/plain": [
       "int"
      ]
     },
     "execution_count": 45,
     "metadata": {},
     "output_type": "execute_result"
    }
   ],
   "source": [
    "is_true=0\n",
    "type(is_true)"
   ]
  },
  {
   "cell_type": "code",
   "execution_count": 46,
   "id": "a06ade19-2b3c-4e18-80d2-539b6b7766f5",
   "metadata": {},
   "outputs": [
    {
     "data": {
      "text/plain": [
       "False"
      ]
     },
     "execution_count": 46,
     "metadata": {},
     "output_type": "execute_result"
    }
   ],
   "source": [
    "bool()"
   ]
  },
  {
   "cell_type": "code",
   "execution_count": 47,
   "id": "91154eac-b47d-421b-a29c-80c0327764dd",
   "metadata": {},
   "outputs": [
    {
     "data": {
      "text/plain": [
       "True"
      ]
     },
     "execution_count": 47,
     "metadata": {},
     "output_type": "execute_result"
    }
   ],
   "source": [
    "bool(101)"
   ]
  },
  {
   "cell_type": "code",
   "execution_count": 48,
   "id": "dc7a759d-94cd-4a97-bfce-99d365583823",
   "metadata": {},
   "outputs": [
    {
     "data": {
      "text/plain": [
       "True"
      ]
     },
     "execution_count": 48,
     "metadata": {},
     "output_type": "execute_result"
    }
   ],
   "source": [
    "bool(1)\n"
   ]
  },
  {
   "cell_type": "code",
   "execution_count": 8,
   "id": "3780e61b-776c-42d7-9ca8-7a45e01757f1",
   "metadata": {},
   "outputs": [
    {
     "data": {
      "text/plain": [
       "False"
      ]
     },
     "execution_count": 8,
     "metadata": {},
     "output_type": "execute_result"
    }
   ],
   "source": [
    "bool(0)"
   ]
  },
  {
   "cell_type": "code",
   "execution_count": 49,
   "id": "474fd74e-9d05-4878-89ae-d35254e39b02",
   "metadata": {},
   "outputs": [
    {
     "data": {
      "text/plain": [
       "True"
      ]
     },
     "execution_count": 49,
     "metadata": {},
     "output_type": "execute_result"
    }
   ],
   "source": [
    "## a is equal to b\n",
    "a=10\n",
    "b=10\n",
    "a==b"
   ]
  },
  {
   "cell_type": "code",
   "execution_count": 19,
   "id": "9bc1ba96-2905-49fe-89b2-a37d079fe75e",
   "metadata": {},
   "outputs": [
    {
     "data": {
      "text/plain": [
       "bool"
      ]
     },
     "execution_count": 19,
     "metadata": {},
     "output_type": "execute_result"
    }
   ],
   "source": [
    "a=10\n",
    "b=10\n",
    "type(a==b)"
   ]
  },
  {
   "cell_type": "code",
   "execution_count": 53,
   "id": "76a3b2d0-7dc7-401b-b849-48465628d2f4",
   "metadata": {},
   "outputs": [
    {
     "name": "stdout",
     "output_type": "stream",
     "text": [
      "70.5\n"
     ]
    }
   ],
   "source": [
    "result=30.5+40\n",
    "print(result)\n"
   ]
  },
  {
   "cell_type": "code",
   "execution_count": 59,
   "id": "fae96e55-1d0e-4fe8-84d5-37e81b2d8ae9",
   "metadata": {},
   "outputs": [
    {
     "name": "stdout",
     "output_type": "stream",
     "text": [
      "120\n"
     ]
    }
   ],
   "source": [
    "p=90\n",
    "result=p+30\n",
    "print(result)"
   ]
  },
  {
   "cell_type": "code",
   "execution_count": 63,
   "id": "cf1e5697-8b18-4aac-a6ae-36d53040e5eb",
   "metadata": {},
   "outputs": [
    {
     "name": "stdout",
     "output_type": "stream",
     "text": [
      "91\n"
     ]
    }
   ],
   "source": [
    "a=0.7\n",
    "b=90.7\n",
    "c=int(a+b)\n",
    "print(c)"
   ]
  },
  {
   "cell_type": "code",
   "execution_count": 4,
   "id": "2a3d38cb-14fb-4082-9f11-027a7df6d8d4",
   "metadata": {},
   "outputs": [
    {
     "name": "stdin",
     "output_type": "stream",
     "text": [
      " value1 9\n",
      "value2 9\n"
     ]
    },
    {
     "name": "stdout",
     "output_type": "stream",
     "text": [
      "True\n",
      "<class 'bool'>\n"
     ]
    }
   ],
   "source": [
    "a=input(\" value1\")\n",
    "b=input(\"value2\")\n",
    "print(a==b)\n",
    "print(type(a==b))"
   ]
  },
  {
   "cell_type": "code",
   "execution_count": 10,
   "id": "49b4c7de-3cb2-4756-902e-420f22613f9c",
   "metadata": {},
   "outputs": [
    {
     "name": "stdout",
     "output_type": "stream",
     "text": [
      "<class 'int'>\n",
      "20\n",
      "<class 'str'>\n",
      "20\n"
     ]
    }
   ],
   "source": [
    "## convert int to str\n",
    "age=20\n",
    "print(type(age))\n",
    "print(age)\n",
    "age_str=str(age)\n",
    "print(type(age_str))\n",
    "print(age_str)"
   ]
  },
  {
   "cell_type": "code",
   "execution_count": 21,
   "id": "89c934cf-4839-455c-bdbd-7cb6e81c5fd2",
   "metadata": {},
   "outputs": [
    {
     "name": "stdout",
     "output_type": "stream",
     "text": [
      "False\n"
     ]
    }
   ],
   "source": [
    "a=90\n",
    "b=901\n",
    "print(a==b)"
   ]
  },
  {
   "cell_type": "code",
   "execution_count": 22,
   "id": "ce202675-4637-48b0-bf7f-9cb8fec22538",
   "metadata": {},
   "outputs": [
    {
     "data": {
      "text/plain": [
       "bool"
      ]
     },
     "execution_count": 22,
     "metadata": {},
     "output_type": "execute_result"
    }
   ],
   "source": [
    "a=90\n",
    "b=901\n",
    "type(a==b)"
   ]
  },
  {
   "cell_type": "code",
   "execution_count": 6,
   "id": "92420297-6af6-469e-be11-8bf2999707dc",
   "metadata": {},
   "outputs": [
    {
     "name": "stdout",
     "output_type": "stream",
     "text": [
      "80 <class 'int'>\n",
      "9 <class 'int'>\n",
      "8.88888888888889 <class 'float'>\n"
     ]
    }
   ],
   "source": [
    "a=80\n",
    "b=9\n",
    "c=a/b\n",
    "print(a,type(a))\n",
    "print(b,type(b))\n",
    "print(c,type(c))"
   ]
  }
 ],
 "metadata": {
  "kernelspec": {
   "display_name": "Python 3 (ipykernel)",
   "language": "python",
   "name": "python3"
  },
  "language_info": {
   "codemirror_mode": {
    "name": "ipython",
    "version": 3
   },
   "file_extension": ".py",
   "mimetype": "text/x-python",
   "name": "python",
   "nbconvert_exporter": "python",
   "pygments_lexer": "ipython3",
   "version": "3.13.0"
  }
 },
 "nbformat": 4,
 "nbformat_minor": 5
}
