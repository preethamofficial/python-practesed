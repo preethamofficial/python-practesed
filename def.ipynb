{
 "cells": [
  {
   "cell_type": "code",
   "execution_count": 2,
   "id": "1f11c1b9-e8ad-412b-adec-5f9062a898db",
   "metadata": {},
   "outputs": [],
   "source": [
    "## syntax for function\n",
    "def function_name(parameters):\n",
    "    \"\"\"docstring \"\"\"\n",
    "    # function body\n",
    "    return expression"
   ]
  },
  {
   "cell_type": "code",
   "execution_count": 3,
   "id": "d4fe89c7-4ec5-4af5-9bb8-8cf50537459f",
   "metadata": {},
   "outputs": [
    {
     "name": "stdout",
     "output_type": "stream",
     "text": [
      "the number is even\n"
     ]
    }
   ],
   "source": [
    "## normal even and odd  finding (easily e cant reuse it)\n",
    "num=24\n",
    "if num%2==0:\n",
    "    print(\"the number is even\")\n",
    "else:\n",
    "    print(\"the number is odd\")"
   ]
  },
  {
   "cell_type": "code",
   "execution_count": 10,
   "id": "31ab606e-e9b5-4c98-ad07-97679bd9f001",
   "metadata": {},
   "outputs": [],
   "source": [
    "## functional even or odd finding (easily we can reuse it)\n",
    "def even_or_odd(num):\n",
    "    \"\"\" find even or odd \"\"\"\n",
    "    if num%2==0: \n",
    "        print(\"the number is even\")\n",
    "    else: \n",
    "        print(\"the number is odd\")"
   ]
  },
  {
   "cell_type": "code",
   "execution_count": 12,
   "id": "933f1361-68b2-48b3-b1ad-67f6af81ad20",
   "metadata": {},
   "outputs": [
    {
     "name": "stdout",
     "output_type": "stream",
     "text": [
      "the number is even\n"
     ]
    }
   ],
   "source": [
    "## call the function\n",
    "even_or_odd(28)"
   ]
  },
  {
   "cell_type": "code",
   "execution_count": 13,
   "id": "b5d19259-39f9-4c59-8fd4-965c4a82bf97",
   "metadata": {},
   "outputs": [
    {
     "name": "stdout",
     "output_type": "stream",
     "text": [
      "6\n"
     ]
    }
   ],
   "source": [
    "## function with multiple parameter\n",
    "def add(a,b):\n",
    "    return a+b\n",
    "result=add(2,4)\n",
    "print(result)"
   ]
  },
  {
   "cell_type": "code",
   "execution_count": 15,
   "id": "8b32a996-e1f9-4a3d-9199-1ce87dd4f16e",
   "metadata": {},
   "outputs": [
    {
     "data": {
      "text/plain": [
       "7"
      ]
     },
     "execution_count": 15,
     "metadata": {},
     "output_type": "execute_result"
    }
   ],
   "source": [
    "add(6,1)"
   ]
  },
  {
   "cell_type": "code",
   "execution_count": 28,
   "id": "6791aa28-88b7-4ad7-b6bb-66e7e0d9e574",
   "metadata": {},
   "outputs": [
    {
     "name": "stdout",
     "output_type": "stream",
     "text": [
      "Hellow suhas welcome to willo\n"
     ]
    }
   ],
   "source": [
    "# default parameter\n",
    "def greet(name):\n",
    "    print(f\"Hellow {name} welcome to willo\")\n",
    "greet(\"suhas\")"
   ]
  },
  {
   "cell_type": "code",
   "execution_count": 25,
   "id": "ee9caf11-268c-4ffb-b321-7b614eb9b6b3",
   "metadata": {},
   "outputs": [
    {
     "name": "stdout",
     "output_type": "stream",
     "text": [
      "Hellow preetham reddy welcome to willo\n"
     ]
    }
   ],
   "source": [
    "greet(\"preetham reddy\")"
   ]
  },
  {
   "cell_type": "code",
   "execution_count": 26,
   "id": "21ca42b3-1b6c-4790-9206-4559ec9fa994",
   "metadata": {},
   "outputs": [
    {
     "data": {
      "text/plain": [
       "9"
      ]
     },
     "execution_count": 26,
     "metadata": {},
     "output_type": "execute_result"
    }
   ],
   "source": [
    "add(9,0)"
   ]
  },
  {
   "cell_type": "code",
   "execution_count": 27,
   "id": "d7e631de-be99-4cff-96e5-7e7d521b9241",
   "metadata": {},
   "outputs": [
    {
     "name": "stdout",
     "output_type": "stream",
     "text": [
      "the number is odd\n"
     ]
    }
   ],
   "source": [
    "even_or_odd(25)"
   ]
  },
  {
   "cell_type": "code",
   "execution_count": 29,
   "id": "72139a8a-a3a5-48c9-a818-307cf32445e0",
   "metadata": {},
   "outputs": [],
   "source": [
    "## positional arguments\n",
    "def print_numbers(*args):\n",
    "    for numbers in args:\n",
    "        print(numbers)"
   ]
  },
  {
   "cell_type": "code",
   "execution_count": 32,
   "id": "494d0bbb-e949-4b83-9a16-e29978088cb5",
   "metadata": {},
   "outputs": [
    {
     "name": "stdout",
     "output_type": "stream",
     "text": [
      "1\n",
      "2\n",
      "3\n",
      "4\n",
      "5\n"
     ]
    }
   ],
   "source": [
    "print_numbers(1,2,3,4,5)"
   ]
  },
  {
   "cell_type": "code",
   "execution_count": 33,
   "id": "49ba9ee3-3f99-423d-85db-2886befc9878",
   "metadata": {},
   "outputs": [],
   "source": [
    "## args is a siple pogitionam argument\n",
    "## kwargs is a keywords pogitional arguments\n",
    "def  print_kwargs(**kwargs):\n",
    "    for key,value in kwargs.items():\n",
    "        print(f\"{key}:{value}\")\n",
    "        "
   ]
  },
  {
   "cell_type": "code",
   "execution_count": 35,
   "id": "3004c175-6736-4e94-80ae-348d90dbc602",
   "metadata": {},
   "outputs": [
    {
     "name": "stdout",
     "output_type": "stream",
     "text": [
      "name:pretham\n",
      "sem:4\n",
      "branch:ise\n",
      "age:19\n"
     ]
    }
   ],
   "source": [
    "print_kwargs(name=\"pretham\",sem=\"4\",branch=\"ise\",age=19)"
   ]
  },
  {
   "cell_type": "code",
   "execution_count": 7,
   "id": "a9f7e775-a1a2-4b4f-81a7-5702ca0b57db",
   "metadata": {},
   "outputs": [],
   "source": [
    "# combining of both args and kwargs\n",
    "def print_argkwarg(*args,**kwargs):\n",
    "    for val in args:\n",
    "        print(f\"positional argument:{val}\")\n",
    "    for key,value in kwargs.items():\n",
    "        print(f\"{key}:{value}\")"
   ]
  },
  {
   "cell_type": "code",
   "execution_count": 9,
   "id": "04b24e40-5da5-4c97-b50e-4f947322d557",
   "metadata": {},
   "outputs": [
    {
     "name": "stdout",
     "output_type": "stream",
     "text": [
      "positional argument:1\n",
      "positional argument:2\n",
      "positional argument:3\n",
      "positional argument:4\n",
      "positional argument:5\n",
      "positional argument:preetham\n",
      "name:preetham\n",
      "age:19\n",
      "branch:ise\n"
     ]
    }
   ],
   "source": [
    "print_argkwarg(1,2,3,4,5,\"preetham\",name=\"preetham\",age=19,branch=\"ise\")"
   ]
  },
  {
   "cell_type": "code",
   "execution_count": 12,
   "id": "108f2dd6-5a75-4383-a395-4a02cfa042b2",
   "metadata": {},
   "outputs": [
    {
     "data": {
      "text/plain": [
       "10"
      ]
     },
     "execution_count": 12,
     "metadata": {},
     "output_type": "execute_result"
    }
   ],
   "source": [
    "## return statement\n",
    "def mul(a,b):\n",
    "    return a*b\n",
    "mul(2,5)"
   ]
  },
  {
   "cell_type": "code",
   "execution_count": 13,
   "id": "417e9dc6-76fe-494e-9fd8-b29e5b433c81",
   "metadata": {},
   "outputs": [
    {
     "data": {
      "text/plain": [
       "24"
      ]
     },
     "execution_count": 13,
     "metadata": {},
     "output_type": "execute_result"
    }
   ],
   "source": [
    "mul(4,6)"
   ]
  },
  {
   "cell_type": "code",
   "execution_count": 34,
   "id": "fbd78d04-5d19-46e6-87a0-decb033f734f",
   "metadata": {},
   "outputs": [
    {
     "name": "stdout",
     "output_type": "stream",
     "text": [
      "120.2\n",
      "102.22222222222223\n"
     ]
    }
   ],
   "source": [
    "##temperature convrtion fron celcius to fahrenhight\n",
    "def conv_c_to_f(val,unit):\n",
    "    if unit=='c':\n",
    "        return val *9/5+32 \n",
    "    elif unit =='f':\n",
    "        return val-32*(5/9) \n",
    "    else:\n",
    "        return null\n",
    "print(conv_c_to_f(49,'c'))\n",
    "print(conv_c_to_f(120,'f'))"
   ]
  },
  {
   "cell_type": "code",
   "execution_count": 82,
   "id": "0ca84f9f-1802-452b-a25a-7253a5da0557",
   "metadata": {},
   "outputs": [
    {
     "data": {
      "text/plain": [
       "86.0"
      ]
     },
     "execution_count": 82,
     "metadata": {},
     "output_type": "execute_result"
    }
   ],
   "source": [
    "conv_c_to_f(30,'c')\n"
   ]
  },
  {
   "cell_type": "code",
   "execution_count": 101,
   "id": "e56bd52b-0491-4200-8079-671ce0d0b873",
   "metadata": {},
   "outputs": [
    {
     "name": "stdout",
     "output_type": "stream",
     "text": [
      "password is strong or not\n",
      "False\n"
     ]
    }
   ],
   "source": [
    "## checking wether passwerd is strong or not\n",
    "def ch_ps(psw):\n",
    "       if len(psw)<8:\n",
    "                return False\n",
    "       if not any(ch.isdigit() for ch in psw):\n",
    "                return False\n",
    "       if not any(ch.islower() for ch in psw):\n",
    "                 return False\n",
    "       if not any(ch.isupper() for ch in psw):\n",
    "                 return False\n",
    "       if not any(ch in '!@#$%^&*(){}:\"<>?>/.,;][' for ch in psw):\n",
    "                  return False\n",
    "       return True\n",
    "print(ch_ps(\"Punni908\"))"
   ]
  },
  {
   "cell_type": "code",
   "execution_count": 102,
   "id": "515f0cc9-5e1f-44d3-a21c-98ae6b1265cf",
   "metadata": {},
   "outputs": [
    {
     "data": {
      "text/plain": [
       "True"
      ]
     },
     "execution_count": 102,
     "metadata": {},
     "output_type": "execute_result"
    }
   ],
   "source": [
    "ch_ps(\"Punny@1231\")"
   ]
  },
  {
   "cell_type": "code",
   "execution_count": 116,
   "id": "d081e196-5174-445d-952b-2057ec979b83",
   "metadata": {},
   "outputs": [
    {
     "name": "stdout",
     "output_type": "stream",
     "text": [
      "290\n"
     ]
    }
   ],
   "source": [
    "## total cost of the products\n",
    "def totalcost(cart):\n",
    "    total_cost=0\n",
    "    for item in cart:\n",
    "        total_cost+=item['price']* item['quantity']\n",
    "    return total_cost\n",
    "cart=[ {'name':'apple','price':40,'quantity':5},\n",
    "{'name':'banana','price':30,'quantity':3}\n",
    "]\n",
    "total_cost=totalcost(cart)\n",
    "print(total_cost)"
   ]
  },
  {
   "cell_type": "code",
   "execution_count": 117,
   "id": "d9a7ff24-cd6a-49a9-a400-4b0c4692d0ce",
   "metadata": {},
   "outputs": [
    {
     "data": {
      "text/plain": [
       "280"
      ]
     },
     "execution_count": 117,
     "metadata": {},
     "output_type": "execute_result"
    }
   ],
   "source": [
    "bag=[{'name':'orange','price':40,'quantity':4},\n",
    "          {'name':'watermilon','price':60,'quantity':2}]\n",
    "totalcost(bag)"
   ]
  },
  {
   "cell_type": "code",
   "execution_count": 4,
   "id": "cc6c8dc2-5a93-4c54-919a-89d1fbc4b757",
   "metadata": {},
   "outputs": [
    {
     "name": "stdout",
     "output_type": "stream",
     "text": [
      "True\n",
      "True\n"
     ]
    }
   ],
   "source": [
    "## palendrome (reversing of value which is equal to original one)\n",
    "def palendrome(s):\n",
    "    s=s.lower().replace(\" \",\"\")\n",
    "    return s==s[::-1]\n",
    "print(palendrome(\"a man a plan a canal panama\"))\n",
    "print(palendrome(\"Was it a car or a cat I saw\"))"
   ]
  },
  {
   "cell_type": "code",
   "execution_count": 13,
   "id": "6a3a5096-1a1c-4266-a006-ec5beb333147",
   "metadata": {},
   "outputs": [
    {
     "data": {
      "text/plain": [
       "False"
      ]
     },
     "execution_count": 13,
     "metadata": {},
     "output_type": "execute_result"
    }
   ],
   "source": [
    "palendrome(\"kalki\")"
   ]
  },
  {
   "cell_type": "code",
   "execution_count": 14,
   "id": "4eb184ba-5db9-42e0-a4d2-ea0a95513374",
   "metadata": {},
   "outputs": [
    {
     "data": {
      "text/plain": [
       "True"
      ]
     },
     "execution_count": 14,
     "metadata": {},
     "output_type": "execute_result"
    }
   ],
   "source": [
    "palendrome(\"redivider\")"
   ]
  },
  {
   "cell_type": "code",
   "execution_count": 2,
   "id": "436a5ae4-4d55-4fb5-961d-24fe06ffa713",
   "metadata": {},
   "outputs": [
    {
     "name": "stdout",
     "output_type": "stream",
     "text": [
      "120\n"
     ]
    }
   ],
   "source": [
    "## factorial\n",
    "def factorial(n):\n",
    "    if n==0:\n",
    "        return 1\n",
    "    else:\n",
    "        return n *factorial(n-1)\n",
    "print(factorial(5))"
   ]
  },
  {
   "cell_type": "code",
   "execution_count": 4,
   "id": "945be156-07ff-40c6-9163-358889c35bb6",
   "metadata": {},
   "outputs": [
    {
     "data": {
      "text/plain": [
       "720"
      ]
     },
     "execution_count": 4,
     "metadata": {},
     "output_type": "execute_result"
    }
   ],
   "source": [
    "factorial(6)"
   ]
  },
  {
   "cell_type": "code",
   "execution_count": 14,
   "id": "063aa72e-e3df-4f3a-8586-6e1b418f9eb1",
   "metadata": {},
   "outputs": [
    {
     "name": "stdout",
     "output_type": "stream",
     "text": [
      "{'lorem': 1, 'ipsum': 1, 'dolor': 2, 'sit': 1, 'amet': 1, 'consectetur': 1, 'adipiscing': 1, 'elit': 1, 'sed': 1, 'do': 1, 'eiusmod': 1, 'tempor': 1, 'incididunt': 1, 'ut': 3, 'labore': 1, 'et': 1, 'dolore': 2, 'magna': 1, 'aliqua': 1, 'enim': 1, 'ad': 1, 'minim': 1, 'veniam': 1, 'quis': 1, 'nostrud': 1, 'exercitation': 1, 'ullamco': 1, 'laboris': 1, 'nisi': 1, 'aliquip': 1, 'ex': 1, 'ea': 1, 'commodo': 1, 'consequat': 1, 'duis': 1, 'aute': 1, 'irure': 1, 'in': 3, 'reprehenderit': 1, 'voluptate': 1, 'velit': 1, 'esse': 1, 'cillum': 1, 'eu': 1, 'fugiat': 1, 'nulla': 1, 'pariatur': 1, 'excepteur': 1, 'sint': 1, 'occaecat': 1, 'cupidatat': 1, 'non': 1, 'proident': 1, 'sunt': 1, 'culpa': 1, 'qui': 1, 'officia': 1, 'deserunt': 1, 'mollit': 1, 'anim': 1, 'id': 1, 'est': 1, 'laborum': 1}\n"
     ]
    }
   ],
   "source": [
    "## counting word frequency  (word repetation)\n",
    "def count_word_frequency(file_path):\n",
    "    word_count={}\n",
    "    with open(file_path,'r') as file:\n",
    "        for line in file:\n",
    "            words=line.split()\n",
    "            for word in words:\n",
    "                word=word.lower().strip('.,!?;:\"\\'')\n",
    "                word_count[word]=word_count.get(word,0)+1\n",
    "    \n",
    "    return word_count\n",
    "\n",
    "filepath='sample.txt'\n",
    "word_frequency=count_word_frequency(filepath)\n",
    "print(word_frequency)\n"
   ]
  },
  {
   "cell_type": "code",
   "execution_count": 20,
   "id": "6c41e6cb-5ec9-4c98-bb74-8b096a8dc1fb",
   "metadata": {},
   "outputs": [
    {
     "name": "stdout",
     "output_type": "stream",
     "text": [
      "True\n",
      "False\n"
     ]
    }
   ],
   "source": [
    "## Email validation function\n",
    "import re\n",
    "def is_valid_email(email):\n",
    "    pattern = r'^[a-zA-Z0-9_.+-]+@[a-zA-Z0-9-]+\\.[a-zA-Z0-9-.]+$'\n",
    "    return re.match(pattern, email) is not None\n",
    "print(is_valid_email(\"test@example.com\"))  \n",
    "print(is_valid_email(\"invalid-email\")) "
   ]
  },
  {
   "cell_type": "code",
   "execution_count": 22,
   "id": "81234486-420c-4881-85a7-2a8eb565b101",
   "metadata": {},
   "outputs": [
    {
     "data": {
      "text/plain": [
       "39"
      ]
     },
     "execution_count": 22,
     "metadata": {},
     "output_type": "execute_result"
    }
   ],
   "source": [
    "def addition(x,y,z):\n",
    "    return x+y+z\n",
    "addition(12,13,14)    "
   ]
  },
  {
   "cell_type": "code",
   "execution_count": 23,
   "id": "3ced31ce-0fe3-4b69-ac44-ccb2eb24c193",
   "metadata": {},
   "outputs": [
    {
     "data": {
      "text/plain": [
       "39"
      ]
     },
     "execution_count": 23,
     "metadata": {},
     "output_type": "execute_result"
    }
   ],
   "source": [
    "## lambda function\n",
    "add=lambda x,y,z:x+y+z\n",
    "add(12,13,14)"
   ]
  },
  {
   "cell_type": "code",
   "execution_count": 26,
   "id": "008324e1-faaf-4f0c-a04b-f46b2fcf32d2",
   "metadata": {},
   "outputs": [
    {
     "data": {
      "text/plain": [
       "[1, 4, 9, 16, 25, 36]"
      ]
     },
     "execution_count": 26,
     "metadata": {},
     "output_type": "execute_result"
    }
   ],
   "source": [
    "## map\n",
    "numbers=[1,2,3,4,5,6]\n",
    "list(map(lambda x:x**2,numbers))"
   ]
  },
  {
   "cell_type": "code",
   "execution_count": 28,
   "id": "adf302f9-4988-419b-9e44-4a1ba0ccde03",
   "metadata": {},
   "outputs": [],
   "source": [
    "## def function with map\n",
    "def square (x):\n",
    "    return x*x"
   ]
  },
  {
   "cell_type": "code",
   "execution_count": 29,
   "id": "3a9fe390-b9ad-4e3b-bcf4-ea00b9f4fee2",
   "metadata": {},
   "outputs": [
    {
     "data": {
      "text/plain": [
       "[1, 4, 9, 16, 25, 36, 49, 64, 81]"
      ]
     },
     "execution_count": 29,
     "metadata": {},
     "output_type": "execute_result"
    }
   ],
   "source": [
    "num=[1,2,3,4,5,6,7,8,9]\n",
    "list(map(square,num))"
   ]
  },
  {
   "cell_type": "code",
   "execution_count": 30,
   "id": "962b3903-65c2-4a31-b867-4cb530513548",
   "metadata": {},
   "outputs": [
    {
     "data": {
      "text/plain": [
       "[1, 4, 9, 16, 25, 36, 49]"
      ]
     },
     "execution_count": 30,
     "metadata": {},
     "output_type": "execute_result"
    }
   ],
   "source": [
    "## lambda function with map\n",
    "nu=[1,2,3,4,5,6,7]\n",
    "list(map(lambda x:x*x,nu))\n"
   ]
  },
  {
   "cell_type": "code",
   "execution_count": 2,
   "id": "7de7fda2-3870-40c5-b6c1-f46f2b32f300",
   "metadata": {},
   "outputs": [
    {
     "name": "stdout",
     "output_type": "stream",
     "text": [
      "[5, 7, 9]\n"
     ]
    }
   ],
   "source": [
    "n1=[1,2,3]\n",
    "n2=[4,5,6]\n",
    "add_number=list(map(lambda x,y:x+y,n1,n2))\n",
    "print(add_number)"
   ]
  },
  {
   "cell_type": "code",
   "execution_count": 9,
   "id": "f63ca580-dee5-4154-b89d-6bbd91719e04",
   "metadata": {},
   "outputs": [],
   "source": [
    "def even(num):\n",
    "    if num%2==0:\n",
    "        return True\n",
    "   \n"
   ]
  },
  {
   "cell_type": "code",
   "execution_count": 10,
   "id": "3047de88-6783-4571-bac6-cc7fb6ea5c0c",
   "metadata": {},
   "outputs": [
    {
     "data": {
      "text/plain": [
       "[None, True, None, True, None, True, None, True, None]"
      ]
     },
     "execution_count": 10,
     "metadata": {},
     "output_type": "execute_result"
    }
   ],
   "source": [
    "lst=[1,2,3,4,5,6,7,8,9]\n",
    "list(map(even,lst))"
   ]
  },
  {
   "cell_type": "code",
   "execution_count": 14,
   "id": "acbb7234-9ee6-4203-a755-9c4960cf40ab",
   "metadata": {},
   "outputs": [
    {
     "data": {
      "text/plain": [
       "[2, 4, 6, 8]"
      ]
     },
     "execution_count": 14,
     "metadata": {},
     "output_type": "execute_result"
    }
   ],
   "source": [
    "## filter\n",
    "list(filter(even,lst))"
   ]
  },
  {
   "cell_type": "code",
   "execution_count": 15,
   "id": "01b62f56-0f2b-4ddc-a9da-e9daac90e440",
   "metadata": {},
   "outputs": [
    {
     "name": "stdout",
     "output_type": "stream",
     "text": [
      "[6, 7, 8, 9, 10]\n"
     ]
    }
   ],
   "source": [
    "## filter with lambda function\n",
    "num=[1,2,3,4,5,6,7,8,9,10]\n",
    "greater_than_five=list(filter(lambda x:x>5,num))\n",
    "print(greater_than_five)"
   ]
  },
  {
   "cell_type": "code",
   "execution_count": 16,
   "id": "26b9c567-4607-44d9-b658-774f58cadf0c",
   "metadata": {},
   "outputs": [
    {
     "name": "stdout",
     "output_type": "stream",
     "text": [
      "[4, 6, 8]\n"
     ]
    }
   ],
   "source": [
    "n=[1,2,3,4,5,6,7,8]\n",
    "greater_than_two_and_even=list(filter(lambda x:x>2 and x%2==0,n))\n",
    "print(greater_than_two_and_even)"
   ]
  },
  {
   "cell_type": "code",
   "execution_count": 19,
   "id": "7c1d2469-431b-47e4-9bd4-ab7816acf33f",
   "metadata": {},
   "outputs": [
    {
     "data": {
      "text/plain": [
       "[{'name': 'rakshith', 'age': 30}]"
      ]
     },
     "execution_count": 19,
     "metadata": {},
     "output_type": "execute_result"
    }
   ],
   "source": [
    "st=[ {\"name\":\"preetham\",\"age\":24},{\"name\":\"rakshith\",\"age\":30},{\"name\":\"rakshitha\",\"age\":25} ]\n",
    "def age_greater_than_25(person):\n",
    "    return person['age']>25\n",
    "list(filter(age_greater_than_25,st))\n"
   ]
  },
  {
   "cell_type": "code",
   "execution_count": null,
   "id": "6f20540b-6bf6-477d-a364-b4b24dde1800",
   "metadata": {},
   "outputs": [],
   "source": []
  }
 ],
 "metadata": {
  "kernelspec": {
   "display_name": "Python 3 (ipykernel)",
   "language": "python",
   "name": "python3"
  },
  "language_info": {
   "codemirror_mode": {
    "name": "ipython",
    "version": 3
   },
   "file_extension": ".py",
   "mimetype": "text/x-python",
   "name": "python",
   "nbconvert_exporter": "python",
   "pygments_lexer": "ipython3",
   "version": "3.13.0"
  }
 },
 "nbformat": 4,
 "nbformat_minor": 5
}
