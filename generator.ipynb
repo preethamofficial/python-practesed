{
 "cells": [
  {
   "cell_type": "code",
   "execution_count": 10,
   "id": "2b4d75c9-ed6b-438d-9dfd-fa3f624947cc",
   "metadata": {},
   "outputs": [
    {
     "name": "stdout",
     "output_type": "stream",
     "text": [
      "preetham\n",
      "reddy\n",
      "64\n"
     ]
    }
   ],
   "source": [
    "def generator(x):\n",
    "    yield 'preetham'\n",
    "    yield 'reddy'\n",
    "    yield x**2\n",
    "new=generator(8)\n",
    "print(next(new))\n",
    "print(next(new))\n",
    "print(next(new))"
   ]
  },
  {
   "cell_type": "code",
   "execution_count": 11,
   "id": "5a201d10-6a8a-40e8-bcdc-f90067f775cc",
   "metadata": {},
   "outputs": [
    {
     "data": {
      "text/plain": [
       "<generator object generator at 0x000001F863CADD80>"
      ]
     },
     "execution_count": 11,
     "metadata": {},
     "output_type": "execute_result"
    }
   ],
   "source": [
    "new"
   ]
  },
  {
   "cell_type": "code",
   "execution_count": null,
   "id": "c95d2552-dab6-4b58-8e0c-a33d5d2455b8",
   "metadata": {},
   "outputs": [],
   "source": []
  },
  {
   "cell_type": "code",
   "execution_count": null,
   "id": "851226da-f40c-46a7-92a4-cffd03941ef7",
   "metadata": {},
   "outputs": [],
   "source": []
  }
 ],
 "metadata": {
  "kernelspec": {
   "display_name": "Python 3 (ipykernel)",
   "language": "python",
   "name": "python3"
  },
  "language_info": {
   "codemirror_mode": {
    "name": "ipython",
    "version": 3
   },
   "file_extension": ".py",
   "mimetype": "text/x-python",
   "name": "python",
   "nbconvert_exporter": "python",
   "pygments_lexer": "ipython3",
   "version": "3.13.0"
  }
 },
 "nbformat": 4,
 "nbformat_minor": 5
}
