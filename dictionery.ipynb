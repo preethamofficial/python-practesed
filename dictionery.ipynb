{
 "cells": [
  {
   "cell_type": "code",
   "execution_count": 1,
   "id": "00791f42-2097-4bfe-ae82-d6e4db99cbcb",
   "metadata": {},
   "outputs": [
    {
     "name": "stdout",
     "output_type": "stream",
     "text": [
      "<class 'set'>\n"
     ]
    }
   ],
   "source": [
    "my_set={1,2,3,4,5,6,7}\n",
    "print(type(my_set))"
   ]
  },
  {
   "cell_type": "code",
   "execution_count": 2,
   "id": "a52194e2-b0e0-43c3-9239-7019539f3fc9",
   "metadata": {},
   "outputs": [
    {
     "name": "stdout",
     "output_type": "stream",
     "text": [
      "{1, 2, 3, 4, 5, 6, 7}\n"
     ]
    }
   ],
   "source": [
    "my_set.add(3)\n",
    "print(my_set)"
   ]
  },
  {
   "cell_type": "code",
   "execution_count": 13,
   "id": "73c1df2d-be3e-424c-b2f6-6e9ef2df91cb",
   "metadata": {},
   "outputs": [
    {
     "name": "stdout",
     "output_type": "stream",
     "text": [
      "set()\n"
     ]
    }
   ],
   "source": [
    "my_set.clear()\n",
    "print(my_set)"
   ]
  },
  {
   "cell_type": "code",
   "execution_count": 28,
   "id": "40390426-3368-4ba8-963f-b00ff642d3a5",
   "metadata": {},
   "outputs": [
    {
     "name": "stdout",
     "output_type": "stream",
     "text": [
      "{1, 2, 3, 4, 5, 6, 8, 9}\n"
     ]
    }
   ],
   "source": [
    "set={1,1,2,9,8,5,2,4,5,5,6,3,5,3}\n",
    "print(set)"
   ]
  },
  {
   "cell_type": "code",
   "execution_count": 29,
   "id": "b48ef271-d22c-403f-814b-67d208f94bb8",
   "metadata": {},
   "outputs": [],
   "source": [
    "set.remove(1)"
   ]
  },
  {
   "cell_type": "code",
   "execution_count": 30,
   "id": "444d3b8d-80b1-48b1-9739-0df9805e47ac",
   "metadata": {},
   "outputs": [
    {
     "name": "stdout",
     "output_type": "stream",
     "text": [
      "{2, 3, 4, 5, 6, 8, 9}\n"
     ]
    }
   ],
   "source": [
    "print(set)"
   ]
  },
  {
   "cell_type": "code",
   "execution_count": 31,
   "id": "a42382a9-1a96-44ac-ac02-47756f6c80bc",
   "metadata": {},
   "outputs": [
    {
     "name": "stdout",
     "output_type": "stream",
     "text": [
      "{2, 3, 4, 5, 6, 8, 9}\n"
     ]
    }
   ],
   "source": [
    "set.discard(1)   ## remove an element from a set if it a member or else it will conitnue with out error\n",
    "print(set)"
   ]
  },
  {
   "cell_type": "code",
   "execution_count": 32,
   "id": "255bf1d9-7019-4e76-8b13-0e2534f2eaf2",
   "metadata": {},
   "outputs": [
    {
     "name": "stdout",
     "output_type": "stream",
     "text": [
      "{2, 3, 4, 5, 8, 9}\n"
     ]
    }
   ],
   "source": [
    "set.discard(6)\n",
    "print(set)"
   ]
  },
  {
   "cell_type": "code",
   "execution_count": 33,
   "id": "ce37c877-4ff0-4273-822a-1bf2626c03bb",
   "metadata": {},
   "outputs": [
    {
     "name": "stdout",
     "output_type": "stream",
     "text": [
      "2\n",
      "{3, 4, 5, 8, 9}\n"
     ]
    }
   ],
   "source": [
    "remove_element=set.pop() ##   remove starting element\n",
    "print(remove_element)\n",
    "print(set)"
   ]
  },
  {
   "cell_type": "code",
   "execution_count": 18,
   "id": "67cb58dc-a3b2-418c-a717-1d7b78464a9d",
   "metadata": {},
   "outputs": [
    {
     "name": "stdout",
     "output_type": "stream",
     "text": [
      "{9}\n"
     ]
    }
   ],
   "source": [
    "print(set)"
   ]
  },
  {
   "cell_type": "code",
   "execution_count": 25,
   "id": "47c5f5be-2e94-411b-9b76-fa78b3b1a4eb",
   "metadata": {},
   "outputs": [],
   "source": [
    "set.clear()"
   ]
  },
  {
   "cell_type": "code",
   "execution_count": 26,
   "id": "64ac5013-91c3-4f7c-b34f-89483829dfb1",
   "metadata": {},
   "outputs": [
    {
     "name": "stdout",
     "output_type": "stream",
     "text": [
      "set()\n"
     ]
    }
   ],
   "source": [
    "print(set)"
   ]
  },
  {
   "cell_type": "code",
   "execution_count": 29,
   "id": "25a5bbb2-5bfb-4d01-b1be-ca706cfc24d5",
   "metadata": {},
   "outputs": [
    {
     "name": "stdout",
     "output_type": "stream",
     "text": [
      "False\n",
      "True\n"
     ]
    }
   ],
   "source": [
    "## set membership test\n",
    "my_set={1,2,3,4,5,6}\n",
    "print(4 in my_set)"
   ]
  },
  {
   "cell_type": "code",
   "execution_count": 40,
   "id": "2a1a358e-e736-412e-b4a9-ae55bc8f9d0b",
   "metadata": {},
   "outputs": [
    {
     "name": "stdout",
     "output_type": "stream",
     "text": [
      "{1, 2, 3, 4, 5, 6, 7, 8, 9}\n",
      "{4, 5, 6}\n",
      "{1, 2, 3, 4, 5, 6}\n",
      "{4, 5, 6}\n",
      "{1, 2, 3}\n",
      "set()\n"
     ]
    }
   ],
   "source": [
    "## mathematical operation\n",
    "s1={1,2,3,4,5,6}\n",
    "s2={4,5,6,7,8,9}\n",
    "## union (combining all)\n",
    "union_set=s1.union(s2)\n",
    "print(union_set)\n",
    "## intersection ( only same value)\n",
    "in_set=s1.intersection(s2)\n",
    "print(in_set)\n",
    "## intersection update(common element and update it in s1/s2)\n",
    "s2.intersection_update(s1)\n",
    "print(s1)\n",
    "print(s2)\n",
    "## differnce (find the differnt values)\n",
    "print(s1.difference(s2))\n",
    "print(s2.difference(s1))## because in back top updated s2 as 4 5 6 so it empty"
   ]
  },
  {
   "cell_type": "code",
   "execution_count": 51,
   "id": "161c7908-f176-4136-932b-dd467e88a77d",
   "metadata": {},
   "outputs": [
    {
     "name": "stdout",
     "output_type": "stream",
     "text": [
      "{1, 2, 3, 4}\n",
      "{5, 6, 7}\n",
      "False\n",
      "False\n"
     ]
    }
   ],
   "source": [
    "## symmetrical differnce (uncommon value it will display)\n",
    "s1={1,2,3, 4,5,6,7}\n",
    "s2={5,6,7,8,9,8,9}\n",
    "print(s1.symmetric_difference(s2))\n",
    "print(s2)\n",
    "print(s1.issubset(s2))     ##  is subset\n",
    "print(s2.issuperset(s1))   ## is superset"
   ]
  },
  {
   "cell_type": "code",
   "execution_count": 52,
   "id": "e4010712-64ef-47a0-86a7-81f845bc63dc",
   "metadata": {},
   "outputs": [
    {
     "name": "stdout",
     "output_type": "stream",
     "text": [
      "True\n"
     ]
    }
   ],
   "source": [
    "## is superset\n",
    "s1={1,2,3,4,5,6,7}\n",
    "s2={4,5,6,7}\n",
    "print(s1.issuperset(s2))"
   ]
  },
  {
   "cell_type": "code",
   "execution_count": 2,
   "id": "98b066d5-9a60-427b-b24b-f2fb2378dbdf",
   "metadata": {},
   "outputs": [
    {
     "name": "stdout",
     "output_type": "stream",
     "text": [
      "{'reddy', 'name', 'is', 'my', 'preetham'}\n",
      "5\n"
     ]
    }
   ],
   "source": [
    "## counting unique words in text\n",
    "text=\"my name is preetham reddy\"\n",
    "words=text.split()\n",
    "## convert list to set \n",
    "unique_words=set(words)\n",
    "print(unique_words)\n",
    "print(len(unique_words))\n"
   ]
  },
  {
   "cell_type": "code",
   "execution_count": 1,
   "id": "29a4715d-694e-4ce1-8aec-c3e6a6e9c8fa",
   "metadata": {},
   "outputs": [
    {
     "name": "stdout",
     "output_type": "stream",
     "text": [
      "{'text', 'words', 'sample', 'a', 'repeated', 'is', 'some', 'This', 'with'}\n",
      "9\n"
     ]
    }
   ],
   "source": [
    "text = \"This is a sample text with some words repeated repeated\"\n",
    "words = text.split()\n",
    "\n",
    "# Rename any conflicting variables\n",
    "my_unique_words = set(words)\n",
    "\n",
    "print(my_unique_words)\n",
    "print(len(my_unique_words))\n"
   ]
  },
  {
   "cell_type": "code",
   "execution_count": null,
   "id": "845e1a5a-d250-4da9-a815-963c8c034ea7",
   "metadata": {},
   "outputs": [],
   "source": [
    "## []  for empty list\n",
    "## () for tupel\n",
    "## {} for dictionery"
   ]
  },
  {
   "cell_type": "code",
   "execution_count": 8,
   "id": "fa352e52-3b09-47d5-94c2-7251ba35ee79",
   "metadata": {},
   "outputs": [
    {
     "name": "stdout",
     "output_type": "stream",
     "text": [
      "{}\n",
      "<class 'dict'>\n"
     ]
    }
   ],
   "source": [
    "## empty dictionery\n",
    "emp_dic={}\n",
    "print(emp_dic)\n",
    "print(type(emp_dic))"
   ]
  },
  {
   "cell_type": "code",
   "execution_count": 13,
   "id": "f715d517-58c0-45d0-a551-9e3a3a04b15d",
   "metadata": {},
   "outputs": [
    {
     "name": "stdout",
     "output_type": "stream",
     "text": [
      "{}\n"
     ]
    },
    {
     "data": {
      "text/plain": [
       "dict"
      ]
     },
     "execution_count": 13,
     "metadata": {},
     "output_type": "execute_result"
    }
   ],
   "source": [
    "## empty dictionery another way\n",
    "emp_dic=dict()\n",
    "print(emp_dic)\n",
    "type(emp_dic)"
   ]
  },
  {
   "cell_type": "code",
   "execution_count": 3,
   "id": "8f3a0118-dbc1-44e6-9e5a-9c9473040507",
   "metadata": {},
   "outputs": [
    {
     "name": "stdout",
     "output_type": "stream",
     "text": [
      "{'name': 'preetham reddy', 'age': '19', 'branch': 'ise', 'sem': '4', 'college': 'brindavan college'}\n",
      "<class 'dict'>\n"
     ]
    }
   ],
   "source": [
    "## creating dictionery\n",
    "student={\"name\": \"preetham reddy\",\"age\":\"19\",\"branch\":\"ise\",\"sem\":\"4\",\"college\":\"brindavan college\"}\n",
    "print(student)\n",
    "print(type(student))"
   ]
  },
  {
   "cell_type": "code",
   "execution_count": 4,
   "id": "589ef059-b344-466e-ac0f-49e5ed7263f6",
   "metadata": {},
   "outputs": [
    {
     "name": "stdout",
     "output_type": "stream",
     "text": [
      "preetham reddy\n"
     ]
    }
   ],
   "source": [
    "## acccesing direct element\n",
    "print(student['name'])\n"
   ]
  },
  {
   "cell_type": "code",
   "execution_count": 5,
   "id": "b2d1d146-c92a-4c63-b49e-8c0a4b52eacc",
   "metadata": {},
   "outputs": [
    {
     "name": "stdout",
     "output_type": "stream",
     "text": [
      "4\n"
     ]
    }
   ],
   "source": [
    "print(student['sem'])"
   ]
  },
  {
   "cell_type": "code",
   "execution_count": 6,
   "id": "4a634557-0c83-46cd-b447-1dd003ecb884",
   "metadata": {},
   "outputs": [
    {
     "name": "stdout",
     "output_type": "stream",
     "text": [
      "brindavan college\n",
      "None\n",
      "not avilable\n"
     ]
    }
   ],
   "source": [
    "## accesing by get\n",
    "print(student.get('college'))\n",
    "print(student.get('last_name'))\n",
    "print(student.get('last_name','not avilable')) "
   ]
  },
  {
   "cell_type": "code",
   "execution_count": 7,
   "id": "c7630abe-686a-4e7b-a9a8-3cce794253c4",
   "metadata": {},
   "outputs": [
    {
     "name": "stdout",
     "output_type": "stream",
     "text": [
      "{'name': 'preetham reddy', 'age': '19', 'branch': 'information science', 'sem': '4', 'college': 'brindavan college'}\n",
      "{'name': 'preetham reddy', 'age': 18, 'branch': 'information science', 'sem': '4', 'college': 'brindavan college'}\n",
      "{'name': 'preetham reddy', 'age': 18, 'branch': 'information science', 'sem': '4', 'college': 'brindavan college', 'adddress': 'sri nandini pg'}\n",
      "{'name': 'preetham reddy', 'branch': 'information science', 'sem': '4', 'college': 'brindavan college', 'adddress': 'sri nandini pg'}\n"
     ]
    }
   ],
   "source": [
    "## addind updating element delete in dictonery\n",
    "student[\"branch\"]=\"information science\" ## update\n",
    "print(student)\n",
    "student[\"age\"]=18  ## updating\n",
    "print(student)\n",
    "student[\"adddress\"]=\"sri nandini pg\" ## adding\n",
    "print(student)\n",
    "del student['age']\n",
    "print(student)"
   ]
  },
  {
   "cell_type": "code",
   "execution_count": 8,
   "id": "6b677e32-e591-4c23-8d10-84ab9aff92ac",
   "metadata": {},
   "outputs": [
    {
     "name": "stdout",
     "output_type": "stream",
     "text": [
      "dict_keys(['name', 'branch', 'sem', 'college', 'adddress'])\n",
      "dict_values(['preetham reddy', 'information science', '4', 'brindavan college', 'sri nandini pg'])\n",
      "dict_items([('name', 'preetham reddy'), ('branch', 'information science'), ('sem', '4'), ('college', 'brindavan college'), ('adddress', 'sri nandini pg')])\n"
     ]
    }
   ],
   "source": [
    "## define theall the keys ,values ,key value pairs\n",
    "keys=student.keys()   ## keys\n",
    "print(keys)\n",
    "value=student.values() ##values\n",
    "print(value)\n",
    "items=student.items()  ##item\n",
    "print(items)"
   ]
  },
  {
   "cell_type": "code",
   "execution_count": 9,
   "id": "90684632-193c-4085-ac9f-b99ceb4941eb",
   "metadata": {},
   "outputs": [
    {
     "data": {
      "text/plain": [
       "{'name': 'preetham reddy',\n",
       " 'branch': 'information science',\n",
       " 'sem': '4',\n",
       " 'college': 'brindavan college',\n",
       " 'adddress': 'sri nandini pg'}"
      ]
     },
     "execution_count": 9,
     "metadata": {},
     "output_type": "execute_result"
    }
   ],
   "source": [
    "student"
   ]
  },
  {
   "cell_type": "code",
   "execution_count": 10,
   "id": "6629b034-af84-4267-bda6-9a93cd18e35d",
   "metadata": {},
   "outputs": [
    {
     "name": "stdout",
     "output_type": "stream",
     "text": [
      "{'name': 'preetham reddy', 'branch': 'information science', 'sem': '4', 'college': 'brindavan college', 'adddress': 'sri nandini pg'}\n",
      "{'name': 'preetham reddy', 'branch': 'information science', 'sem': '4', 'college': 'brindavan college', 'adddress': 'sri nandini pg'}\n"
     ]
    }
   ],
   "source": [
    "##  shallow copy (if we update any value in student it will update in student_details)\n",
    "student_details=student\n",
    "print(student)\n",
    "print(student_details)"
   ]
  },
  {
   "cell_type": "code",
   "execution_count": 11,
   "id": "3b4155de-433b-48d0-98eb-0bf4803a4102",
   "metadata": {},
   "outputs": [
    {
     "name": "stdout",
     "output_type": "stream",
     "text": [
      "{'name': 'preetham', 'branch': 'information science', 'sem': '4', 'college': 'brindavan college', 'adddress': 'sri nandini pg'}\n",
      "{'name': 'preetham', 'branch': 'information science', 'sem': '4', 'college': 'brindavan college', 'adddress': 'sri nandini pg'}\n"
     ]
    }
   ],
   "source": [
    "student[\"name\"]=\"preetham\"\n",
    "print(student)\n",
    "print(student_details)"
   ]
  },
  {
   "cell_type": "code",
   "execution_count": 12,
   "id": "bffeed97-fba8-4a88-89ea-0581287bc73e",
   "metadata": {},
   "outputs": [
    {
     "name": "stdout",
     "output_type": "stream",
     "text": [
      "{'name': 'preetham', 'branch': 'information science', 'sem': '4', 'college': 'brindavan college', 'adddress': 'sri nandini pg'}\n",
      "{'name': 'preetham', 'branch': 'information science', 'sem': '4', 'college': 'brindavan college', 'adddress': 'sri nandini pg'}\n"
     ]
    }
   ],
   "source": [
    "## shallow copy  (if we update any value in student it won't update in student_details)\n",
    "student_copy=student.copy()\n",
    "print(student_copy)\n",
    "print(student)"
   ]
  },
  {
   "cell_type": "code",
   "execution_count": 13,
   "id": "dee4b037-2e10-4ed5-9a1d-f2133abdc494",
   "metadata": {},
   "outputs": [
    {
     "name": "stdout",
     "output_type": "stream",
     "text": [
      "{'name': 'preetham reddy', 'branch': 'information science', 'sem': '4', 'college': 'brindavan college', 'adddress': 'sri nandini pg'}\n",
      "{'name': 'preetham', 'branch': 'information science', 'sem': '4', 'college': 'brindavan college', 'adddress': 'sri nandini pg'}\n"
     ]
    }
   ],
   "source": [
    "## shallow copy \n",
    "student[\"name\"]=\"preetham reddy\"\n",
    "print(student)\n",
    "print(student_copy)"
   ]
  },
  {
   "cell_type": "code",
   "execution_count": 17,
   "id": "ada76027-4e75-4652-bebf-7ebe04c76905",
   "metadata": {},
   "outputs": [
    {
     "name": "stdout",
     "output_type": "stream",
     "text": [
      "name\n",
      "branch\n",
      "sem\n",
      "college\n",
      "adddress\n",
      "preetham reddy\n",
      "information science\n",
      "4\n",
      "brindavan college\n",
      "sri nandini pg\n",
      "('name', 'preetham reddy')\n",
      "('branch', 'information science')\n",
      "('sem', '4')\n",
      "('college', 'brindavan college')\n",
      "('adddress', 'sri nandini pg')\n"
     ]
    }
   ],
   "source": [
    "## iterate for keys , values and key value pairs\n",
    "for keys in student.keys():\n",
    "    print(keys)\n",
    "for values in student.values():\n",
    "    print(values)\n",
    "for item in student.items():\n",
    "    print(item)"
   ]
  },
  {
   "cell_type": "code",
   "execution_count": 18,
   "id": "eaa79e9a-bb18-4201-93a9-04192bf56555",
   "metadata": {},
   "outputs": [
    {
     "name": "stdout",
     "output_type": "stream",
     "text": [
      "name:preetham reddy\n",
      "branch:information science\n",
      "sem:4\n",
      "college:brindavan college\n",
      "adddress:sri nandini pg\n"
     ]
    }
   ],
   "source": [
    "## iterate over key value pairs\n",
    "for key,value in student.items():\n",
    "    print(f\"{key}:{value}\")"
   ]
  },
  {
   "cell_type": "code",
   "execution_count": 3,
   "id": "f144f5b8-04e9-473a-9771-33bfcb0f0e98",
   "metadata": {},
   "outputs": [
    {
     "name": "stdout",
     "output_type": "stream",
     "text": [
      "{'student1': {'name': 'preetham', 'age': 19}, 'student2': {'name': 'rakshith', 'age': 19}}\n"
     ]
    }
   ],
   "source": [
    "## nested dictioneries\n",
    "student={ \"student1\":{\"name\":\"preetham\",\"age\":19},\"student2\":{\"name\":\"rakshith\",\"age\":19} }\n",
    "print(student)"
   ]
  },
  {
   "cell_type": "code",
   "execution_count": 4,
   "id": "9b387f51-c578-4215-b110-80c20f49e8fe",
   "metadata": {},
   "outputs": [
    {
     "name": "stdout",
     "output_type": "stream",
     "text": [
      "{'name': 'preetham', 'age': 19}\n",
      "{'name': 'rakshith', 'age': 19}\n",
      "preetham\n",
      "rakshith\n"
     ]
    }
   ],
   "source": [
    "## access nested dictionery\n",
    "print(student[\"student1\"])\n",
    "print(student[\"student2\"])\n",
    "print(student[\"student1\"][\"name\"])\n",
    "print(student[\"student2\"][\"name\"])"
   ]
  },
  {
   "cell_type": "code",
   "execution_count": 13,
   "id": "55cce7ce-e39d-485c-85a0-1a71b1a89f05",
   "metadata": {},
   "outputs": [
    {
     "data": {
      "text/plain": [
       "dict_items([('student1', {'name': 'preetham', 'age': 19}), ('student2', {'name': 'rakshith', 'age': 19})])"
      ]
     },
     "execution_count": 13,
     "metadata": {},
     "output_type": "execute_result"
    }
   ],
   "source": [
    "student.items()"
   ]
  },
  {
   "cell_type": "code",
   "execution_count": 18,
   "id": "9bf01eb6-7847-4dfa-84b2-efa7c0bf1abf",
   "metadata": {},
   "outputs": [
    {
     "name": "stdout",
     "output_type": "stream",
     "text": [
      "student1,{'name': 'preetham', 'age': 19}\n",
      "name:preetham\n",
      "age:19\n",
      "student2,{'name': 'rakshith', 'age': 19}\n",
      "name:rakshith\n",
      "age:19\n"
     ]
    }
   ],
   "source": [
    "##iterate over nested dictionary\n",
    "for student_id,student_info in student.items():\n",
    "    print(f\"{student_id},{student_info}\")\n",
    "    for key,value in student_info.items():\n",
    "        print(f\"{key}:{value}\")"
   ]
  },
  {
   "cell_type": "code",
   "execution_count": 19,
   "id": "b9400895-2a79-4ba1-ac76-75f4ec600ee9",
   "metadata": {},
   "outputs": [
    {
     "name": "stdout",
     "output_type": "stream",
     "text": [
      "{0: 0, 1: 1, 2: 4, 3: 9, 4: 16, 5: 25}\n"
     ]
    }
   ],
   "source": [
    "## dictionary comphrension\n",
    "square={x:x**2 for x in range(6)}\n",
    "print(square)"
   ]
  },
  {
   "cell_type": "code",
   "execution_count": 22,
   "id": "3f0aeba3-de21-4161-a9c3-0491a483cbd8",
   "metadata": {},
   "outputs": [
    {
     "name": "stdout",
     "output_type": "stream",
     "text": [
      "{0: 0, 2: 4, 4: 16, 6: 36, 8: 64}\n",
      "<class 'dict'>\n"
     ]
    }
   ],
   "source": [
    "##  condition dictionary comphrension\n",
    "square={x:x**2 for x in range(10) if x%2==0}\n",
    "print(square)\n",
    "print(type(square))"
   ]
  },
  {
   "cell_type": "code",
   "execution_count": 4,
   "id": "05930d8f-c2d1-43ab-a959-abe12eb3df5a",
   "metadata": {},
   "outputs": [
    {
     "name": "stdout",
     "output_type": "stream",
     "text": [
      "{1: 1, 2: 3, 3: 2, 4: 3, 5: 1, 6: 2, 8: 1, 7: 2, 9: 1}\n"
     ]
    }
   ],
   "source": [
    "## count the frequency of element in list\n",
    "num=[1,2,3,4,5,6,6,8,7,2,7,4,3,9,2,4]\n",
    "frequency={}\n",
    "\n",
    "for nu in num:\n",
    "    if nu in frequency:\n",
    "        frequency[nu]+=1\n",
    "    else:\n",
    "        frequency[nu]=1\n",
    "print(frequency)"
   ]
  },
  {
   "cell_type": "code",
   "execution_count": 8,
   "id": "d64f952d-a38b-418b-b216-f404c1c26beb",
   "metadata": {},
   "outputs": [
    {
     "name": "stdout",
     "output_type": "stream",
     "text": [
      "{'names': 'preetham', 'ages': 19, 'name': 'rakshith', 'age': 19}\n"
     ]
    }
   ],
   "source": [
    "## merge dictionery\n",
    "dict1={\"names\":\"preetham\",\"ages\":19}\n",
    "dict2={\"name\":\"rakshith\",\"age\":19}\n",
    "merge_dict={**dict1,**dict2}\n",
    "print(merge_dict)"
   ]
  },
  {
   "cell_type": "code",
   "execution_count": null,
   "id": "6dcc2e87-2e27-4dbb-ab8e-fb709e3d475d",
   "metadata": {},
   "outputs": [],
   "source": []
  }
 ],
 "metadata": {
  "kernelspec": {
   "display_name": "Python 3 (ipykernel)",
   "language": "python",
   "name": "python3"
  },
  "language_info": {
   "codemirror_mode": {
    "name": "ipython",
    "version": 3
   },
   "file_extension": ".py",
   "mimetype": "text/x-python",
   "name": "python",
   "nbconvert_exporter": "python",
   "pygments_lexer": "ipython3",
   "version": "3.13.0"
  }
 },
 "nbformat": 4,
 "nbformat_minor": 5
}
