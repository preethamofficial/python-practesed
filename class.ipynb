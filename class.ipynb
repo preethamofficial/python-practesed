{
 "cells": [
  {
   "cell_type": "code",
   "execution_count": 1,
   "id": "13c84387-6862-43da-9534-81d8fc6ba7fc",
   "metadata": {},
   "outputs": [],
   "source": [
    "class dog():\n",
    "    def __init__(self,breed,name,spots):\n",
    "        self.breed=breed\n",
    "        self.name=name\n",
    "        self.spots=spots"
   ]
  },
  {
   "cell_type": "code",
   "execution_count": 4,
   "id": "87ea745a-da2a-4038-9abe-6ac8dfa7ca79",
   "metadata": {},
   "outputs": [
    {
     "name": "stdin",
     "output_type": "stream",
     "text": [
      "enter breed of your dog: huski\n",
      "enter name of your dog: killer\n",
      "enter the spots of your dog: no spots\n"
     ]
    }
   ],
   "source": [
    "breed=str(input(\"enter breed of your dog:\"))\n",
    "name=str(input(\"enter name of your dog:\"))\n",
    "spots=str(input(\"enter the spots of your dog:\"))\n",
    "my_dogs=dog(breed,name,spots)"
   ]
  },
  {
   "cell_type": "code",
   "execution_count": 8,
   "id": "769ce90b-7ce7-4628-83f4-20d786f5b442",
   "metadata": {},
   "outputs": [
    {
     "data": {
      "text/plain": [
       "__main__.dog"
      ]
     },
     "execution_count": 8,
     "metadata": {},
     "output_type": "execute_result"
    }
   ],
   "source": [
    "type(my_dogs)"
   ]
  },
  {
   "cell_type": "code",
   "execution_count": 9,
   "id": "ec05e525-acd9-4ec1-8bb4-e28508339ef4",
   "metadata": {},
   "outputs": [
    {
     "data": {
      "text/plain": [
       "'killer'"
      ]
     },
     "execution_count": 9,
     "metadata": {},
     "output_type": "execute_result"
    }
   ],
   "source": [
    "my_dogs.name"
   ]
  },
  {
   "cell_type": "code",
   "execution_count": 10,
   "id": "292af9ae-a48c-496a-84f9-91e9915ded56",
   "metadata": {},
   "outputs": [],
   "source": [
    "class dog():\n",
    "    species='mammal'\n",
    "    def __init__(self,breed,name,spots):\n",
    "        self.breed=breed\n",
    "        self.name=name\n",
    "        self.spots=spots"
   ]
  },
  {
   "cell_type": "code",
   "execution_count": 11,
   "id": "e155f6f8-6393-4e31-ae9c-b492692e8829",
   "metadata": {},
   "outputs": [
    {
     "name": "stdin",
     "output_type": "stream",
     "text": [
      "enter breed of your dog: lab\n",
      "enter name of your dog: harry\n",
      "enter the spots of your dog: false\n"
     ]
    }
   ],
   "source": [
    "breed=str(input(\"enter breed of your dog:\"))\n",
    "name=str(input(\"enter name of your dog:\"))\n",
    "spots=str(input(\"enter the spots of your dog:\"))\n",
    "my_dogs=dog(breed,name,spots)"
   ]
  },
  {
   "cell_type": "code",
   "execution_count": 12,
   "id": "898f9ddd-3f12-409a-8198-86b9044c54ca",
   "metadata": {},
   "outputs": [
    {
     "data": {
      "text/plain": [
       "'mammal'"
      ]
     },
     "execution_count": 12,
     "metadata": {},
     "output_type": "execute_result"
    }
   ],
   "source": [
    "my_dogs.species"
   ]
  },
  {
   "cell_type": "code",
   "execution_count": 13,
   "id": "fbc89ea9-99a8-459e-b0a0-e9b1e706953a",
   "metadata": {},
   "outputs": [
    {
     "data": {
      "text/plain": [
       "'false'"
      ]
     },
     "execution_count": 13,
     "metadata": {},
     "output_type": "execute_result"
    }
   ],
   "source": [
    "my_dogs.spots"
   ]
  },
  {
   "cell_type": "code",
   "execution_count": 14,
   "id": "b9c31806-efd4-462e-bbea-dc005d8f5876",
   "metadata": {},
   "outputs": [
    {
     "data": {
      "text/plain": [
       "'harry'"
      ]
     },
     "execution_count": 14,
     "metadata": {},
     "output_type": "execute_result"
    }
   ],
   "source": [
    "my_dogs.name"
   ]
  },
  {
   "cell_type": "code",
   "execution_count": 23,
   "id": "7c867e8b-f887-49ca-be29-0ac0557a6cda",
   "metadata": {},
   "outputs": [],
   "source": [
    "class dog():\n",
    "    species='mammal'\n",
    "    def __init__(self,breed,name):\n",
    "        self.breed=breed\n",
    "        self.name=name\n",
    "    def bark(self,num):\n",
    "        print('woof! my dog name is{}and number of dogs are{}'.format(self.name,num))\n",
    "        "
   ]
  },
  {
   "cell_type": "code",
   "execution_count": 24,
   "id": "cfb17a3d-a987-497e-9f5b-b35c2a0a38e1",
   "metadata": {},
   "outputs": [],
   "source": [
    "my_dog=dog('germansafard','janu')"
   ]
  },
  {
   "cell_type": "code",
   "execution_count": 26,
   "id": "fe012d6d-18d8-4877-8da0-aa48ba578ec5",
   "metadata": {},
   "outputs": [
    {
     "name": "stdout",
     "output_type": "stream",
     "text": [
      "woof! my dog name isjanuand number of dogs are4\n"
     ]
    }
   ],
   "source": [
    "my_dog.bark(4)"
   ]
  },
  {
   "cell_type": "code",
   "execution_count": 22,
   "id": "d155aa28-77bd-42e1-aaf3-c8f74ae84434",
   "metadata": {},
   "outputs": [
    {
     "data": {
      "text/plain": [
       "'janu'"
      ]
     },
     "execution_count": 22,
     "metadata": {},
     "output_type": "execute_result"
    }
   ],
   "source": [
    "my_dog.name"
   ]
  },
  {
   "cell_type": "code",
   "execution_count": 49,
   "id": "7a3fd9ee-f560-4721-a6a9-41c646a8e9f9",
   "metadata": {},
   "outputs": [],
   "source": [
    "class circle():\n",
    "    pi=3.14\n",
    "    def _init_(self,radius=9):   # this is error i  used only _init_ \n",
    "        self.radius=radius       # correct one is __init__\n",
    "        self.area=radius*radius*circle.pi\n",
    "    def get_circumference(self):\n",
    "        return self.radius*self.pi*2"
   ]
  },
  {
   "cell_type": "code",
   "execution_count": 53,
   "id": "744585fd-0d64-44fb-b888-2b7062057fe2",
   "metadata": {},
   "outputs": [],
   "source": [
    "my_circle=circle()"
   ]
  },
  {
   "cell_type": "code",
   "execution_count": null,
   "id": "e29f4d20-ecee-4e09-8c57-98c655d0c374",
   "metadata": {},
   "outputs": [],
   "source": [
    "my_circle."
   ]
  },
  {
   "cell_type": "code",
   "execution_count": 61,
   "id": "d3c63096-b6ee-43d7-a0fc-e472f62635b2",
   "metadata": {},
   "outputs": [
    {
     "ename": "AttributeError",
     "evalue": "'circle' object has no attribute 'radius'",
     "output_type": "error",
     "traceback": [
      "\u001b[1;31m---------------------------------------------------------------------------\u001b[0m",
      "\u001b[1;31mAttributeError\u001b[0m                            Traceback (most recent call last)",
      "Cell \u001b[1;32mIn[61], line 2\u001b[0m\n\u001b[0;32m      1\u001b[0m \u001b[38;5;66;03m# that why i got error\u001b[39;00m\n\u001b[1;32m----> 2\u001b[0m \u001b[43mmy_circle\u001b[49m\u001b[38;5;241;43m.\u001b[39;49m\u001b[43mget_circumference\u001b[49m\u001b[43m(\u001b[49m\u001b[43m)\u001b[49m\n",
      "Cell \u001b[1;32mIn[49], line 7\u001b[0m, in \u001b[0;36mcircle.get_circumference\u001b[1;34m(self)\u001b[0m\n\u001b[0;32m      6\u001b[0m \u001b[38;5;28;01mdef\u001b[39;00m \u001b[38;5;21mget_circumference\u001b[39m(\u001b[38;5;28mself\u001b[39m):\n\u001b[1;32m----> 7\u001b[0m     \u001b[38;5;28;01mreturn\u001b[39;00m \u001b[38;5;28;43mself\u001b[39;49m\u001b[38;5;241;43m.\u001b[39;49m\u001b[43mradius\u001b[49m\u001b[38;5;241m*\u001b[39m\u001b[38;5;28mself\u001b[39m\u001b[38;5;241m.\u001b[39mpi\u001b[38;5;241m*\u001b[39m\u001b[38;5;241m2\u001b[39m\n",
      "\u001b[1;31mAttributeError\u001b[0m: 'circle' object has no attribute 'radius'"
     ]
    }
   ],
   "source": [
    " # that why i got error\n",
    "my_circle.get_circumference()"
   ]
  },
  {
   "cell_type": "code",
   "execution_count": 55,
   "id": "7a9ea83c-461c-49a5-a5c9-1f637ede33ae",
   "metadata": {},
   "outputs": [],
   "source": [
    "class circle():\n",
    "    pi=3.14\n",
    "    def _init_(self,radius=9):\n",
    "          self.radius=radius\n",
    "        self.area=radius*radius*circle.pi"
   ]
  },
  {
   "cell_type": "code",
   "execution_count": 57,
   "id": "005f4ef3-0474-4d81-b0c8-4534c13d8bd7",
   "metadata": {},
   "outputs": [],
   "source": [
    "my_cir=circle()"
   ]
  },
  {
   "cell_type": "code",
   "execution_count": 58,
   "id": "85e602bc-c43f-4edb-aa9e-0874a81a95e4",
   "metadata": {},
   "outputs": [],
   "source": [
    "class Circle:\n",
    "    pi = 3.14\n",
    "    \n",
    "    def __init__(self, radius=9):\n",
    "        self.radius = radius\n",
    "        self.area = radius * radius * Circle.pi\n",
    "    \n",
    "    def get_circumference(self):\n",
    "        return self.radius * Circle.pi * 2"
   ]
  },
  {
   "cell_type": "code",
   "execution_count": 59,
   "id": "e8150631-0e0c-4b06-9c8a-4e3fe7aeedc2",
   "metadata": {},
   "outputs": [],
   "source": [
    "my_ci = Circle() "
   ]
  },
  {
   "cell_type": "code",
   "execution_count": 60,
   "id": "48c35cb9-f871-40aa-889f-06faf9b71547",
   "metadata": {},
   "outputs": [
    {
     "data": {
      "text/plain": [
       "254.34"
      ]
     },
     "execution_count": 60,
     "metadata": {},
     "output_type": "execute_result"
    }
   ],
   "source": [
    "my_ci.area"
   ]
  },
  {
   "cell_type": "code",
   "execution_count": 2,
   "id": "b3f13e13-7fd9-4703-be27-20fb1d89dc44",
   "metadata": {},
   "outputs": [],
   "source": [
    "class animal():\n",
    "    def __init__(self):\n",
    "        print(\"animal created\")\n",
    "    def who_am_i(self):\n",
    "        print(\"i am an animal\")\n",
    "    def eat(self):\n",
    "        print(\"i am eating\")"
   ]
  },
  {
   "cell_type": "code",
   "execution_count": 3,
   "id": "b70f85fd-d1f3-422a-8943-f66754f35265",
   "metadata": {},
   "outputs": [],
   "source": [
    "class dog(animal):\n",
    "    def __init__(self):\n",
    "        animal.__init__(self)\n",
    "        print(\"welcom dog\")"
   ]
  },
  {
   "cell_type": "code",
   "execution_count": 4,
   "id": "64e14548-3cd1-45cf-92c9-ca54a47ab583",
   "metadata": {},
   "outputs": [
    {
     "name": "stdout",
     "output_type": "stream",
     "text": [
      "animal created\n",
      "welcom dog\n"
     ]
    }
   ],
   "source": [
    "my_dg=dog()"
   ]
  },
  {
   "cell_type": "code",
   "execution_count": 5,
   "id": "1248bc26-d4d3-4a89-9e44-6fc50f2e55e0",
   "metadata": {},
   "outputs": [
    {
     "name": "stdout",
     "output_type": "stream",
     "text": [
      "i am eating\n"
     ]
    }
   ],
   "source": [
    "my_dg.eat()"
   ]
  },
  {
   "cell_type": "code",
   "execution_count": 6,
   "id": "652939d2-e4c7-47b8-8807-7e52b2144429",
   "metadata": {},
   "outputs": [
    {
     "name": "stdout",
     "output_type": "stream",
     "text": [
      "i am an animal\n"
     ]
    }
   ],
   "source": [
    "my_dg.who_am_i()"
   ]
  },
  {
   "cell_type": "code",
   "execution_count": null,
   "id": "3c078e13-c8f6-4e6f-9981-d38ddd2eea35",
   "metadata": {},
   "outputs": [],
   "source": []
  },
  {
   "cell_type": "code",
   "execution_count": null,
   "id": "877ba58f-481b-4799-8e79-7c8aab3b5a21",
   "metadata": {},
   "outputs": [],
   "source": []
  },
  {
   "cell_type": "code",
   "execution_count": null,
   "id": "a3c18dce-74dd-46a8-b501-117d053053b3",
   "metadata": {},
   "outputs": [],
   "source": []
  },
  {
   "cell_type": "code",
   "execution_count": null,
   "id": "362c217e-048c-400a-89bc-5ca4ff1fb9ae",
   "metadata": {},
   "outputs": [],
   "source": []
  }
 ],
 "metadata": {
  "kernelspec": {
   "display_name": "Python 3 (ipykernel)",
   "language": "python",
   "name": "python3"
  },
  "language_info": {
   "codemirror_mode": {
    "name": "ipython",
    "version": 3
   },
   "file_extension": ".py",
   "mimetype": "text/x-python",
   "name": "python",
   "nbconvert_exporter": "python",
   "pygments_lexer": "ipython3",
   "version": "3.13.0"
  }
 },
 "nbformat": 4,
 "nbformat_minor": 5
}
