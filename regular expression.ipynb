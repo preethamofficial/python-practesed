{
 "cells": [
  {
   "cell_type": "code",
   "execution_count": 1,
   "id": "6abae1d1-8416-459f-b79f-7a47b2f0629c",
   "metadata": {},
   "outputs": [],
   "source": [
    "text=\"the customer care number is (999)-888-8888 \""
   ]
  },
  {
   "cell_type": "code",
   "execution_count": 2,
   "id": "bcee6367-9e8b-49a5-b0ea-5f1592ba502e",
   "metadata": {},
   "outputs": [
    {
     "data": {
      "text/plain": [
       "False"
      ]
     },
     "execution_count": 2,
     "metadata": {},
     "output_type": "execute_result"
    }
   ],
   "source": [
    "\"phone\" in text"
   ]
  },
  {
   "cell_type": "code",
   "execution_count": 3,
   "id": "05dfbf61-6fa3-41f1-878c-48d9377c0381",
   "metadata": {},
   "outputs": [
    {
     "data": {
      "text/plain": [
       "True"
      ]
     },
     "execution_count": 3,
     "metadata": {},
     "output_type": "execute_result"
    }
   ],
   "source": [
    "\"customer\" in text"
   ]
  },
  {
   "cell_type": "code",
   "execution_count": 65,
   "id": "3fd29f4f-9443-4b9c-af7c-f2e936fdcab2",
   "metadata": {},
   "outputs": [],
   "source": [
    "import re"
   ]
  },
  {
   "cell_type": "code",
   "execution_count": 7,
   "id": "81eb4274-0bb9-4160-bf30-098b520eb9ea",
   "metadata": {},
   "outputs": [],
   "source": [
    "pattern= 'customer'"
   ]
  },
  {
   "cell_type": "code",
   "execution_count": 8,
   "id": "939677ee-a840-4de4-9fb0-1e7f0802c176",
   "metadata": {},
   "outputs": [
    {
     "data": {
      "text/plain": [
       "<re.Match object; span=(4, 12), match='customer'>"
      ]
     },
     "execution_count": 8,
     "metadata": {},
     "output_type": "execute_result"
    }
   ],
   "source": [
    "re.search(pattern,text)"
   ]
  },
  {
   "cell_type": "code",
   "execution_count": 11,
   "id": "49340b67-6a84-4e09-a72e-08e5dcda2e68",
   "metadata": {},
   "outputs": [],
   "source": [
    "pattern=\"not in text\""
   ]
  },
  {
   "cell_type": "code",
   "execution_count": 13,
   "id": "227f9f0b-1ec6-40e8-9112-3fb9f27aa381",
   "metadata": {},
   "outputs": [],
   "source": [
    "re.search(pattern,text)"
   ]
  },
  {
   "cell_type": "code",
   "execution_count": 14,
   "id": "c5ce54fe-a8e8-4da1-aca2-93ecbc7a9b6f",
   "metadata": {},
   "outputs": [],
   "source": [
    "pattern= 'customer'"
   ]
  },
  {
   "cell_type": "code",
   "execution_count": 15,
   "id": "d4aa930f-0113-4cb4-a1bb-388dafa3f1ca",
   "metadata": {},
   "outputs": [],
   "source": [
    "ma=re.search(pattern,text)"
   ]
  },
  {
   "cell_type": "code",
   "execution_count": 16,
   "id": "911c1123-b4fd-4bc6-8f17-360089ce87f2",
   "metadata": {},
   "outputs": [
    {
     "data": {
      "text/plain": [
       "<re.Match object; span=(4, 12), match='customer'>"
      ]
     },
     "execution_count": 16,
     "metadata": {},
     "output_type": "execute_result"
    }
   ],
   "source": [
    "ma"
   ]
  },
  {
   "cell_type": "code",
   "execution_count": 18,
   "id": "f0bc0995-2342-442c-a4da-d74207406a5f",
   "metadata": {},
   "outputs": [
    {
     "data": {
      "text/plain": [
       "(4, 12)"
      ]
     },
     "execution_count": 18,
     "metadata": {},
     "output_type": "execute_result"
    }
   ],
   "source": [
    "ma.span()"
   ]
  },
  {
   "cell_type": "code",
   "execution_count": 19,
   "id": "cf7c6448-8e5e-4165-a3a7-6fc40869ce49",
   "metadata": {},
   "outputs": [
    {
     "data": {
      "text/plain": [
       "4"
      ]
     },
     "execution_count": 19,
     "metadata": {},
     "output_type": "execute_result"
    }
   ],
   "source": [
    "ma.start()"
   ]
  },
  {
   "cell_type": "code",
   "execution_count": 20,
   "id": "28db9bf5-4e17-4236-aa67-54599b2f6b91",
   "metadata": {},
   "outputs": [
    {
     "data": {
      "text/plain": [
       "12"
      ]
     },
     "execution_count": 20,
     "metadata": {},
     "output_type": "execute_result"
    }
   ],
   "source": [
    "ma.end()"
   ]
  },
  {
   "cell_type": "code",
   "execution_count": 21,
   "id": "5ee16790-0813-4c57-ba3f-e0f5a2dd8ce9",
   "metadata": {},
   "outputs": [],
   "source": [
    "text=\"my phone number is 636-148-4070\""
   ]
  },
  {
   "cell_type": "code",
   "execution_count": 25,
   "id": "a3a01ded-dfb7-4413-9618-a1d621b8214c",
   "metadata": {},
   "outputs": [],
   "source": [
    "phone=re.search(r'\\d\\d\\d-\\d\\d\\d-\\d\\d\\d\\d',text)"
   ]
  },
  {
   "cell_type": "code",
   "execution_count": 26,
   "id": "08800e2f-5317-47cb-98d2-5c62337690d4",
   "metadata": {},
   "outputs": [
    {
     "data": {
      "text/plain": [
       "<re.Match object; span=(19, 31), match='636-148-4070'>"
      ]
     },
     "execution_count": 26,
     "metadata": {},
     "output_type": "execute_result"
    }
   ],
   "source": [
    "phone"
   ]
  },
  {
   "cell_type": "code",
   "execution_count": 27,
   "id": "bf533038-5a73-413a-952c-24cfd6ccdfa2",
   "metadata": {},
   "outputs": [
    {
     "data": {
      "text/plain": [
       "19"
      ]
     },
     "execution_count": 27,
     "metadata": {},
     "output_type": "execute_result"
    }
   ],
   "source": [
    "phone.start()"
   ]
  },
  {
   "cell_type": "code",
   "execution_count": 28,
   "id": "027e4731-9c0e-4d23-a10e-4e1dead76dda",
   "metadata": {},
   "outputs": [
    {
     "data": {
      "text/plain": [
       "31"
      ]
     },
     "execution_count": 28,
     "metadata": {},
     "output_type": "execute_result"
    }
   ],
   "source": [
    "phone.end()"
   ]
  },
  {
   "cell_type": "code",
   "execution_count": 29,
   "id": "7f744413-1373-49cf-8c64-a8ed36d5dfe7",
   "metadata": {},
   "outputs": [
    {
     "data": {
      "text/plain": [
       "'636-148-4070'"
      ]
     },
     "execution_count": 29,
     "metadata": {},
     "output_type": "execute_result"
    }
   ],
   "source": [
    "phone.group()"
   ]
  },
  {
   "cell_type": "code",
   "execution_count": 41,
   "id": "3f2233b6-0885-4e06-98d9-bf7f0a9571a1",
   "metadata": {},
   "outputs": [
    {
     "data": {
      "text/plain": [
       "['r is     ', '  issued ']"
      ]
     },
     "execution_count": 41,
     "metadata": {},
     "output_type": "execute_result"
    }
   ],
   "source": [
    "re.findall(r'..is.....','my phone number is         issued today')"
   ]
  },
  {
   "cell_type": "code",
   "execution_count": 31,
   "id": "b7f1af96-c4ff-42f6-8b3f-3f95d0872c72",
   "metadata": {},
   "outputs": [],
   "source": [
    "po=re.findall(r'\\sis\\s','my phone number is issued today')"
   ]
  },
  {
   "cell_type": "code",
   "execution_count": 32,
   "id": "2b821e4b-46ef-49bf-b786-5e658a495563",
   "metadata": {},
   "outputs": [
    {
     "data": {
      "text/plain": [
       "[' is ']"
      ]
     },
     "execution_count": 32,
     "metadata": {},
     "output_type": "execute_result"
    }
   ],
   "source": [
    "po"
   ]
  },
  {
   "cell_type": "code",
   "execution_count": 33,
   "id": "4cf14c0e-4031-4a15-b52a-fb1820810cdd",
   "metadata": {},
   "outputs": [
    {
     "data": {
      "text/plain": [
       "1"
      ]
     },
     "execution_count": 33,
     "metadata": {},
     "output_type": "execute_result"
    }
   ],
   "source": [
    "len(po)"
   ]
  },
  {
   "cell_type": "code",
   "execution_count": 66,
   "id": "53add064-02c3-45f4-9f7f-ec6248176da4",
   "metadata": {},
   "outputs": [],
   "source": [
    "phrase='there are 12 teans each tean consiste 4 peopew with 2 flags'"
   ]
  },
  {
   "cell_type": "code",
   "execution_count": 72,
   "id": "ddb393a8-8b0c-40a6-a629-1f80513c2058",
   "metadata": {},
   "outputs": [],
   "source": [
    "pattern=r'[^\\d]+'"
   ]
  },
  {
   "cell_type": "code",
   "execution_count": 73,
   "id": "fc9da739-f947-440a-84b9-e7e41546e7cb",
   "metadata": {},
   "outputs": [
    {
     "data": {
      "text/plain": [
       "['there are ', ' teans each tean consiste ', ' peopew with ', ' flags']"
      ]
     },
     "execution_count": 73,
     "metadata": {},
     "output_type": "execute_result"
    }
   ],
   "source": [
    "re.findall(pattern,phrase)"
   ]
  },
  {
   "cell_type": "code",
   "execution_count": 74,
   "id": "3cccf258-632c-4c2d-aa9a-5af0512ad528",
   "metadata": {},
   "outputs": [],
   "source": [
    "text='only find hypen-words in this. but you do not now how long-is they are'"
   ]
  },
  {
   "cell_type": "code",
   "execution_count": 79,
   "id": "9fa6584b-3f9a-495a-8044-d4c651576ef6",
   "metadata": {},
   "outputs": [],
   "source": [
    "pattern=r'[\\w]+-[\\w]+'"
   ]
  },
  {
   "cell_type": "code",
   "execution_count": 80,
   "id": "cc66a4ee-7b68-4b7f-b4c8-b0035fae6647",
   "metadata": {},
   "outputs": [
    {
     "data": {
      "text/plain": [
       "['hypen-words', 'long-is']"
      ]
     },
     "execution_count": 80,
     "metadata": {},
     "output_type": "execute_result"
    }
   ],
   "source": [
    "re.findall(pattern,text)"
   ]
  },
  {
   "cell_type": "code",
   "execution_count": null,
   "id": "e65b1b36-ad22-4551-96cd-50c6bcb80403",
   "metadata": {},
   "outputs": [],
   "source": []
  }
 ],
 "metadata": {
  "kernelspec": {
   "display_name": "Python 3 (ipykernel)",
   "language": "python",
   "name": "python3"
  },
  "language_info": {
   "codemirror_mode": {
    "name": "ipython",
    "version": 3
   },
   "file_extension": ".py",
   "mimetype": "text/x-python",
   "name": "python",
   "nbconvert_exporter": "python",
   "pygments_lexer": "ipython3",
   "version": "3.13.0"
  }
 },
 "nbformat": 4,
 "nbformat_minor": 5
}
