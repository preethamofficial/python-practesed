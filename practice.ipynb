{
 "cells": [
  {
   "cell_type": "code",
   "execution_count": 2,
   "id": "797d17c0-443f-4f07-a3ad-98e599791674",
   "metadata": {},
   "outputs": [],
   "source": [
    "name=\"preetham reddy\""
   ]
  },
  {
   "cell_type": "code",
   "execution_count": 3,
   "id": "ad6c87db-bfc2-4545-a0a4-9a79227dcd19",
   "metadata": {},
   "outputs": [
    {
     "data": {
      "text/plain": [
       "'ydder mahteerp'"
      ]
     },
     "execution_count": 3,
     "metadata": {},
     "output_type": "execute_result"
    }
   ],
   "source": [
    "name[::-1]"
   ]
  },
  {
   "cell_type": "code",
   "execution_count": 1,
   "id": "0508ffc8-0dc6-4ad5-ba92-60fe9e2292d9",
   "metadata": {},
   "outputs": [],
   "source": [
    "t=(1,2,3)"
   ]
  },
  {
   "cell_type": "code",
   "execution_count": 2,
   "id": "ffbd2b8a-a903-404b-8b3b-3d80f6528cf4",
   "metadata": {},
   "outputs": [],
   "source": [
    "t1=[1,2,3]"
   ]
  },
  {
   "cell_type": "code",
   "execution_count": 3,
   "id": "e0d3722c-8607-4fd9-b942-563094be6eb2",
   "metadata": {},
   "outputs": [
    {
     "data": {
      "text/plain": [
       "tuple"
      ]
     },
     "execution_count": 3,
     "metadata": {},
     "output_type": "execute_result"
    }
   ],
   "source": [
    "type(t)"
   ]
  },
  {
   "cell_type": "code",
   "execution_count": 4,
   "id": "d33d3a6e-0475-406b-b11d-8d92c8a0cd07",
   "metadata": {},
   "outputs": [
    {
     "data": {
      "text/plain": [
       "list"
      ]
     },
     "execution_count": 4,
     "metadata": {},
     "output_type": "execute_result"
    }
   ],
   "source": [
    "type(t1)"
   ]
  },
  {
   "cell_type": "code",
   "execution_count": 6,
   "id": "74e59fa1-a762-4ccd-a906-5eb32a533dfb",
   "metadata": {},
   "outputs": [
    {
     "data": {
      "text/plain": [
       "3"
      ]
     },
     "execution_count": 6,
     "metadata": {},
     "output_type": "execute_result"
    }
   ],
   "source": [
    "len(t)    "
   ]
  },
  {
   "cell_type": "code",
   "execution_count": 7,
   "id": "06aadcfc-03ce-44b2-aaff-2dcea3b79bed",
   "metadata": {},
   "outputs": [
    {
     "data": {
      "text/plain": [
       "3"
      ]
     },
     "execution_count": 7,
     "metadata": {},
     "output_type": "execute_result"
    }
   ],
   "source": [
    "len(t1)"
   ]
  },
  {
   "cell_type": "code",
   "execution_count": 11,
   "id": "f03ee2be-2747-45fe-91b7-bf15edb2d0b2",
   "metadata": {},
   "outputs": [],
   "source": [
    "t=('t','a','b','c','a','t','a')"
   ]
  },
  {
   "cell_type": "code",
   "execution_count": 13,
   "id": "0c8a1055-4296-4afa-919f-a32aab28e7c7",
   "metadata": {},
   "outputs": [
    {
     "data": {
      "text/plain": [
       "3"
      ]
     },
     "execution_count": 13,
     "metadata": {},
     "output_type": "execute_result"
    }
   ],
   "source": [
    "t.count('a')"
   ]
  },
  {
   "cell_type": "code",
   "execution_count": 15,
   "id": "9d185aa2-8331-4172-99f4-a5cbbb20dc25",
   "metadata": {},
   "outputs": [
    {
     "data": {
      "text/plain": [
       "0"
      ]
     },
     "execution_count": 15,
     "metadata": {},
     "output_type": "execute_result"
    }
   ],
   "source": [
    "t.index('t')"
   ]
  },
  {
   "cell_type": "code",
   "execution_count": 19,
   "id": "287744b8-44c7-4ddc-9318-8b1df832bfff",
   "metadata": {},
   "outputs": [],
   "source": [
    "list=set()"
   ]
  },
  {
   "cell_type": "code",
   "execution_count": 20,
   "id": "08499e9b-0faf-4ade-85f5-0229b1c9aa0f",
   "metadata": {},
   "outputs": [
    {
     "data": {
      "text/plain": [
       "set()"
      ]
     },
     "execution_count": 20,
     "metadata": {},
     "output_type": "execute_result"
    }
   ],
   "source": [
    "list"
   ]
  },
  {
   "cell_type": "code",
   "execution_count": 24,
   "id": "fd1ff4eb-cb33-4ccf-aab9-040d923954b0",
   "metadata": {},
   "outputs": [],
   "source": [
    "list.add(1)"
   ]
  },
  {
   "cell_type": "code",
   "execution_count": 25,
   "id": "9129c8e3-aa62-4fff-ac95-f09f7c965a25",
   "metadata": {},
   "outputs": [
    {
     "data": {
      "text/plain": [
       "{1}"
      ]
     },
     "execution_count": 25,
     "metadata": {},
     "output_type": "execute_result"
    }
   ],
   "source": [
    "list"
   ]
  },
  {
   "cell_type": "code",
   "execution_count": 26,
   "id": "7940e2ff-f678-407c-b930-ce890441b743",
   "metadata": {},
   "outputs": [],
   "source": [
    "list.add(2)"
   ]
  },
  {
   "cell_type": "code",
   "execution_count": 27,
   "id": "7804a903-3b0d-443c-92c2-e31d3ca79031",
   "metadata": {},
   "outputs": [
    {
     "data": {
      "text/plain": [
       "{1, 2}"
      ]
     },
     "execution_count": 27,
     "metadata": {},
     "output_type": "execute_result"
    }
   ],
   "source": [
    "list"
   ]
  },
  {
   "cell_type": "code",
   "execution_count": 28,
   "id": "1e2023a8-e144-43a9-b8db-88e591212be3",
   "metadata": {},
   "outputs": [],
   "source": [
    "list.add(1)"
   ]
  },
  {
   "cell_type": "code",
   "execution_count": 29,
   "id": "e729813f-860d-4921-9940-bf2da962c1fc",
   "metadata": {},
   "outputs": [
    {
     "data": {
      "text/plain": [
       "{1, 2}"
      ]
     },
     "execution_count": 29,
     "metadata": {},
     "output_type": "execute_result"
    }
   ],
   "source": [
    "list"
   ]
  },
  {
   "cell_type": "code",
   "execution_count": 31,
   "id": "626cfc29-4f7f-4c97-9c5b-770e32a6e295",
   "metadata": {},
   "outputs": [],
   "source": [
    "new=[1,2,3,4,5,6,7,6,5,4,3,2,1,1,1,1,1,1,2,7,2,4,3,2]"
   ]
  },
  {
   "cell_type": "code",
   "execution_count": 32,
   "id": "e00feb45-0fbd-4912-9484-49a237967032",
   "metadata": {},
   "outputs": [
    {
     "data": {
      "text/plain": [
       "[1, 2, 3, 4, 5, 6, 7, 6, 5, 4, 3, 2, 1, 1, 1, 1, 1, 1, 2, 7, 2, 4, 3, 2]"
      ]
     },
     "execution_count": 32,
     "metadata": {},
     "output_type": "execute_result"
    }
   ],
   "source": [
    "new"
   ]
  },
  {
   "cell_type": "code",
   "execution_count": 33,
   "id": "382e24aa-bce9-427e-b8ae-4a596335a2cc",
   "metadata": {},
   "outputs": [
    {
     "data": {
      "text/plain": [
       "{1, 2, 3, 4, 5, 6, 7}"
      ]
     },
     "execution_count": 33,
     "metadata": {},
     "output_type": "execute_result"
    }
   ],
   "source": [
    "set(new)"
   ]
  },
  {
   "cell_type": "code",
   "execution_count": 34,
   "id": "d5438083-e0d3-4b3d-af7a-80ccd438d1d9",
   "metadata": {},
   "outputs": [
    {
     "name": "stdout",
     "output_type": "stream",
     "text": [
      "Writing myfile.txt\n"
     ]
    }
   ],
   "source": [
    "%%writefile myfile.txt\n",
    "Hellow this in text file\n",
    "this is first line\n",
    "this in secind line"
   ]
  },
  {
   "cell_type": "code",
   "execution_count": 36,
   "id": "5527c0ea-71f0-4e22-ba34-e4a2b82a4790",
   "metadata": {},
   "outputs": [],
   "source": [
    "myfile=open('myfile.txt')"
   ]
  },
  {
   "cell_type": "code",
   "execution_count": 37,
   "id": "1064e096-d070-46d0-9541-ae2a876eb631",
   "metadata": {},
   "outputs": [
    {
     "data": {
      "text/plain": [
       "<_io.TextIOWrapper name='myfile.txt' mode='r' encoding='cp1252'>"
      ]
     },
     "execution_count": 37,
     "metadata": {},
     "output_type": "execute_result"
    }
   ],
   "source": [
    "myfile"
   ]
  },
  {
   "cell_type": "code",
   "execution_count": 38,
   "id": "6a3f81ec-2578-4841-a63f-d1478f5c40a3",
   "metadata": {},
   "outputs": [
    {
     "name": "stdout",
     "output_type": "stream",
     "text": [
      "<_io.TextIOWrapper name='myfile.txt' mode='r' encoding='cp1252'>\n"
     ]
    }
   ],
   "source": [
    "print(myfile)"
   ]
  },
  {
   "cell_type": "code",
   "execution_count": 39,
   "id": "db02a38b-4db3-4675-8b17-95878f657281",
   "metadata": {},
   "outputs": [
    {
     "data": {
      "text/plain": [
       "'C:\\\\Users\\\\ADMIN\\\\Desktop\\\\All\\\\jupiter'"
      ]
     },
     "execution_count": 39,
     "metadata": {},
     "output_type": "execute_result"
    }
   ],
   "source": [
    "pwd"
   ]
  },
  {
   "cell_type": "code",
   "execution_count": 40,
   "id": "f0e87eb6-12c2-4b6e-8583-419c4161d79f",
   "metadata": {},
   "outputs": [
    {
     "data": {
      "text/plain": [
       "'Hellow this in text file\\nthis is first line\\nthis in secind line\\n'"
      ]
     },
     "execution_count": 40,
     "metadata": {},
     "output_type": "execute_result"
    }
   ],
   "source": [
    "myfile.read()"
   ]
  },
  {
   "cell_type": "code",
   "execution_count": 41,
   "id": "a154ac59-32c8-4f38-9731-5a497d5d7078",
   "metadata": {},
   "outputs": [
    {
     "data": {
      "text/plain": [
       "''"
      ]
     },
     "execution_count": 41,
     "metadata": {},
     "output_type": "execute_result"
    }
   ],
   "source": [
    "myfile.read()"
   ]
  },
  {
   "cell_type": "code",
   "execution_count": 42,
   "id": "570b5aca-a9ee-4b8e-809e-f7d18b0e382b",
   "metadata": {},
   "outputs": [
    {
     "data": {
      "text/plain": [
       "0"
      ]
     },
     "execution_count": 42,
     "metadata": {},
     "output_type": "execute_result"
    }
   ],
   "source": [
    "myfile.seek(0)"
   ]
  },
  {
   "cell_type": "code",
   "execution_count": 43,
   "id": "45f2c7a8-56b4-4cc2-8f84-244018725e6e",
   "metadata": {},
   "outputs": [
    {
     "data": {
      "text/plain": [
       "'Hellow this in text file\\nthis is first line\\nthis in secind line\\n'"
      ]
     },
     "execution_count": 43,
     "metadata": {},
     "output_type": "execute_result"
    }
   ],
   "source": [
    "myfile.read()"
   ]
  },
  {
   "cell_type": "code",
   "execution_count": 44,
   "id": "a89aa558-f75c-4a30-8fe8-d89fe88001ca",
   "metadata": {},
   "outputs": [
    {
     "data": {
      "text/plain": [
       "''"
      ]
     },
     "execution_count": 44,
     "metadata": {},
     "output_type": "execute_result"
    }
   ],
   "source": [
    "myfile.readline()"
   ]
  },
  {
   "cell_type": "code",
   "execution_count": 45,
   "id": "58991d03-6759-4f59-bd6c-e49ce803639b",
   "metadata": {},
   "outputs": [
    {
     "data": {
      "text/plain": [
       "0"
      ]
     },
     "execution_count": 45,
     "metadata": {},
     "output_type": "execute_result"
    }
   ],
   "source": [
    "myfile.seek(0)"
   ]
  },
  {
   "cell_type": "code",
   "execution_count": 47,
   "id": "157f2f25-e42d-4173-8bed-f8d5ff9f5bef",
   "metadata": {},
   "outputs": [
    {
     "data": {
      "text/plain": [
       "'Hellow this in text file\\n'"
      ]
     },
     "execution_count": 47,
     "metadata": {},
     "output_type": "execute_result"
    }
   ],
   "source": [
    "myfile.readline()"
   ]
  },
  {
   "cell_type": "code",
   "execution_count": 48,
   "id": "e334f0ea-f4fd-4a7a-8b3b-47f0caec6be9",
   "metadata": {},
   "outputs": [
    {
     "data": {
      "text/plain": [
       "0"
      ]
     },
     "execution_count": 48,
     "metadata": {},
     "output_type": "execute_result"
    }
   ],
   "source": [
    "myfile.seek(0)"
   ]
  },
  {
   "cell_type": "code",
   "execution_count": 49,
   "id": "4935b668-9d07-4ef3-8fad-c3941596ab20",
   "metadata": {},
   "outputs": [
    {
     "data": {
      "text/plain": [
       "['Hellow this in text file\\n', 'this is first line\\n', 'this in secind line\\n']"
      ]
     },
     "execution_count": 49,
     "metadata": {},
     "output_type": "execute_result"
    }
   ],
   "source": [
    "myfile.readlines()"
   ]
  },
  {
   "cell_type": "code",
   "execution_count": 50,
   "id": "f5e9c404-dc38-4f1f-9c11-ce37ee7caeda",
   "metadata": {},
   "outputs": [],
   "source": [
    "myfile.close()"
   ]
  },
  {
   "cell_type": "code",
   "execution_count": 19,
   "id": "71e716f2-7b03-44e3-89dc-937a469b2cad",
   "metadata": {},
   "outputs": [],
   "source": [
    "list=[1,2,3,4,5,6,8,9,9,0,4,1,2,4,3]"
   ]
  },
  {
   "cell_type": "code",
   "execution_count": 20,
   "id": "e2bb00e9-9258-43bf-9f48-2daef43018bd",
   "metadata": {},
   "outputs": [
    {
     "name": "stdout",
     "output_type": "stream",
     "text": [
      "1\n",
      "2\n",
      "3\n",
      "4\n",
      "5\n",
      "6\n",
      "8\n",
      "9\n",
      "9\n",
      "0\n",
      "4\n",
      "1\n",
      "2\n",
      "4\n",
      "3\n"
     ]
    }
   ],
   "source": [
    "for pr in list:\n",
    "    print(pr)"
   ]
  },
  {
   "cell_type": "code",
   "execution_count": 21,
   "id": "c8d8bf36-d45d-4b14-9572-5aecf0d26185",
   "metadata": {},
   "outputs": [
    {
     "name": "stdout",
     "output_type": "stream",
     "text": [
      "preetham\n",
      "2\n",
      "3\n",
      "4\n",
      "5\n",
      "6\n",
      "8\n",
      "9\n",
      "9\n",
      "0\n",
      "4\n",
      "preetham\n",
      "2\n",
      "4\n",
      "3\n"
     ]
    }
   ],
   "source": [
    "for pr in list:\n",
    "    if pr == 1:\n",
    "        print(\"preetham\")\n",
    "    else :\n",
    "        print(pr)"
   ]
  },
  {
   "cell_type": "code",
   "execution_count": 23,
   "id": "45259028-ed11-45b5-8846-678cee289d27",
   "metadata": {},
   "outputs": [
    {
     "data": {
      "text/plain": [
       "[1, 2, 3, 4, 5, 6, 8, 9, 9, 0, 4, 1, 2, 4, 3]"
      ]
     },
     "execution_count": 23,
     "metadata": {},
     "output_type": "execute_result"
    }
   ],
   "source": [
    "list"
   ]
  },
  {
   "cell_type": "code",
   "execution_count": 9,
   "id": "8e33cd06-20ac-4ea2-97fc-ecdaf12141b8",
   "metadata": {},
   "outputs": [],
   "source": [
    "preetham=[1,2,3,4,5,6,7,6,5,5,6,5,7]"
   ]
  },
  {
   "cell_type": "code",
   "execution_count": 17,
   "id": "7e251956-1625-4c20-ad72-f2fae760522c",
   "metadata": {},
   "outputs": [
    {
     "name": "stdout",
     "output_type": "stream",
     "text": [
      "[1, 2, 3, 4, 0, 6, 7, 6, 0, 0, 6, 0, 7]\n"
     ]
    }
   ],
   "source": [
    "for p in range(0,len(preetham)):\n",
    "    if preetham[p]==5:\n",
    "       preetham[p]=0\n",
    "print(preetham)\n",
    "       "
   ]
  },
  {
   "cell_type": "code",
   "execution_count": 18,
   "id": "dc8ac8e6-56e8-43ab-b663-c63300e4739c",
   "metadata": {},
   "outputs": [
    {
     "data": {
      "text/plain": [
       "[1, 2, 3, 4, 0, 6, 7, 6, 0, 0, 6, 0, 7]"
      ]
     },
     "execution_count": 18,
     "metadata": {},
     "output_type": "execute_result"
    }
   ],
   "source": [
    "preetham"
   ]
  },
  {
   "cell_type": "code",
   "execution_count": 30,
   "id": "5ea0804a-0ec2-4041-a397-0588a306e3c9",
   "metadata": {},
   "outputs": [
    {
     "name": "stdout",
     "output_type": "stream",
     "text": [
      "a1\n",
      "a2\n",
      "a3\n",
      "a4\n"
     ]
    }
   ],
   "source": [
    "d={'a1':2,'a2':7,'a3':9,'a4':4}\n",
    "for item in d:\n",
    "    print(item)"
   ]
  },
  {
   "cell_type": "code",
   "execution_count": 31,
   "id": "86b655fe-164b-4f26-98ca-bda447cdc205",
   "metadata": {},
   "outputs": [
    {
     "name": "stdout",
     "output_type": "stream",
     "text": [
      "('a1', 2)\n",
      "('a2', 7)\n",
      "('a3', 9)\n",
      "('a4', 4)\n"
     ]
    }
   ],
   "source": [
    "for item in d.items():\n",
    "    print(item)"
   ]
  },
  {
   "cell_type": "code",
   "execution_count": 37,
   "id": "3014035a-e0fc-44f6-9d87-417794311401",
   "metadata": {},
   "outputs": [
    {
     "name": "stdout",
     "output_type": "stream",
     "text": [
      "a1\n",
      "a2\n",
      "a3\n",
      "a4\n"
     ]
    }
   ],
   "source": [
    "for a,b in d.items():\n",
    "    print(a)"
   ]
  },
  {
   "cell_type": "code",
   "execution_count": 38,
   "id": "88841747-bb3b-412a-9c31-01bb760f1333",
   "metadata": {},
   "outputs": [
    {
     "name": "stdout",
     "output_type": "stream",
     "text": [
      "2\n",
      "7\n",
      "9\n",
      "4\n"
     ]
    }
   ],
   "source": [
    "for a,b in d.items():\n",
    "    print(b)"
   ]
  },
  {
   "cell_type": "code",
   "execution_count": 47,
   "id": "24f7a97b-03dd-47c2-9efc-5d71ee558303",
   "metadata": {},
   "outputs": [
    {
     "name": "stdout",
     "output_type": "stream",
     "text": [
      "At index 2 the length isb\n",
      "At index 3 the length isc\n",
      "At index 4 the length isd\n",
      "At index 5 the length ise\n"
     ]
    }
   ],
   "source": [
    "index_count=2\n",
    "\n",
    "for letter in 'bcde':\n",
    "    print('At index {} the length is{}'.format(index_count,letter))\n",
    "    index_count +=1"
   ]
  },
  {
   "cell_type": "code",
   "execution_count": 51,
   "id": "242ad1bb-83d3-42ed-a049-32fd091be1ae",
   "metadata": {},
   "outputs": [],
   "source": [
    "m1=[1,2,3,4]\n",
    "m2=['a','b','c']\n",
    "m3=[100,200,300]"
   ]
  },
  {
   "cell_type": "code",
   "execution_count": 52,
   "id": "6a110dc2-fd11-4b6c-aa2c-54713f88a268",
   "metadata": {},
   "outputs": [
    {
     "name": "stdout",
     "output_type": "stream",
     "text": [
      "(1, 'a', 100)\n",
      "(2, 'b', 200)\n",
      "(3, 'c', 300)\n"
     ]
    }
   ],
   "source": [
    "for item in zip(m1,m2,m3):\n",
    "    print(item)"
   ]
  },
  {
   "cell_type": "code",
   "execution_count": 53,
   "id": "d921faec-4746-41b2-994d-2d5e5576ce88",
   "metadata": {},
   "outputs": [
    {
     "name": "stdout",
     "output_type": "stream",
     "text": [
      "100\n",
      "200\n",
      "300\n"
     ]
    }
   ],
   "source": [
    "for a,b,c in zip(m1,m2,m3):\n",
    "    print(c)"
   ]
  },
  {
   "cell_type": "code",
   "execution_count": 54,
   "id": "331ab871-00e3-4d07-b400-751e93970e8b",
   "metadata": {},
   "outputs": [
    {
     "name": "stdout",
     "output_type": "stream",
     "text": [
      "1\n",
      "2\n",
      "3\n"
     ]
    }
   ],
   "source": [
    "for a,b,c in zip(m1,m2,m3):\n",
    "    print(a)"
   ]
  },
  {
   "cell_type": "code",
   "execution_count": 57,
   "id": "7b30907b-be83-43cb-a10b-8a1d0610c562",
   "metadata": {},
   "outputs": [
    {
     "data": {
      "text/plain": [
       "tuple"
      ]
     },
     "execution_count": 57,
     "metadata": {},
     "output_type": "execute_result"
    }
   ],
   "source": [
    "type((m1,m2,m3))"
   ]
  },
  {
   "cell_type": "code",
   "execution_count": 58,
   "id": "c3f031bb-0ac7-4c0b-9cbb-cd88a4e799ad",
   "metadata": {},
   "outputs": [],
   "source": [
    "list=[10,20,30,70,90,100]"
   ]
  },
  {
   "cell_type": "code",
   "execution_count": 59,
   "id": "c715991a-9243-4a05-bf47-a167a5d98508",
   "metadata": {},
   "outputs": [
    {
     "data": {
      "text/plain": [
       "10"
      ]
     },
     "execution_count": 59,
     "metadata": {},
     "output_type": "execute_result"
    }
   ],
   "source": [
    "min(list)"
   ]
  },
  {
   "cell_type": "code",
   "execution_count": 60,
   "id": "dccb7e69-c4ff-4eac-9f63-22c1b760c2f1",
   "metadata": {},
   "outputs": [
    {
     "data": {
      "text/plain": [
       "100"
      ]
     },
     "execution_count": 60,
     "metadata": {},
     "output_type": "execute_result"
    }
   ],
   "source": [
    "max(list)"
   ]
  },
  {
   "cell_type": "code",
   "execution_count": 61,
   "id": "63b57704-7581-447e-85ff-708fe6f3d10d",
   "metadata": {},
   "outputs": [],
   "source": [
    "from random import shuffle"
   ]
  },
  {
   "cell_type": "code",
   "execution_count": 69,
   "id": "e9d9ac0a-a9c9-4177-8b5e-a100b1c2f581",
   "metadata": {},
   "outputs": [],
   "source": [
    "list=[1,2,3,4,5,6,7,8,9,10]"
   ]
  },
  {
   "cell_type": "code",
   "execution_count": 72,
   "id": "f8901f8a-949d-4662-a5b9-5168288be9bd",
   "metadata": {},
   "outputs": [],
   "source": [
    "shuffle(list)"
   ]
  },
  {
   "cell_type": "code",
   "execution_count": 73,
   "id": "e76d9135-eb35-4329-a5d6-1523ec52ff4a",
   "metadata": {},
   "outputs": [
    {
     "data": {
      "text/plain": [
       "[9, 5, 4, 8, 7, 10, 3, 6, 2, 1]"
      ]
     },
     "execution_count": 73,
     "metadata": {},
     "output_type": "execute_result"
    }
   ],
   "source": [
    "list"
   ]
  },
  {
   "cell_type": "code",
   "execution_count": 74,
   "id": "a36ed25b-2f4d-44fc-9ac0-b887bcbf9e08",
   "metadata": {},
   "outputs": [],
   "source": [
    "from random import randint"
   ]
  },
  {
   "cell_type": "code",
   "execution_count": 75,
   "id": "cdc7ad67-1ecd-4c83-8686-3c10156070d4",
   "metadata": {},
   "outputs": [
    {
     "data": {
      "text/plain": [
       "3556689"
      ]
     },
     "execution_count": 75,
     "metadata": {},
     "output_type": "execute_result"
    }
   ],
   "source": [
    "randint(0,10000000)"
   ]
  },
  {
   "cell_type": "code",
   "execution_count": 76,
   "id": "7ca43ca9-075b-4db7-9b3c-c60e1be3f554",
   "metadata": {},
   "outputs": [
    {
     "name": "stdin",
     "output_type": "stream",
     "text": [
      "enter a number 70\n"
     ]
    },
    {
     "data": {
      "text/plain": [
       "'70'"
      ]
     },
     "execution_count": 76,
     "metadata": {},
     "output_type": "execute_result"
    }
   ],
   "source": [
    "input('enter a number')"
   ]
  },
  {
   "cell_type": "code",
   "execution_count": 77,
   "id": "98c3bfae-c221-4023-b100-d1c9d836e18b",
   "metadata": {},
   "outputs": [
    {
     "name": "stdin",
     "output_type": "stream",
     "text": [
      "what is your name: preetham\n"
     ]
    }
   ],
   "source": [
    "name=input('what is your name:')"
   ]
  },
  {
   "cell_type": "code",
   "execution_count": 78,
   "id": "d15776a9-7b34-4133-b958-a8060e914178",
   "metadata": {},
   "outputs": [
    {
     "data": {
      "text/plain": [
       "'preetham'"
      ]
     },
     "execution_count": 78,
     "metadata": {},
     "output_type": "execute_result"
    }
   ],
   "source": [
    "name"
   ]
  },
  {
   "cell_type": "code",
   "execution_count": 80,
   "id": "80d75a66-08f1-4886-9691-afdc13200992",
   "metadata": {},
   "outputs": [],
   "source": [
    "list=[]\n",
    "for x in [2,3,4]:\n",
    "    for y in [30,40,60]:\n",
    "        list.append(x*y)"
   ]
  },
  {
   "cell_type": "code",
   "execution_count": 81,
   "id": "6615234a-8119-4483-a1f5-c1f67692d475",
   "metadata": {},
   "outputs": [
    {
     "data": {
      "text/plain": [
       "[60, 80, 120, 90, 120, 180, 120, 160, 240]"
      ]
     },
     "execution_count": 81,
     "metadata": {},
     "output_type": "execute_result"
    }
   ],
   "source": [
    "list"
   ]
  },
  {
   "cell_type": "code",
   "execution_count": 90,
   "id": "a737201c-da13-44e9-bdbe-0edc6f072f38",
   "metadata": {},
   "outputs": [],
   "source": [
    "ml=[1,2,3]"
   ]
  },
  {
   "cell_type": "code",
   "execution_count": 91,
   "id": "e8152b79-5d6c-423b-bdcc-64eb44a8f068",
   "metadata": {},
   "outputs": [],
   "source": [
    "m1.append(4)"
   ]
  },
  {
   "cell_type": "code",
   "execution_count": 92,
   "id": "f5e6290f-be1a-4df7-81d2-8b580bd89b41",
   "metadata": {},
   "outputs": [
    {
     "data": {
      "text/plain": [
       "[1, 2, 3]"
      ]
     },
     "execution_count": 92,
     "metadata": {},
     "output_type": "execute_result"
    }
   ],
   "source": [
    "ml"
   ]
  },
  {
   "cell_type": "code",
   "execution_count": 93,
   "id": "435285ad-bae4-47f8-a05a-fe594aaef6bb",
   "metadata": {},
   "outputs": [
    {
     "data": {
      "text/plain": [
       "3"
      ]
     },
     "execution_count": 93,
     "metadata": {},
     "output_type": "execute_result"
    }
   ],
   "source": [
    "ml.pop(2)"
   ]
  },
  {
   "cell_type": "code",
   "execution_count": 94,
   "id": "d597795f-624f-4a41-8879-c06560d1e31b",
   "metadata": {},
   "outputs": [
    {
     "data": {
      "text/plain": [
       "[1, 2]"
      ]
     },
     "execution_count": 94,
     "metadata": {},
     "output_type": "execute_result"
    }
   ],
   "source": [
    "ml"
   ]
  },
  {
   "cell_type": "code",
   "execution_count": 96,
   "id": "c287233c-c1d6-4c3e-ad7c-c856c0e2953d",
   "metadata": {},
   "outputs": [],
   "source": [
    "ml.append(8)"
   ]
  },
  {
   "cell_type": "code",
   "execution_count": 97,
   "id": "6073bd71-2c6c-41a4-923d-f7b39f3d12ca",
   "metadata": {},
   "outputs": [
    {
     "data": {
      "text/plain": [
       "[1, 2, 8]"
      ]
     },
     "execution_count": 97,
     "metadata": {},
     "output_type": "execute_result"
    }
   ],
   "source": [
    "ml"
   ]
  },
  {
   "cell_type": "code",
   "execution_count": 98,
   "id": "35a8b6b0-dfe1-43d1-92f5-6d0fae217059",
   "metadata": {},
   "outputs": [],
   "source": [
    "ml.append(7)"
   ]
  },
  {
   "cell_type": "code",
   "execution_count": 99,
   "id": "51c042eb-0137-4667-8dc4-2effcb7c4904",
   "metadata": {},
   "outputs": [
    {
     "data": {
      "text/plain": [
       "[1, 2, 8, 7]"
      ]
     },
     "execution_count": 99,
     "metadata": {},
     "output_type": "execute_result"
    }
   ],
   "source": [
    "ml"
   ]
  },
  {
   "cell_type": "code",
   "execution_count": 100,
   "id": "e7992914-288d-4fe8-b0be-74da117a9f50",
   "metadata": {},
   "outputs": [
    {
     "data": {
      "text/plain": [
       "8"
      ]
     },
     "execution_count": 100,
     "metadata": {},
     "output_type": "execute_result"
    }
   ],
   "source": [
    "ml.pop(2)"
   ]
  },
  {
   "cell_type": "code",
   "execution_count": 101,
   "id": "fdf8b3ab-94ac-40fd-98e8-07f36f2d93ed",
   "metadata": {},
   "outputs": [
    {
     "data": {
      "text/plain": [
       "[1, 2, 7]"
      ]
     },
     "execution_count": 101,
     "metadata": {},
     "output_type": "execute_result"
    }
   ],
   "source": [
    "ml"
   ]
  },
  {
   "cell_type": "code",
   "execution_count": 102,
   "id": "750f0286-6469-474e-88eb-a5902c7ebe20",
   "metadata": {},
   "outputs": [
    {
     "name": "stdout",
     "output_type": "stream",
     "text": [
      "Help on built-in function insert:\n",
      "\n",
      "insert(index, object, /) method of builtins.list instance\n",
      "    Insert object before index.\n",
      "\n"
     ]
    }
   ],
   "source": [
    "help(ml.insert)"
   ]
  },
  {
   "cell_type": "code",
   "execution_count": 106,
   "id": "eb8870e4-aa84-4781-92fd-4aafce4dba51",
   "metadata": {},
   "outputs": [
    {
     "data": {
      "text/plain": [
       "[1, 2, 7]"
      ]
     },
     "execution_count": 106,
     "metadata": {},
     "output_type": "execute_result"
    }
   ],
   "source": [
    "ml"
   ]
  },
  {
   "cell_type": "code",
   "execution_count": 108,
   "id": "7f6bfe32-2fad-4f81-b119-9971c705acc7",
   "metadata": {},
   "outputs": [],
   "source": [
    "def even_check(num):\n",
    "    result=num % 2==0\n",
    "    return result"
   ]
  },
  {
   "cell_type": "code",
   "execution_count": 109,
   "id": "764b2588-3cbf-4a2b-a520-fe1367313273",
   "metadata": {},
   "outputs": [
    {
     "data": {
      "text/plain": [
       "True"
      ]
     },
     "execution_count": 109,
     "metadata": {},
     "output_type": "execute_result"
    }
   ],
   "source": [
    "even_check(90)"
   ]
  },
  {
   "cell_type": "code",
   "execution_count": 110,
   "id": "72ed7d40-3965-4421-b04a-28d8ca867110",
   "metadata": {},
   "outputs": [
    {
     "data": {
      "text/plain": [
       "False"
      ]
     },
     "execution_count": 110,
     "metadata": {},
     "output_type": "execute_result"
    }
   ],
   "source": [
    "even_check(81)"
   ]
  },
  {
   "cell_type": "code",
   "execution_count": 111,
   "id": "1f02eab9-1fb4-4c25-b99f-7ef31acaa4f6",
   "metadata": {},
   "outputs": [],
   "source": [
    "def even_check(num):\n",
    "    return num % 2==0 "
   ]
  },
  {
   "cell_type": "code",
   "execution_count": 112,
   "id": "5413f48f-7a56-4344-9ecf-db0885acec6d",
   "metadata": {},
   "outputs": [
    {
     "data": {
      "text/plain": [
       "True"
      ]
     },
     "execution_count": 112,
     "metadata": {},
     "output_type": "execute_result"
    }
   ],
   "source": [
    "even_check(10)"
   ]
  },
  {
   "cell_type": "code",
   "execution_count": 116,
   "id": "b8a5571e-6c7d-4a4f-a029-6f875538abf5",
   "metadata": {},
   "outputs": [],
   "source": [
    "def check_even_list(nu):\n",
    "    for number in nu:\n",
    "        if number % 2 == 0:\n",
    "            return True\n",
    "        else:\n",
    "            pass"
   ]
  },
  {
   "cell_type": "code",
   "execution_count": 119,
   "id": "7938522a-aef8-4e7d-8857-4bd104be26bc",
   "metadata": {},
   "outputs": [],
   "source": [
    "check_even_list([3,3,3])"
   ]
  },
  {
   "cell_type": "code",
   "execution_count": 120,
   "id": "5171a6da-6055-4e0f-9bab-e56fc739a0fa",
   "metadata": {},
   "outputs": [
    {
     "data": {
      "text/plain": [
       "True"
      ]
     },
     "execution_count": 120,
     "metadata": {},
     "output_type": "execute_result"
    }
   ],
   "source": [
    "check_even_list([1,2,3,4,5])"
   ]
  },
  {
   "cell_type": "code",
   "execution_count": 125,
   "id": "7f2eb4a9-0d9f-4dc8-8907-6dd46b82ffa0",
   "metadata": {},
   "outputs": [],
   "source": [
    "def check_even_list(nu):\n",
    "    for number in nu:\n",
    "        if number % 2 == 0:\n",
    "            return True\n",
    "        else:\n",
    "            return False # its wrong because it will check only first list "
   ]
  },
  {
   "cell_type": "code",
   "execution_count": 123,
   "id": "bb3b8198-2d66-4bf9-8e38-73815f6c9006",
   "metadata": {},
   "outputs": [
    {
     "data": {
      "text/plain": [
       "False"
      ]
     },
     "execution_count": 123,
     "metadata": {},
     "output_type": "execute_result"
    }
   ],
   "source": [
    "check_even_list([7,2,1])"
   ]
  },
  {
   "cell_type": "code",
   "execution_count": 124,
   "id": "11383e7f-e893-418d-a90f-10068d79d5c2",
   "metadata": {},
   "outputs": [
    {
     "data": {
      "text/plain": [
       "True"
      ]
     },
     "execution_count": 124,
     "metadata": {},
     "output_type": "execute_result"
    }
   ],
   "source": [
    "check_even_list([2,7,1])"
   ]
  },
  {
   "cell_type": "code",
   "execution_count": 130,
   "id": "ba53c832-bf3a-42eb-b972-ead4c7b4f3cc",
   "metadata": {},
   "outputs": [],
   "source": [
    "def check_even_list(nu):\n",
    "    for number in nu:\n",
    "        if number % 2 == 0:\n",
    "            return True\n",
    "        else:\n",
    "            pass\n",
    "    return False    #in this if any one is correct then it was true only"
   ]
  },
  {
   "cell_type": "code",
   "execution_count": 127,
   "id": "d9723fb5-236e-43a3-bf35-7e55b3015c5e",
   "metadata": {},
   "outputs": [
    {
     "data": {
      "text/plain": [
       "True"
      ]
     },
     "execution_count": 127,
     "metadata": {},
     "output_type": "execute_result"
    }
   ],
   "source": [
    "check_even_list([2,7,1])"
   ]
  },
  {
   "cell_type": "code",
   "execution_count": 128,
   "id": "9f5ccc7b-1306-47e8-9b4e-c1f30ec42ffe",
   "metadata": {},
   "outputs": [
    {
     "data": {
      "text/plain": [
       "True"
      ]
     },
     "execution_count": 128,
     "metadata": {},
     "output_type": "execute_result"
    }
   ],
   "source": [
    "check_even_list([7,2,1])"
   ]
  },
  {
   "cell_type": "code",
   "execution_count": 136,
   "id": "b1b61ccc-4f15-47c9-b88e-5e70732dc740",
   "metadata": {},
   "outputs": [],
   "source": [
    "def check_even_number(num):\n",
    "    even_number=[]\n",
    "    for number in num:\n",
    "        if number %2 ==0:\n",
    "            even_number.append(number)\n",
    "        else:\n",
    "            pass\n",
    "    return even_number\n",
    "            "
   ]
  },
  {
   "cell_type": "code",
   "execution_count": 137,
   "id": "054e80c4-e81c-4f37-96b5-457f98dc12e4",
   "metadata": {},
   "outputs": [
    {
     "data": {
      "text/plain": [
       "[2, 4, 6, 8, 10]"
      ]
     },
     "execution_count": 137,
     "metadata": {},
     "output_type": "execute_result"
    }
   ],
   "source": [
    "check_even_number([1,2,3,4,5,6,7,8,9,10])"
   ]
  },
  {
   "cell_type": "code",
   "execution_count": 1,
   "id": "14a12c3b-3124-45f8-8d65-ba2c7de50aeb",
   "metadata": {},
   "outputs": [
    {
     "data": {
      "text/plain": [
       "100.25"
      ]
     },
     "execution_count": 1,
     "metadata": {},
     "output_type": "execute_result"
    }
   ],
   "source": [
    "50+50.25"
   ]
  },
  {
   "cell_type": "code",
   "execution_count": 2,
   "id": "630fce4e-b312-4682-a28e-3619eb267b4a",
   "metadata": {},
   "outputs": [
    {
     "data": {
      "text/plain": [
       "100.25"
      ]
     },
     "execution_count": 2,
     "metadata": {},
     "output_type": "execute_result"
    }
   ],
   "source": [
    "40*2+25-4.75"
   ]
  },
  {
   "cell_type": "code",
   "execution_count": 3,
   "id": "1e4788c9-43bb-46e5-b07c-a261c9a16428",
   "metadata": {},
   "outputs": [
    {
     "data": {
      "text/plain": [
       "100.25"
      ]
     },
     "execution_count": 3,
     "metadata": {},
     "output_type": "execute_result"
    }
   ],
   "source": [
    "25-4.75+40*2"
   ]
  },
  {
   "cell_type": "code",
   "execution_count": 4,
   "id": "9c3ab5fa-77e7-43e2-bbff-a1eedf9501ed",
   "metadata": {},
   "outputs": [
    {
     "data": {
      "text/plain": [
       "-25"
      ]
     },
     "execution_count": 4,
     "metadata": {},
     "output_type": "execute_result"
    }
   ],
   "source": [
    "25-24*2-2"
   ]
  },
  {
   "cell_type": "code",
   "execution_count": 5,
   "id": "513309cc-56d4-4126-a3d2-1e2f58cc88c4",
   "metadata": {},
   "outputs": [
    {
     "data": {
      "text/plain": [
       "-72"
      ]
     },
     "execution_count": 5,
     "metadata": {},
     "output_type": "execute_result"
    }
   ],
   "source": [
    "2-2*25-24"
   ]
  },
  {
   "cell_type": "code",
   "execution_count": 7,
   "id": "01935665-8960-42ec-a0dc-de3c5b656b7b",
   "metadata": {},
   "outputs": [
    {
     "data": {
      "text/plain": [
       "-72"
      ]
     },
     "execution_count": 7,
     "metadata": {},
     "output_type": "execute_result"
    }
   ],
   "source": [
    "2-(2*25)-24"
   ]
  },
  {
   "cell_type": "code",
   "execution_count": 8,
   "id": "ede6966f-ff3b-4ada-82f8-7d207efadb70",
   "metadata": {},
   "outputs": [],
   "source": [
    "s = 'hello'"
   ]
  },
  {
   "cell_type": "code",
   "execution_count": 10,
   "id": "35b5b0cd-4779-494d-a247-0992c8c84bc3",
   "metadata": {},
   "outputs": [
    {
     "data": {
      "text/plain": [
       "'e'"
      ]
     },
     "execution_count": 10,
     "metadata": {},
     "output_type": "execute_result"
    }
   ],
   "source": [
    "s[1]"
   ]
  },
  {
   "cell_type": "code",
   "execution_count": 11,
   "id": "0a5cc098-8526-4ef8-bd78-1257defb0b6d",
   "metadata": {},
   "outputs": [
    {
     "data": {
      "text/plain": [
       "'olleh'"
      ]
     },
     "execution_count": 11,
     "metadata": {},
     "output_type": "execute_result"
    }
   ],
   "source": [
    "s[::-1]"
   ]
  },
  {
   "cell_type": "code",
   "execution_count": 22,
   "id": "77c9196e-9c4f-4194-b330-a60b90fc56b9",
   "metadata": {},
   "outputs": [],
   "source": [
    "l=('a','b','c','d','e')"
   ]
  },
  {
   "cell_type": "code",
   "execution_count": 23,
   "id": "d3da032b-e9b0-4ab9-94fa-b27d687bf71a",
   "metadata": {},
   "outputs": [
    {
     "data": {
      "text/plain": [
       "('e', 'd', 'c', 'b', 'a')"
      ]
     },
     "execution_count": 23,
     "metadata": {},
     "output_type": "execute_result"
    }
   ],
   "source": [
    "l[::-1]"
   ]
  },
  {
   "cell_type": "code",
   "execution_count": 24,
   "id": "38ae3d61-0be4-4d27-8c89-99367d3a595b",
   "metadata": {},
   "outputs": [
    {
     "ename": "AttributeError",
     "evalue": "'tuple' object has no attribute 'append'",
     "output_type": "error",
     "traceback": [
      "\u001b[1;31m---------------------------------------------------------------------------\u001b[0m",
      "\u001b[1;31mAttributeError\u001b[0m                            Traceback (most recent call last)",
      "Cell \u001b[1;32mIn[24], line 1\u001b[0m\n\u001b[1;32m----> 1\u001b[0m \u001b[43ml\u001b[49m\u001b[38;5;241;43m.\u001b[39;49m\u001b[43mappend\u001b[49m(\u001b[38;5;124m'\u001b[39m\u001b[38;5;124mz\u001b[39m\u001b[38;5;124m'\u001b[39m)\n",
      "\u001b[1;31mAttributeError\u001b[0m: 'tuple' object has no attribute 'append'"
     ]
    }
   ],
   "source": [
    "l.append('z')"
   ]
  },
  {
   "cell_type": "code",
   "execution_count": 21,
   "id": "d4324e69-b3c3-44c3-8c00-3a120a72afa7",
   "metadata": {},
   "outputs": [
    {
     "data": {
      "text/plain": [
       "tuple"
      ]
     },
     "execution_count": 21,
     "metadata": {},
     "output_type": "execute_result"
    }
   ],
   "source": [
    "type(l)"
   ]
  },
  {
   "cell_type": "code",
   "execution_count": 25,
   "id": "bd5ec0eb-1dc0-48fd-90eb-4ea829485d40",
   "metadata": {},
   "outputs": [
    {
     "data": {
      "text/plain": [
       "'a'"
      ]
     },
     "execution_count": 25,
     "metadata": {},
     "output_type": "execute_result"
    }
   ],
   "source": [
    "l[0]"
   ]
  },
  {
   "cell_type": "code",
   "execution_count": 27,
   "id": "23b088bd-8d07-4a3a-9f58-d6a96df70627",
   "metadata": {},
   "outputs": [],
   "source": [
    "s={'a','b','c'}"
   ]
  },
  {
   "cell_type": "code",
   "execution_count": 28,
   "id": "3866f94a-3771-4a0c-8fcc-fc2f0ea13627",
   "metadata": {},
   "outputs": [
    {
     "ename": "TypeError",
     "evalue": "'set' object is not subscriptable",
     "output_type": "error",
     "traceback": [
      "\u001b[1;31m---------------------------------------------------------------------------\u001b[0m",
      "\u001b[1;31mTypeError\u001b[0m                                 Traceback (most recent call last)",
      "Cell \u001b[1;32mIn[28], line 1\u001b[0m\n\u001b[1;32m----> 1\u001b[0m \u001b[43ms\u001b[49m\u001b[43m[\u001b[49m\u001b[43m:\u001b[49m\u001b[43m:\u001b[49m\u001b[38;5;241;43m-\u001b[39;49m\u001b[38;5;241;43m1\u001b[39;49m\u001b[43m]\u001b[49m\n",
      "\u001b[1;31mTypeError\u001b[0m: 'set' object is not subscriptable"
     ]
    }
   ],
   "source": [
    "s[::-1]\n"
   ]
  },
  {
   "cell_type": "code",
   "execution_count": 29,
   "id": "e87fc7a6-e49d-4e0d-91ef-8b5c239f1237",
   "metadata": {},
   "outputs": [
    {
     "ename": "TypeError",
     "evalue": "'set' object is not subscriptable",
     "output_type": "error",
     "traceback": [
      "\u001b[1;31m---------------------------------------------------------------------------\u001b[0m",
      "\u001b[1;31mTypeError\u001b[0m                                 Traceback (most recent call last)",
      "Cell \u001b[1;32mIn[29], line 1\u001b[0m\n\u001b[1;32m----> 1\u001b[0m \u001b[43ms\u001b[49m\u001b[43m[\u001b[49m\u001b[38;5;241;43m0\u001b[39;49m\u001b[43m]\u001b[49m\n",
      "\u001b[1;31mTypeError\u001b[0m: 'set' object is not subscriptable"
     ]
    }
   ],
   "source": [
    "s[0]"
   ]
  },
  {
   "cell_type": "code",
   "execution_count": 30,
   "id": "440f7dea-2de6-49fc-af0c-2a0d4f0649f9",
   "metadata": {},
   "outputs": [
    {
     "ename": "AttributeError",
     "evalue": "'set' object has no attribute 'append'",
     "output_type": "error",
     "traceback": [
      "\u001b[1;31m---------------------------------------------------------------------------\u001b[0m",
      "\u001b[1;31mAttributeError\u001b[0m                            Traceback (most recent call last)",
      "Cell \u001b[1;32mIn[30], line 1\u001b[0m\n\u001b[1;32m----> 1\u001b[0m \u001b[43ms\u001b[49m\u001b[38;5;241;43m.\u001b[39;49m\u001b[43mappend\u001b[49m(\u001b[38;5;124m'\u001b[39m\u001b[38;5;124mg\u001b[39m\u001b[38;5;124m'\u001b[39m)\n",
      "\u001b[1;31mAttributeError\u001b[0m: 'set' object has no attribute 'append'"
     ]
    }
   ],
   "source": [
    "s.append('g')"
   ]
  },
  {
   "cell_type": "code",
   "execution_count": 31,
   "id": "db00aef4-c728-4910-8d30-5473d9678e1d",
   "metadata": {},
   "outputs": [],
   "source": [
    "s.add('j')"
   ]
  },
  {
   "cell_type": "code",
   "execution_count": 32,
   "id": "7ac01b1c-153d-4537-be1f-69bb23d5c9e1",
   "metadata": {},
   "outputs": [
    {
     "data": {
      "text/plain": [
       "{'a', 'b', 'c', 'j'}"
      ]
     },
     "execution_count": 32,
     "metadata": {},
     "output_type": "execute_result"
    }
   ],
   "source": [
    "s"
   ]
  },
  {
   "cell_type": "code",
   "execution_count": 33,
   "id": "78d6b03d-6f24-4073-ac6a-dd092909e0ae",
   "metadata": {},
   "outputs": [],
   "source": [
    "s.remove('a')"
   ]
  },
  {
   "cell_type": "code",
   "execution_count": 34,
   "id": "d25c8b5d-7393-485b-abde-7cb7dadc156a",
   "metadata": {},
   "outputs": [
    {
     "data": {
      "text/plain": [
       "{'b', 'c', 'j'}"
      ]
     },
     "execution_count": 34,
     "metadata": {},
     "output_type": "execute_result"
    }
   ],
   "source": [
    "s"
   ]
  },
  {
   "cell_type": "code",
   "execution_count": 36,
   "id": "24af5595-6af0-48f4-a300-24aef2607b4f",
   "metadata": {},
   "outputs": [],
   "source": [
    "d = {'k1':{'k2':'hello'}}"
   ]
  },
  {
   "cell_type": "code",
   "execution_count": 37,
   "id": "42fa7595-da73-41c6-8548-9b35d15e4236",
   "metadata": {},
   "outputs": [
    {
     "ename": "KeyError",
     "evalue": "(0, 1)",
     "output_type": "error",
     "traceback": [
      "\u001b[1;31m---------------------------------------------------------------------------\u001b[0m",
      "\u001b[1;31mKeyError\u001b[0m                                  Traceback (most recent call last)",
      "Cell \u001b[1;32mIn[37], line 1\u001b[0m\n\u001b[1;32m----> 1\u001b[0m \u001b[43md\u001b[49m\u001b[43m[\u001b[49m\u001b[38;5;241;43m0\u001b[39;49m\u001b[43m,\u001b[49m\u001b[38;5;241;43m1\u001b[39;49m\u001b[43m]\u001b[49m\n",
      "\u001b[1;31mKeyError\u001b[0m: (0, 1)"
     ]
    }
   ],
   "source": [
    "d[0,1]"
   ]
  },
  {
   "cell_type": "code",
   "execution_count": 39,
   "id": "3efa88ee-8090-49a0-b491-e12641434cc0",
   "metadata": {},
   "outputs": [
    {
     "data": {
      "text/plain": [
       "{'k2': 'hello'}"
      ]
     },
     "execution_count": 39,
     "metadata": {},
     "output_type": "execute_result"
    }
   ],
   "source": [
    "d['k1']\n"
   ]
  },
  {
   "cell_type": "code",
   "execution_count": 41,
   "id": "20634c27-5768-4bd4-bbb2-b21b53bbfbce",
   "metadata": {},
   "outputs": [
    {
     "data": {
      "text/plain": [
       "'hello'"
      ]
     },
     "execution_count": 41,
     "metadata": {},
     "output_type": "execute_result"
    }
   ],
   "source": [
    "d['k1']['k2']\n"
   ]
  },
  {
   "cell_type": "code",
   "execution_count": 47,
   "id": "fe6d7948-ef5e-4b1a-8341-94159021dd74",
   "metadata": {},
   "outputs": [],
   "source": [
    "l=[\"preetham\",\"rakshith\",\"sai\"]"
   ]
  },
  {
   "cell_type": "code",
   "execution_count": 48,
   "id": "7428ad4e-4394-4b03-8bfc-56a064e3e0d7",
   "metadata": {},
   "outputs": [],
   "source": [
    "r=l[1][0]"
   ]
  },
  {
   "cell_type": "code",
   "execution_count": 51,
   "id": "c04c1d2a-15ff-4f76-b557-8358b32c8833",
   "metadata": {},
   "outputs": [
    {
     "data": {
      "text/plain": [
       "'r'"
      ]
     },
     "execution_count": 51,
     "metadata": {},
     "output_type": "execute_result"
    }
   ],
   "source": [
    "r"
   ]
  },
  {
   "cell_type": "code",
   "execution_count": 53,
   "id": "4a99d030-0902-4544-9bfe-6bdcb1ffc10c",
   "metadata": {},
   "outputs": [
    {
     "data": {
      "text/plain": [
       "True"
      ]
     },
     "execution_count": 53,
     "metadata": {},
     "output_type": "execute_result"
    }
   ],
   "source": [
    "# two nested lists\n",
    "l_one = [1,2,[3,4]]\n",
    "l_two = [1,2,{'k1':4}]\n",
    "\n",
    "# True or False?\n",
    "l_one[2][0] <= l_two[2]['k1']"
   ]
  },
  {
   "cell_type": "code",
   "execution_count": 55,
   "id": "fd6c4211-5086-48e3-b581-c862a6441f78",
   "metadata": {},
   "outputs": [
    {
     "data": {
      "text/plain": [
       "['Print',\n",
       " 'only',\n",
       " 'the',\n",
       " 'words',\n",
       " 'that',\n",
       " 'start',\n",
       " 'with',\n",
       " 's',\n",
       " 'in',\n",
       " 'this',\n",
       " 'sentence']"
      ]
     },
     "execution_count": 55,
     "metadata": {},
     "output_type": "execute_result"
    }
   ],
   "source": [
    "st = 'Print only the words that start with s in this sentence'\n",
    "st.split()"
   ]
  },
  {
   "cell_type": "code",
   "execution_count": 63,
   "id": "3bcf8b32-188a-4c1d-a235-74014ecc9bf4",
   "metadata": {},
   "outputs": [
    {
     "name": "stdout",
     "output_type": "stream",
     "text": [
      "start\n",
      "s\n",
      "sentence\n"
     ]
    }
   ],
   "source": [
    "for word in st.split():\n",
    "    if word[0]=='s':\n",
    "        print(word)"
   ]
  },
  {
   "cell_type": "code",
   "execution_count": 70,
   "id": "63526e5c-1792-44a5-9ed0-e49de4feb935",
   "metadata": {},
   "outputs": [
    {
     "data": {
      "text/plain": [
       "(0, 2, 4, 6, 8, 10)"
      ]
     },
     "execution_count": 70,
     "metadata": {},
     "output_type": "execute_result"
    }
   ],
   "source": [
    "tuple(range(0,11,2))"
   ]
  },
  {
   "cell_type": "code",
   "execution_count": 71,
   "id": "77ce991f-35b1-4a5b-bae7-2117ef00b4f4",
   "metadata": {},
   "outputs": [
    {
     "data": {
      "text/plain": [
       "(0, 1, 2, 3, 4, 5, 6, 7, 8, 9, 10)"
      ]
     },
     "execution_count": 71,
     "metadata": {},
     "output_type": "execute_result"
    }
   ],
   "source": [
    "tuple(range(0,11))"
   ]
  },
  {
   "cell_type": "code",
   "execution_count": 72,
   "id": "7d661b54-604c-4ee5-9731-d26f904b21ad",
   "metadata": {},
   "outputs": [
    {
     "data": {
      "text/plain": [
       "(0, 3, 6, 9)"
      ]
     },
     "execution_count": 72,
     "metadata": {},
     "output_type": "execute_result"
    }
   ],
   "source": [
    "tuple(range(0,11,3))"
   ]
  },
  {
   "cell_type": "code",
   "execution_count": 84,
   "id": "68b92ad6-838c-44e8-a24b-3cfceca903d3",
   "metadata": {},
   "outputs": [
    {
     "name": "stdout",
     "output_type": "stream",
     "text": [
      "3\n",
      "6\n",
      "9\n",
      "12\n",
      "15\n",
      "18\n",
      "21\n",
      "24\n",
      "27\n",
      "30\n",
      "33\n",
      "36\n",
      "39\n",
      "42\n",
      "45\n",
      "48\n"
     ]
    }
   ],
   "source": [
    "for num in range(1,51): \n",
    "    if num %3==0:\n",
    "        print(num)\n",
    "    else:\n",
    "        pass\n",
    "        "
   ]
  },
  {
   "cell_type": "code",
   "execution_count": 2,
   "id": "f5f80650-a5e1-488a-97b2-bf22e4f969d3",
   "metadata": {},
   "outputs": [
    {
     "name": "stdout",
     "output_type": "stream",
     "text": [
      "3\n",
      "6\n",
      "9\n",
      "12\n",
      "15\n",
      "18\n",
      "21\n",
      "24\n",
      "27\n",
      "30\n",
      "33\n",
      "36\n",
      "39\n",
      "42\n",
      "45\n",
      "48\n"
     ]
    }
   ],
   "source": [
    "for s in range(1,51):\n",
    "    if s%3 ==0:\n",
    "        print(s)"
   ]
  },
  {
   "cell_type": "code",
   "execution_count": 3,
   "id": "a17e9064-f372-4fb5-9758-ab6e7bef2455",
   "metadata": {},
   "outputs": [],
   "source": [
    "s='hellow world'"
   ]
  },
  {
   "cell_type": "code",
   "execution_count": 4,
   "id": "81e2864e-3111-4dc8-ae6c-762aea7502a9",
   "metadata": {},
   "outputs": [
    {
     "data": {
      "text/plain": [
       "'dlrow wolleh'"
      ]
     },
     "execution_count": 4,
     "metadata": {},
     "output_type": "execute_result"
    }
   ],
   "source": [
    "s[::-1]"
   ]
  },
  {
   "cell_type": "code",
   "execution_count": 6,
   "id": "b4554b20-f9cb-40f8-9d61-db1b562ceba3",
   "metadata": {},
   "outputs": [
    {
     "data": {
      "text/plain": [
       "'HELLOW WORLD'"
      ]
     },
     "execution_count": 6,
     "metadata": {},
     "output_type": "execute_result"
    }
   ],
   "source": [
    "s.upper()"
   ]
  },
  {
   "cell_type": "code",
   "execution_count": 7,
   "id": "239d36a2-c268-4f3c-95da-5a6eddb1f621",
   "metadata": {},
   "outputs": [
    {
     "data": {
      "text/plain": [
       "'hellow world'"
      ]
     },
     "execution_count": 7,
     "metadata": {},
     "output_type": "execute_result"
    }
   ],
   "source": [
    "s.lower()"
   ]
  },
  {
   "cell_type": "code",
   "execution_count": 8,
   "id": "040239f2-e603-4a66-ac14-ef9460256173",
   "metadata": {},
   "outputs": [
    {
     "data": {
      "text/plain": [
       "['hellow', 'world']"
      ]
     },
     "execution_count": 8,
     "metadata": {},
     "output_type": "execute_result"
    }
   ],
   "source": [
    "s.split()"
   ]
  },
  {
   "cell_type": "code",
   "execution_count": 9,
   "id": "51bd122c-e341-45a9-b995-ae714bda64a5",
   "metadata": {},
   "outputs": [
    {
     "data": {
      "text/plain": [
       "'Insert another string with curly brackets: The inserted string'"
      ]
     },
     "execution_count": 9,
     "metadata": {},
     "output_type": "execute_result"
    }
   ],
   "source": [
    "'Insert another string with curly brackets: {}'.format('The inserted string')"
   ]
  },
  {
   "cell_type": "code",
   "execution_count": 11,
   "id": "7b130508-513e-4293-90cc-e4ac1da53ca4",
   "metadata": {},
   "outputs": [
    {
     "name": "stdout",
     "output_type": "stream",
     "text": [
      "my name is preetham reddy\n"
     ]
    }
   ],
   "source": [
    "print(\"my name is %s reddy\"%'preetham')"
   ]
  },
  {
   "cell_type": "code",
   "execution_count": 12,
   "id": "fe5c00b6-03e8-4b78-be3a-834c26cf613b",
   "metadata": {},
   "outputs": [
    {
     "name": "stdout",
     "output_type": "stream",
     "text": [
      "value: 4.56\n"
     ]
    }
   ],
   "source": [
    "print('value:%5.2f'%4.55679)"
   ]
  },
  {
   "cell_type": "code",
   "execution_count": 13,
   "id": "577e2f43-31dc-430b-a050-8d7a56d119fa",
   "metadata": {},
   "outputs": [
    {
     "name": "stdout",
     "output_type": "stream",
     "text": [
      "value:46.56\n"
     ]
    }
   ],
   "source": [
    "print('value:%5.2f'%46.55679)"
   ]
  },
  {
   "cell_type": "code",
   "execution_count": 14,
   "id": "1d2f6969-5090-4fb3-a63a-99e09e8a9d7a",
   "metadata": {},
   "outputs": [
    {
     "name": "stdout",
     "output_type": "stream",
     "text": [
      "value:4.56\n"
     ]
    }
   ],
   "source": [
    "print('value:%1.2f'%4.55679)"
   ]
  },
  {
   "cell_type": "code",
   "execution_count": 15,
   "id": "fee9f232-fb3a-402d-8e1a-a1b0660b36d0",
   "metadata": {},
   "outputs": [
    {
     "name": "stdout",
     "output_type": "stream",
     "text": [
      "value:47.56\n"
     ]
    }
   ],
   "source": [
    "print('value:%1.2f'%47.55679)"
   ]
  },
  {
   "cell_type": "code",
   "execution_count": 16,
   "id": "a49c62b1-33b5-4c95-a794-b99e453ab83b",
   "metadata": {},
   "outputs": [
    {
     "name": "stdout",
     "output_type": "stream",
     "text": [
      "value:47.6\n"
     ]
    }
   ],
   "source": [
    "print('value:%1.1f'%47.55679)"
   ]
  },
  {
   "cell_type": "code",
   "execution_count": 19,
   "id": "34be7371-baab-425d-a7bf-151fd62a77fc",
   "metadata": {},
   "outputs": [
    {
     "name": "stdout",
     "output_type": "stream",
     "text": [
      "First: hi, Second:  4.54, Third: 'byte'\n"
     ]
    }
   ],
   "source": [
    "print('First: %s, Second: %5.2f, Third: %r' %('hi',4.5436,'byte'))"
   ]
  },
  {
   "cell_type": "code",
   "execution_count": 22,
   "id": "f82a4d6f-49f9-420d-82c3-b802c8f785e3",
   "metadata": {},
   "outputs": [
    {
     "name": "stdout",
     "output_type": "stream",
     "text": [
      "Fruit    | Quantity \n",
      "Apples   |       3.0\n",
      "Oranges  |        10\n"
     ]
    }
   ],
   "source": [
    "# alignment\n",
    "print('{0:8} | {1:9}'.format('Fruit', 'Quantity'))\n",
    "print('{0:8} | {1:9}'.format('Apples', 3.))\n",
    "print('{0:8} | {1:9}'.format('Oranges', 10))"
   ]
  },
  {
   "cell_type": "code",
   "execution_count": 23,
   "id": "752d8ada-23a5-4809-a5b1-77307c8122c5",
   "metadata": {},
   "outputs": [
    {
     "name": "stdout",
     "output_type": "stream",
     "text": [
      " Fruit   | Quantity \n",
      " Apples  |    3.0   \n",
      "Oranges  |    10    \n"
     ]
    }
   ],
   "source": [
    "# alignment with center\n",
    "print('{0:^8} | {1:^9}'.format('Fruit', 'Quantity'))\n",
    "print('{0:^8} | {1:^9}'.format('Apples', 3.))\n",
    "print('{0:^8} | {1:^9}'.format('Oranges', 10))"
   ]
  },
  {
   "cell_type": "code",
   "execution_count": 24,
   "id": "c7f50967-0e0c-448f-a362-60d8f471c1c1",
   "metadata": {},
   "outputs": [
    {
     "name": "stdout",
     "output_type": "stream",
     "text": [
      "Fruit    |  Quantity\n",
      "Apples   |       3.0\n",
      "Oranges  |        10\n"
     ]
    }
   ],
   "source": [
    "# alignment with right/left\n",
    "print('{0:<8} | {1:>9}'.format('Fruit', 'Quantity'))\n",
    "print('{0:<8} | {1:>9}'.format('Apples', 3.))\n",
    "print('{0:<8} | {1:>9}'.format('Oranges', 10))"
   ]
  },
  {
   "cell_type": "code",
   "execution_count": 26,
   "id": "9c92c5d7-928c-4054-a906-976cec14be16",
   "metadata": {},
   "outputs": [
    {
     "name": "stdout",
     "output_type": "stream",
     "text": [
      "Left==== | -Center- | ...Right\n",
      "11====== | ---22--- | ......33\n"
     ]
    }
   ],
   "source": [
    "# filling alignment with = - . > < ^\n",
    "print('{0:=<8} | {1:-^8} | {2:.>8}'.format('Left','Center','Right'))\n",
    "print('{0:=<8} | {1:-^8} | {2:.>8}'.format(11,22,33))"
   ]
  },
  {
   "cell_type": "code",
   "execution_count": 35,
   "id": "2f2b2760-6643-4337-a4f9-8ad788f0756b",
   "metadata": {},
   "outputs": [],
   "source": [
    "list=[2,3.4,'preetham']"
   ]
  },
  {
   "cell_type": "code",
   "execution_count": 36,
   "id": "fbf13ee3-fdfc-452c-911a-f10c203740e3",
   "metadata": {},
   "outputs": [
    {
     "ename": "TypeError",
     "evalue": "'builtin_function_or_method' object is not subscriptable",
     "output_type": "error",
     "traceback": [
      "\u001b[1;31m---------------------------------------------------------------------------\u001b[0m",
      "\u001b[1;31mTypeError\u001b[0m                                 Traceback (most recent call last)",
      "Cell \u001b[1;32mIn[36], line 1\u001b[0m\n\u001b[1;32m----> 1\u001b[0m \u001b[38;5;28;43mlist\u001b[39;49m\u001b[38;5;241;43m.\u001b[39;49m\u001b[43mappend\u001b[49m\u001b[43m[\u001b[49m\u001b[38;5;124;43m'\u001b[39;49m\u001b[38;5;124;43m90\u001b[39;49m\u001b[38;5;124;43m'\u001b[39;49m\u001b[43m]\u001b[49m\n",
      "\u001b[1;31mTypeError\u001b[0m: 'builtin_function_or_method' object is not subscriptable"
     ]
    }
   ],
   "source": [
    "list.append['90']"
   ]
  },
  {
   "cell_type": "code",
   "execution_count": 29,
   "id": "401d5d5c-0122-4666-8f3e-8f4b92db05fc",
   "metadata": {},
   "outputs": [
    {
     "data": {
      "text/plain": [
       "list"
      ]
     },
     "execution_count": 29,
     "metadata": {},
     "output_type": "execute_result"
    }
   ],
   "source": [
    "type(list)"
   ]
  },
  {
   "cell_type": "code",
   "execution_count": 30,
   "id": "e2ba1408-4951-4b44-9f28-476163946201",
   "metadata": {},
   "outputs": [
    {
     "data": {
      "text/plain": [
       "3"
      ]
     },
     "execution_count": 30,
     "metadata": {},
     "output_type": "execute_result"
    }
   ],
   "source": [
    "len(list)"
   ]
  },
  {
   "cell_type": "code",
   "execution_count": 31,
   "id": "da5fad3a-4c3d-4679-8cac-3e796c37a0bc",
   "metadata": {},
   "outputs": [
    {
     "data": {
      "text/plain": [
       "2"
      ]
     },
     "execution_count": 31,
     "metadata": {},
     "output_type": "execute_result"
    }
   ],
   "source": [
    "list[0]"
   ]
  },
  {
   "cell_type": "code",
   "execution_count": 37,
   "id": "f2fb8c8e-bb08-45ce-8605-b80faff9c037",
   "metadata": {},
   "outputs": [],
   "source": [
    "ls=[1,2,3,4]"
   ]
  },
  {
   "cell_type": "code",
   "execution_count": 38,
   "id": "0a6fcb1e-0c1f-4ef9-b37d-a8ddd6116795",
   "metadata": {},
   "outputs": [],
   "source": [
    "ls.append('8')"
   ]
  },
  {
   "cell_type": "code",
   "execution_count": 39,
   "id": "f5c46789-275d-4aa3-b8e8-03b8ffc15e06",
   "metadata": {},
   "outputs": [
    {
     "data": {
      "text/plain": [
       "[1, 2, 3, 4, '8']"
      ]
     },
     "execution_count": 39,
     "metadata": {},
     "output_type": "execute_result"
    }
   ],
   "source": [
    "ls\n"
   ]
  },
  {
   "cell_type": "code",
   "execution_count": 40,
   "id": "4b32ec4d-83e7-4bf2-9209-aa93ea265820",
   "metadata": {},
   "outputs": [
    {
     "data": {
      "text/plain": [
       "4"
      ]
     },
     "execution_count": 40,
     "metadata": {},
     "output_type": "execute_result"
    }
   ],
   "source": [
    "ls.pop(3)"
   ]
  },
  {
   "cell_type": "code",
   "execution_count": 41,
   "id": "944ad029-5ccc-41cb-a831-980e6d483d84",
   "metadata": {},
   "outputs": [
    {
     "data": {
      "text/plain": [
       "[1, 2, 3, '8']"
      ]
     },
     "execution_count": 41,
     "metadata": {},
     "output_type": "execute_result"
    }
   ],
   "source": [
    "ls"
   ]
  },
  {
   "cell_type": "code",
   "execution_count": 42,
   "id": "a63c15ad-8c84-4f26-98a2-7f8d0c28856a",
   "metadata": {},
   "outputs": [],
   "source": [
    "ls.append(5)"
   ]
  },
  {
   "cell_type": "code",
   "execution_count": 43,
   "id": "93c4b266-f51a-43b5-ab21-47e20362deb7",
   "metadata": {},
   "outputs": [
    {
     "data": {
      "text/plain": [
       "[1, 2, 3, '8', 5]"
      ]
     },
     "execution_count": 43,
     "metadata": {},
     "output_type": "execute_result"
    }
   ],
   "source": [
    "ls"
   ]
  },
  {
   "cell_type": "code",
   "execution_count": 44,
   "id": "8875a2f5-86e1-40be-be1a-8323ac4ae897",
   "metadata": {},
   "outputs": [],
   "source": [
    "ls.reverse()"
   ]
  },
  {
   "cell_type": "code",
   "execution_count": 45,
   "id": "0d8e2b09-fbbc-420f-870c-8faaa3d99138",
   "metadata": {},
   "outputs": [
    {
     "data": {
      "text/plain": [
       "[5, '8', 3, 2, 1]"
      ]
     },
     "execution_count": 45,
     "metadata": {},
     "output_type": "execute_result"
    }
   ],
   "source": [
    "ls"
   ]
  },
  {
   "cell_type": "code",
   "execution_count": 48,
   "id": "536a45a1-98b6-4118-8277-0bcdff70f514",
   "metadata": {},
   "outputs": [
    {
     "data": {
      "text/plain": [
       "'8'"
      ]
     },
     "execution_count": 48,
     "metadata": {},
     "output_type": "execute_result"
    }
   ],
   "source": [
    "ls.pop(1)"
   ]
  },
  {
   "cell_type": "code",
   "execution_count": 49,
   "id": "8dc1e569-ff6c-4a1f-817c-6ab9bba3a7e6",
   "metadata": {},
   "outputs": [
    {
     "data": {
      "text/plain": [
       "[5, 3, 2, 1]"
      ]
     },
     "execution_count": 49,
     "metadata": {},
     "output_type": "execute_result"
    }
   ],
   "source": [
    "ls"
   ]
  },
  {
   "cell_type": "code",
   "execution_count": 51,
   "id": "8b38983a-820c-4dea-bdcc-49cd58811814",
   "metadata": {},
   "outputs": [],
   "source": [
    "ls.sort()"
   ]
  },
  {
   "cell_type": "code",
   "execution_count": 52,
   "id": "2a7a5244-3209-47bf-af4f-d5f8c8d80479",
   "metadata": {},
   "outputs": [
    {
     "data": {
      "text/plain": [
       "[1, 2, 3, 5]"
      ]
     },
     "execution_count": 52,
     "metadata": {},
     "output_type": "execute_result"
    }
   ],
   "source": [
    "ls"
   ]
  },
  {
   "cell_type": "code",
   "execution_count": 53,
   "id": "1d702dc2-9683-494b-aa11-94add4663474",
   "metadata": {},
   "outputs": [],
   "source": [
    "ma1=[1,2,3]\n",
    "ma2=[4,5,6]\n",
    "ma3=[7,8,9]\n",
    "ma=[ma1,ma2,ma3]"
   ]
  },
  {
   "cell_type": "code",
   "execution_count": 54,
   "id": "6f1154a6-fbd0-4e57-a0e0-7d55b9148e8a",
   "metadata": {},
   "outputs": [
    {
     "data": {
      "text/plain": [
       "[[1, 2, 3], [4, 5, 6], [7, 8, 9]]"
      ]
     },
     "execution_count": 54,
     "metadata": {},
     "output_type": "execute_result"
    }
   ],
   "source": [
    "ma"
   ]
  },
  {
   "cell_type": "code",
   "execution_count": 55,
   "id": "6574508e-07dd-4d97-8da2-563219ab73f7",
   "metadata": {},
   "outputs": [
    {
     "data": {
      "text/plain": [
       "[4, 5, 6]"
      ]
     },
     "execution_count": 55,
     "metadata": {},
     "output_type": "execute_result"
    }
   ],
   "source": [
    "ma[1]"
   ]
  },
  {
   "cell_type": "code",
   "execution_count": 56,
   "id": "2c5c4f02-6081-400c-9de1-c080a24cfd28",
   "metadata": {},
   "outputs": [],
   "source": [
    "ma=[row[1] for row in ma]"
   ]
  },
  {
   "cell_type": "code",
   "execution_count": 57,
   "id": "bc4865a0-4ca5-44fc-8c74-bd74a5f1f648",
   "metadata": {},
   "outputs": [
    {
     "data": {
      "text/plain": [
       "[2, 5, 8]"
      ]
     },
     "execution_count": 57,
     "metadata": {},
     "output_type": "execute_result"
    }
   ],
   "source": [
    "ma"
   ]
  },
  {
   "cell_type": "code",
   "execution_count": 65,
   "id": "493b3664-0e5d-4b94-bf6a-4293d35b3e79",
   "metadata": {},
   "outputs": [],
   "source": [
    "my_dict = {'key1':123,'key2':[12,23,33],'key3':['item0','item1','item2']}"
   ]
  },
  {
   "cell_type": "code",
   "execution_count": 66,
   "id": "febd42e3-f654-4fe1-8d0c-9e61b91fc2e2",
   "metadata": {},
   "outputs": [
    {
     "data": {
      "text/plain": [
       "'item1'"
      ]
     },
     "execution_count": 66,
     "metadata": {},
     "output_type": "execute_result"
    }
   ],
   "source": [
    "my_dict['key3'][1]"
   ]
  },
  {
   "cell_type": "code",
   "execution_count": 68,
   "id": "4d5447ab-6845-4846-86c9-869c8e55b291",
   "metadata": {},
   "outputs": [],
   "source": [
    "my_dict[3]={'key4':[1234]}"
   ]
  },
  {
   "cell_type": "code",
   "execution_count": 69,
   "id": "0b7a7ceb-2c67-473a-8395-082b005e12ee",
   "metadata": {},
   "outputs": [
    {
     "data": {
      "text/plain": [
       "{'key1': 123,\n",
       " 'key2': [12, 23, 33],\n",
       " 'key3': ['item0', 'item1', 'item2'],\n",
       " 3: {'key4': [1234]}}"
      ]
     },
     "execution_count": 69,
     "metadata": {},
     "output_type": "execute_result"
    }
   ],
   "source": [
    "my_dict"
   ]
  },
  {
   "cell_type": "code",
   "execution_count": 70,
   "id": "40d44c5a-04a8-4950-8b5e-804b307fea36",
   "metadata": {},
   "outputs": [
    {
     "data": {
      "text/plain": [
       "dict_keys(['key1', 'key2', 'key3', 3])"
      ]
     },
     "execution_count": 70,
     "metadata": {},
     "output_type": "execute_result"
    }
   ],
   "source": [
    "my_dict.keys()"
   ]
  },
  {
   "cell_type": "code",
   "execution_count": 71,
   "id": "dcc66b23-fceb-471f-8361-7157b4aca61f",
   "metadata": {},
   "outputs": [
    {
     "data": {
      "text/plain": [
       "dict_values([123, [12, 23, 33], ['item0', 'item1', 'item2'], {'key4': [1234]}])"
      ]
     },
     "execution_count": 71,
     "metadata": {},
     "output_type": "execute_result"
    }
   ],
   "source": [
    "my_dict.values()"
   ]
  },
  {
   "cell_type": "code",
   "execution_count": 72,
   "id": "9f0bd1f8-4cad-4745-8c30-8d84508123d4",
   "metadata": {},
   "outputs": [],
   "source": [
    "t=(1,2,3)"
   ]
  },
  {
   "cell_type": "code",
   "execution_count": 74,
   "id": "5dad4338-2ca2-4891-9f8c-4c760b791c7c",
   "metadata": {},
   "outputs": [
    {
     "data": {
      "text/plain": [
       "tuple"
      ]
     },
     "execution_count": 74,
     "metadata": {},
     "output_type": "execute_result"
    }
   ],
   "source": [
    "type(t)"
   ]
  },
  {
   "cell_type": "code",
   "execution_count": 75,
   "id": "c059e546-0c77-4463-abaa-2720c2c26105",
   "metadata": {},
   "outputs": [],
   "source": [
    "t=('one',3,4,5)"
   ]
  },
  {
   "cell_type": "code",
   "execution_count": 76,
   "id": "98555f5b-7215-4bf3-bffb-ac6be6760a06",
   "metadata": {},
   "outputs": [
    {
     "data": {
      "text/plain": [
       "('one', 3, 4, 5)"
      ]
     },
     "execution_count": 76,
     "metadata": {},
     "output_type": "execute_result"
    }
   ],
   "source": [
    "t"
   ]
  },
  {
   "cell_type": "code",
   "execution_count": 80,
   "id": "eabb0042-01ba-4744-93f3-d0ce31a8cb18",
   "metadata": {},
   "outputs": [
    {
     "data": {
      "text/plain": [
       "0"
      ]
     },
     "execution_count": 80,
     "metadata": {},
     "output_type": "execute_result"
    }
   ],
   "source": [
    "t.index('one')"
   ]
  },
  {
   "cell_type": "code",
   "execution_count": 81,
   "id": "9658e0ce-0615-4e9f-aff8-7bff1355ac34",
   "metadata": {},
   "outputs": [
    {
     "data": {
      "text/plain": [
       "('one', 3, 4, 5)"
      ]
     },
     "execution_count": 81,
     "metadata": {},
     "output_type": "execute_result"
    }
   ],
   "source": [
    "t"
   ]
  },
  {
   "cell_type": "code",
   "execution_count": 82,
   "id": "766398e5-3e13-4308-840d-7deafb9ba87c",
   "metadata": {},
   "outputs": [
    {
     "data": {
      "text/plain": [
       "0"
      ]
     },
     "execution_count": 82,
     "metadata": {},
     "output_type": "execute_result"
    }
   ],
   "source": [
    "t.count('last')"
   ]
  },
  {
   "cell_type": "code",
   "execution_count": 83,
   "id": "8d6d2a39-258c-401d-84be-a74f1e3966e2",
   "metadata": {},
   "outputs": [
    {
     "data": {
      "text/plain": [
       "('one', 3, 4, 5)"
      ]
     },
     "execution_count": 83,
     "metadata": {},
     "output_type": "execute_result"
    }
   ],
   "source": [
    "t"
   ]
  },
  {
   "cell_type": "code",
   "execution_count": 84,
   "id": "e5a0d763-e5c0-45cc-b096-583b6c142045",
   "metadata": {},
   "outputs": [],
   "source": [
    "tup=(1,2,3,4,5,6)"
   ]
  },
  {
   "cell_type": "code",
   "execution_count": 85,
   "id": "e87f6102-1c3b-4415-a378-1ef0ef4c2629",
   "metadata": {},
   "outputs": [
    {
     "data": {
      "text/plain": [
       "(1, 2, 3, 4, 5, 6)"
      ]
     },
     "execution_count": 85,
     "metadata": {},
     "output_type": "execute_result"
    }
   ],
   "source": [
    "tup"
   ]
  },
  {
   "cell_type": "code",
   "execution_count": 88,
   "id": "256bfb99-5963-485f-89e5-d86274fb3d95",
   "metadata": {},
   "outputs": [
    {
     "data": {
      "text/plain": [
       "5"
      ]
     },
     "execution_count": 88,
     "metadata": {},
     "output_type": "execute_result"
    }
   ],
   "source": [
    "tup.index(6)"
   ]
  },
  {
   "cell_type": "code",
   "execution_count": 89,
   "id": "7f46f2bb-45f7-4f57-927b-4b5c4ec54f66",
   "metadata": {},
   "outputs": [
    {
     "data": {
      "text/plain": [
       "(1, 2, 3, 4, 5, 6)"
      ]
     },
     "execution_count": 89,
     "metadata": {},
     "output_type": "execute_result"
    }
   ],
   "source": [
    "tup"
   ]
  },
  {
   "cell_type": "code",
   "execution_count": 90,
   "id": "73cf5f6c-1e36-4b9b-8dd2-ee6e34ca23d9",
   "metadata": {},
   "outputs": [
    {
     "data": {
      "text/plain": [
       "0"
      ]
     },
     "execution_count": 90,
     "metadata": {},
     "output_type": "execute_result"
    }
   ],
   "source": [
    "tup.count(8)"
   ]
  },
  {
   "cell_type": "code",
   "execution_count": 91,
   "id": "90fb490e-5bd9-4d6f-9482-121be78915e3",
   "metadata": {},
   "outputs": [
    {
     "data": {
      "text/plain": [
       "(1, 2, 3, 4, 5, 6)"
      ]
     },
     "execution_count": 91,
     "metadata": {},
     "output_type": "execute_result"
    }
   ],
   "source": [
    "tup"
   ]
  },
  {
   "cell_type": "code",
   "execution_count": 93,
   "id": "3b6462cb-a78c-4639-8575-fdb27efd31d5",
   "metadata": {},
   "outputs": [
    {
     "ename": "ValueError",
     "evalue": "tuple.index(x): x not in tuple",
     "output_type": "error",
     "traceback": [
      "\u001b[1;31m---------------------------------------------------------------------------\u001b[0m",
      "\u001b[1;31mValueError\u001b[0m                                Traceback (most recent call last)",
      "Cell \u001b[1;32mIn[93], line 1\u001b[0m\n\u001b[1;32m----> 1\u001b[0m \u001b[43mtup\u001b[49m\u001b[38;5;241;43m.\u001b[39;49m\u001b[43mindex\u001b[49m\u001b[43m(\u001b[49m\u001b[38;5;241;43m9\u001b[39;49m\u001b[43m)\u001b[49m\n",
      "\u001b[1;31mValueError\u001b[0m: tuple.index(x): x not in tuple"
     ]
    }
   ],
   "source": [
    "tup.index(9)"
   ]
  },
  {
   "cell_type": "code",
   "execution_count": 94,
   "id": "220195b7-1879-44c7-956f-49b53e165877",
   "metadata": {},
   "outputs": [
    {
     "data": {
      "text/plain": [
       "1"
      ]
     },
     "execution_count": 94,
     "metadata": {},
     "output_type": "execute_result"
    }
   ],
   "source": [
    "tup.index(2)"
   ]
  },
  {
   "cell_type": "code",
   "execution_count": 95,
   "id": "553a8c8e-130b-41f6-95bc-aa1caed12c0b",
   "metadata": {},
   "outputs": [],
   "source": [
    "list1 = [1,1,2,2,3,4,5,6,1,1]"
   ]
  },
  {
   "cell_type": "code",
   "execution_count": 97,
   "id": "a17260b6-a458-480a-9367-2fc1c4e8bd0c",
   "metadata": {},
   "outputs": [
    {
     "data": {
      "text/plain": [
       "list"
      ]
     },
     "execution_count": 97,
     "metadata": {},
     "output_type": "execute_result"
    }
   ],
   "source": [
    "type(list1)"
   ]
  },
  {
   "cell_type": "code",
   "execution_count": 98,
   "id": "7cb9cb29-5452-4a31-bc45-e357e031a4a4",
   "metadata": {},
   "outputs": [
    {
     "data": {
      "text/plain": [
       "{1, 2, 3, 4, 5, 6}"
      ]
     },
     "execution_count": 98,
     "metadata": {},
     "output_type": "execute_result"
    }
   ],
   "source": [
    "set(list1)"
   ]
  },
  {
   "cell_type": "code",
   "execution_count": 102,
   "id": "d6dd9f5f-4c21-4b63-babd-3d5e4ff55d4d",
   "metadata": {},
   "outputs": [],
   "source": [
    "x=set()"
   ]
  },
  {
   "cell_type": "code",
   "execution_count": 103,
   "id": "0179c119-9e74-4c10-abaf-2234acea33f4",
   "metadata": {},
   "outputs": [],
   "source": [
    "x.add(8)"
   ]
  },
  {
   "cell_type": "code",
   "execution_count": 104,
   "id": "d743a772-e4be-41c4-9cbe-26f1330e7088",
   "metadata": {},
   "outputs": [
    {
     "data": {
      "text/plain": [
       "{8}"
      ]
     },
     "execution_count": 104,
     "metadata": {},
     "output_type": "execute_result"
    }
   ],
   "source": [
    "x"
   ]
  },
  {
   "cell_type": "code",
   "execution_count": 105,
   "id": "367b5822-1729-429a-8e04-6594838ac9ca",
   "metadata": {},
   "outputs": [
    {
     "data": {
      "text/plain": [
       "set"
      ]
     },
     "execution_count": 105,
     "metadata": {},
     "output_type": "execute_result"
    }
   ],
   "source": [
    "type(x)"
   ]
  },
  {
   "cell_type": "code",
   "execution_count": 107,
   "id": "b636bc09-3521-4606-96e1-e845e4081c4e",
   "metadata": {},
   "outputs": [],
   "source": [
    "x.add(8)"
   ]
  },
  {
   "cell_type": "code",
   "execution_count": 108,
   "id": "fd83ad72-5e4b-4ffa-8a92-3045078e833c",
   "metadata": {},
   "outputs": [
    {
     "data": {
      "text/plain": [
       "{8}"
      ]
     },
     "execution_count": 108,
     "metadata": {},
     "output_type": "execute_result"
    }
   ],
   "source": [
    "x"
   ]
  },
  {
   "cell_type": "code",
   "execution_count": 109,
   "id": "e30d6293-95d6-4ac8-9204-7b2bfaa907fc",
   "metadata": {},
   "outputs": [
    {
     "name": "stdout",
     "output_type": "stream",
     "text": [
      "Writing test.txt\n"
     ]
    }
   ],
   "source": [
    "%%writefile test.txt\n",
    "Hello, this is a quick test file."
   ]
  },
  {
   "cell_type": "code",
   "execution_count": 110,
   "id": "fc712e8d-360e-4aa7-a635-a345ba723105",
   "metadata": {},
   "outputs": [],
   "source": [
    "my_file= open ('test.txt')"
   ]
  },
  {
   "cell_type": "code",
   "execution_count": 113,
   "id": "9bd0a111-c023-4c4e-99b7-bc60072fca2b",
   "metadata": {},
   "outputs": [
    {
     "data": {
      "text/plain": [
       "'Hello, this is a quick test file.\\n'"
      ]
     },
     "execution_count": 113,
     "metadata": {},
     "output_type": "execute_result"
    }
   ],
   "source": [
    "my_file.read()"
   ]
  },
  {
   "cell_type": "code",
   "execution_count": 114,
   "id": "af1533cc-08a1-44b0-99b6-d566b234ca28",
   "metadata": {},
   "outputs": [
    {
     "data": {
      "text/plain": [
       "''"
      ]
     },
     "execution_count": 114,
     "metadata": {},
     "output_type": "execute_result"
    }
   ],
   "source": [
    "my_file.read()"
   ]
  },
  {
   "cell_type": "code",
   "execution_count": 115,
   "id": "dfa928fa-0050-4286-849d-6cd33c7e8abe",
   "metadata": {},
   "outputs": [
    {
     "data": {
      "text/plain": [
       "0"
      ]
     },
     "execution_count": 115,
     "metadata": {},
     "output_type": "execute_result"
    }
   ],
   "source": [
    "my_file.seek(0)"
   ]
  },
  {
   "cell_type": "code",
   "execution_count": 116,
   "id": "3365f541-bd6f-45ee-81bb-77556965eaef",
   "metadata": {},
   "outputs": [
    {
     "data": {
      "text/plain": [
       "'Hello, this is a quick test file.\\n'"
      ]
     },
     "execution_count": 116,
     "metadata": {},
     "output_type": "execute_result"
    }
   ],
   "source": [
    "my_file.read()"
   ]
  },
  {
   "cell_type": "code",
   "execution_count": 132,
   "id": "1fd91531-93a6-4a6d-9548-f8549a79b164",
   "metadata": {},
   "outputs": [
    {
     "data": {
      "text/plain": [
       "['Hello, this is a quick test file. \\n']"
      ]
     },
     "execution_count": 132,
     "metadata": {},
     "output_type": "execute_result"
    }
   ],
   "source": [
    "my_file.readlines(1)"
   ]
  },
  {
   "cell_type": "code",
   "execution_count": 134,
   "id": "745b9c54-46d9-4e63-afc3-60bb21d60678",
   "metadata": {},
   "outputs": [
    {
     "data": {
      "text/plain": [
       "0"
      ]
     },
     "execution_count": 134,
     "metadata": {},
     "output_type": "execute_result"
    }
   ],
   "source": [
    "my_file.seek(0)"
   ]
  },
  {
   "cell_type": "code",
   "execution_count": 133,
   "id": "f4fa3b4e-e436-4199-bfd3-ab433a1b7153",
   "metadata": {},
   "outputs": [
    {
     "data": {
      "text/plain": [
       "['my name is preetham \\\\n\\n',\n",
       " 'my college name is brindavan college of enginering']"
      ]
     },
     "execution_count": 133,
     "metadata": {},
     "output_type": "execute_result"
    }
   ],
   "source": [
    "my_file.readlines()"
   ]
  },
  {
   "cell_type": "code",
   "execution_count": 135,
   "id": "6d4c774e-9253-4dc2-a740-6e31639ffde5",
   "metadata": {},
   "outputs": [],
   "source": [
    "my_file= open ('test.txt','w+')"
   ]
  },
  {
   "cell_type": "code",
   "execution_count": 136,
   "id": "e5cf5b70-ccd8-4912-ad7a-00081e1197f6",
   "metadata": {},
   "outputs": [
    {
     "data": {
      "text/plain": [
       "18"
      ]
     },
     "execution_count": 136,
     "metadata": {},
     "output_type": "execute_result"
    }
   ],
   "source": [
    "my_file.write('This is a new line')"
   ]
  },
  {
   "cell_type": "code",
   "execution_count": 138,
   "id": "8e9b43dd-51fb-49be-9e68-58453cfee95d",
   "metadata": {},
   "outputs": [
    {
     "data": {
      "text/plain": [
       "'This is a new line'"
      ]
     },
     "execution_count": 138,
     "metadata": {},
     "output_type": "execute_result"
    }
   ],
   "source": [
    "my_file.seek(0)\n",
    "my_file.read()"
   ]
  },
  {
   "cell_type": "code",
   "execution_count": 139,
   "id": "06066de9-e3d7-4675-8805-cec8be4971a0",
   "metadata": {},
   "outputs": [],
   "source": [
    "my_file.close()"
   ]
  },
  {
   "cell_type": "code",
   "execution_count": 147,
   "id": "e07d48c4-4a08-4e57-84da-8382732a59ad",
   "metadata": {},
   "outputs": [],
   "source": [
    "st = 'Print only the words that start with s in this sentence'"
   ]
  },
  {
   "cell_type": "code",
   "execution_count": 152,
   "id": "873ed8ab-584e-4b0a-a712-2cd536649582",
   "metadata": {},
   "outputs": [
    {
     "name": "stdout",
     "output_type": "stream",
     "text": [
      "start\n",
      "s\n",
      "sentence\n"
     ]
    }
   ],
   "source": [
    "for word in st.split():\n",
    "    if word[0] == 's':\n",
    "        print(word)"
   ]
  },
  {
   "cell_type": "code",
   "execution_count": 155,
   "id": "971c7c58-e970-426b-b37c-dd2ca347c71c",
   "metadata": {},
   "outputs": [
    {
     "name": "stdout",
     "output_type": "stream",
     "text": [
      "3\n",
      "6\n",
      "9\n",
      "12\n",
      "15\n",
      "18\n",
      "21\n",
      "24\n",
      "27\n",
      "30\n",
      "33\n",
      "36\n",
      "39\n",
      "42\n",
      "45\n",
      "48\n"
     ]
    }
   ],
   "source": [
    "list=(range(1,51))\n",
    "for num in list:\n",
    "    if num%3==0:\n",
    "        print(num)"
   ]
  },
  {
   "cell_type": "code",
   "execution_count": 173,
   "id": "dedf4902-c269-472a-b874-2def0d3f11b4",
   "metadata": {},
   "outputs": [],
   "source": [
    "st = 'Print every word in this sentence that has an even number of letters'"
   ]
  },
  {
   "cell_type": "code",
   "execution_count": 176,
   "id": "a288602c-1278-4564-b741-d4bdb53e2ad5",
   "metadata": {},
   "outputs": [
    {
     "name": "stdout",
     "output_type": "stream",
     "text": [
      "Print--odd\n",
      "every--odd\n",
      "word--even\n",
      "in--even\n",
      "this--even\n",
      "sentence--even\n",
      "that--even\n",
      "has--odd\n",
      "an--even\n",
      "even--even\n",
      "number--even\n",
      "of--even\n",
      "letters--odd\n"
     ]
    }
   ],
   "source": [
    "for i in st.split():\n",
    "    if len(i)%2 == 0:\n",
    "        print(i+'--even')\n",
    "    else:\n",
    "        print(i+'--odd')"
   ]
  },
  {
   "cell_type": "code",
   "execution_count": 179,
   "id": "f4c109ab-7073-40e8-ba84-e011f37d0b53",
   "metadata": {},
   "outputs": [],
   "source": [
    "a=range(1,101)"
   ]
  },
  {
   "cell_type": "code",
   "execution_count": 180,
   "id": "33a82b2b-a5cf-415b-8f5a-8174db0dc572",
   "metadata": {},
   "outputs": [
    {
     "name": "stdout",
     "output_type": "stream",
     "text": [
      "1\n",
      "2\n",
      "Fizz\n",
      "4\n",
      "Buzz\n",
      "Fizz\n",
      "7\n",
      "8\n",
      "Fizz\n",
      "Buzz\n",
      "11\n",
      "Fizz\n",
      "13\n",
      "14\n",
      "FizzBuzz\n",
      "16\n",
      "17\n",
      "Fizz\n",
      "19\n",
      "Buzz\n",
      "Fizz\n",
      "22\n",
      "23\n",
      "Fizz\n",
      "Buzz\n",
      "26\n",
      "Fizz\n",
      "28\n",
      "29\n",
      "FizzBuzz\n",
      "31\n",
      "32\n",
      "Fizz\n",
      "34\n",
      "Buzz\n",
      "Fizz\n",
      "37\n",
      "38\n",
      "Fizz\n",
      "Buzz\n",
      "41\n",
      "Fizz\n",
      "43\n",
      "44\n",
      "FizzBuzz\n",
      "46\n",
      "47\n",
      "Fizz\n",
      "49\n",
      "Buzz\n",
      "Fizz\n",
      "52\n",
      "53\n",
      "Fizz\n",
      "Buzz\n",
      "56\n",
      "Fizz\n",
      "58\n",
      "59\n",
      "FizzBuzz\n",
      "61\n",
      "62\n",
      "Fizz\n",
      "64\n",
      "Buzz\n",
      "Fizz\n",
      "67\n",
      "68\n",
      "Fizz\n",
      "Buzz\n",
      "71\n",
      "Fizz\n",
      "73\n",
      "74\n",
      "FizzBuzz\n",
      "76\n",
      "77\n",
      "Fizz\n",
      "79\n",
      "Buzz\n",
      "Fizz\n",
      "82\n",
      "83\n",
      "Fizz\n",
      "Buzz\n",
      "86\n",
      "Fizz\n",
      "88\n",
      "89\n",
      "FizzBuzz\n",
      "91\n",
      "92\n",
      "Fizz\n",
      "94\n",
      "Buzz\n",
      "Fizz\n",
      "97\n",
      "98\n",
      "Fizz\n",
      "Buzz\n"
     ]
    }
   ],
   "source": [
    "for l in range(1,101):\n",
    "    if l%3==0 and l%5==0:\n",
    "        print(\"FizzBuzz\")\n",
    "    elif l%3==0:\n",
    "        print(\"Fizz\")\n",
    "    elif l%5==0:\n",
    "        print(\"Buzz\")\n",
    "    else:\n",
    "         print(l)"
   ]
  },
  {
   "cell_type": "code",
   "execution_count": 181,
   "id": "ad02632f-0d2a-40b0-96b3-5fc23c433a63",
   "metadata": {},
   "outputs": [
    {
     "data": {
      "text/plain": [
       "'Print every word in this sentence that has an even number of letters'"
      ]
     },
     "execution_count": 181,
     "metadata": {},
     "output_type": "execute_result"
    }
   ],
   "source": [
    "st"
   ]
  },
  {
   "cell_type": "code",
   "execution_count": 2,
   "id": "98224c4d-1374-434f-ad0b-a0e4cfc21df6",
   "metadata": {},
   "outputs": [],
   "source": [
    "def print_re(a,b):\n",
    "    print(a+b)"
   ]
  },
  {
   "cell_type": "code",
   "execution_count": 4,
   "id": "0150c291-93c9-4310-a2d5-468da72330f6",
   "metadata": {},
   "outputs": [
    {
     "name": "stdout",
     "output_type": "stream",
     "text": [
      "30\n"
     ]
    }
   ],
   "source": [
    "r=print_re(10,20)"
   ]
  },
  {
   "cell_type": "code",
   "execution_count": 5,
   "id": "1c9ff3b5-0a06-4893-b767-52de03fb19ed",
   "metadata": {},
   "outputs": [],
   "source": [
    "r"
   ]
  },
  {
   "cell_type": "code",
   "execution_count": 6,
   "id": "badbd13d-7e64-4e80-a4a3-c14eb5e99a49",
   "metadata": {},
   "outputs": [
    {
     "data": {
      "text/plain": [
       "NoneType"
      ]
     },
     "execution_count": 6,
     "metadata": {},
     "output_type": "execute_result"
    }
   ],
   "source": [
    "type(r)"
   ]
  },
  {
   "cell_type": "code",
   "execution_count": 7,
   "id": "62e6ab0c-d87b-4ed8-9730-60216c7d0147",
   "metadata": {},
   "outputs": [],
   "source": [
    "def return_re(a,b):\n",
    "    return a+b"
   ]
  },
  {
   "cell_type": "code",
   "execution_count": 8,
   "id": "9b3c14f3-c785-47e6-ac99-8de5bdaae98a",
   "metadata": {},
   "outputs": [],
   "source": [
    "r=return_re(10,20)"
   ]
  },
  {
   "cell_type": "code",
   "execution_count": 9,
   "id": "0d2a8adb-eb8e-4920-9856-07327af2b52c",
   "metadata": {},
   "outputs": [
    {
     "data": {
      "text/plain": [
       "30"
      ]
     },
     "execution_count": 9,
     "metadata": {},
     "output_type": "execute_result"
    }
   ],
   "source": [
    "r"
   ]
  },
  {
   "cell_type": "code",
   "execution_count": 10,
   "id": "4c84c47e-a15d-4cc9-a01e-e59abc34dcdc",
   "metadata": {},
   "outputs": [
    {
     "data": {
      "text/plain": [
       "int"
      ]
     },
     "execution_count": 10,
     "metadata": {},
     "output_type": "execute_result"
    }
   ],
   "source": [
    "type(r)"
   ]
  },
  {
   "cell_type": "code",
   "execution_count": 19,
   "id": "3dd81ec3-6f68-47ae-8e6d-6b713587c4ae",
   "metadata": {},
   "outputs": [],
   "source": [
    "def sum(n1,n2):\n",
    "    return n1+n2"
   ]
  },
  {
   "cell_type": "code",
   "execution_count": 20,
   "id": "6db0395b-6d56-4a46-8351-5f0b70045320",
   "metadata": {},
   "outputs": [
    {
     "data": {
      "text/plain": [
       "30"
      ]
     },
     "execution_count": 20,
     "metadata": {},
     "output_type": "execute_result"
    }
   ],
   "source": [
    "sum(10,20)"
   ]
  },
  {
   "cell_type": "code",
   "execution_count": 43,
   "id": "962ad2ab-fe15-4955-a914-10447962d1af",
   "metadata": {},
   "outputs": [],
   "source": [
    "def evn_odd(num_list):\n",
    "    evn_numbers=[]\n",
    "    odd_numbners=[]\n",
    "    for num in num_list:\n",
    "        if num %2 ==0:\n",
    "            evn_numbers.append(num)\n",
    "            print(\"even number:\",evn_numbers)\n",
    "        else:\n",
    "            odd_numbners.append(num)\n",
    "            print(\"odd number:\",odd_numbners)\n",
    "   "
   ]
  },
  {
   "cell_type": "code",
   "execution_count": 44,
   "id": "28ebdc78-0a54-47c8-842f-0b821c10eb85",
   "metadata": {},
   "outputs": [
    {
     "name": "stdout",
     "output_type": "stream",
     "text": [
      "odd number: [1]\n",
      "even number: [2]\n",
      "odd number: [1, 3]\n",
      "even number: [2, 4]\n",
      "odd number: [1, 3, 5]\n"
     ]
    }
   ],
   "source": [
    "evn_odd([1,2,3,4,5])"
   ]
  },
  {
   "cell_type": "code",
   "execution_count": 49,
   "id": "8cbccfb2-54f9-4b50-bf5d-0ffd903b6641",
   "metadata": {},
   "outputs": [],
   "source": [
    "products_price=[('apple',200),('banaba',70),('orangee',80)]"
   ]
  },
  {
   "cell_type": "code",
   "execution_count": 50,
   "id": "43b10700-8cdd-4f61-9de2-b6341a430773",
   "metadata": {},
   "outputs": [
    {
     "name": "stdout",
     "output_type": "stream",
     "text": [
      "('apple', 200)\n",
      "('banaba', 70)\n",
      "('orangee', 80)\n"
     ]
    }
   ],
   "source": [
    "for item in products_price:\n",
    "    print(item)"
   ]
  },
  {
   "cell_type": "code",
   "execution_count": 54,
   "id": "d7545b84-5379-4c13-8543-ba7974215dc1",
   "metadata": {},
   "outputs": [
    {
     "name": "stdout",
     "output_type": "stream",
     "text": [
      "apple\n",
      "200\n",
      "banaba\n",
      "70\n",
      "orangee\n",
      "80\n"
     ]
    }
   ],
   "source": [
    "for a,b in products_price:\n",
    "    print(a)\n",
    "    print(b)"
   ]
  },
  {
   "cell_type": "code",
   "execution_count": 56,
   "id": "1f712166-c29d-4afc-b997-5c56d78ab1fb",
   "metadata": {},
   "outputs": [
    {
     "name": "stdout",
     "output_type": "stream",
     "text": [
      "224.0\n",
      "78.4\n",
      "89.6\n"
     ]
    }
   ],
   "source": [
    "for a,b in products_price:\n",
    "    print(b+(0.12*b))"
   ]
  },
  {
   "cell_type": "code",
   "execution_count": 57,
   "id": "a2f54509-9799-4322-bfff-6625e3f21631",
   "metadata": {},
   "outputs": [],
   "source": [
    "lst = [1,2,3,4,5]"
   ]
  },
  {
   "cell_type": "code",
   "execution_count": 58,
   "id": "9e1b9593-c27a-4bc7-bec8-c9ebb13944bc",
   "metadata": {},
   "outputs": [],
   "source": [
    "lst.append(6)"
   ]
  },
  {
   "cell_type": "code",
   "execution_count": 59,
   "id": "3300a9e0-0907-4330-9cfe-9d94ff265a0b",
   "metadata": {},
   "outputs": [
    {
     "data": {
      "text/plain": [
       "[1, 2, 3, 4, 5, 6]"
      ]
     },
     "execution_count": 59,
     "metadata": {},
     "output_type": "execute_result"
    }
   ],
   "source": [
    "lst"
   ]
  },
  {
   "cell_type": "code",
   "execution_count": 60,
   "id": "0b86e868-4806-4486-943a-d5d1727b0208",
   "metadata": {},
   "outputs": [
    {
     "data": {
      "text/plain": [
       "1"
      ]
     },
     "execution_count": 60,
     "metadata": {},
     "output_type": "execute_result"
    }
   ],
   "source": [
    "lst.count(1)"
   ]
  },
  {
   "cell_type": "code",
   "execution_count": 1,
   "id": "a0cb15be-31ee-475c-ace6-be7340054a9b",
   "metadata": {},
   "outputs": [],
   "source": [
    "# args /multiple values\n",
    "def mf(*args):\n",
    "    return sum(args)*0.05"
   ]
  },
  {
   "cell_type": "code",
   "execution_count": 2,
   "id": "a5f1a2b1-7559-4734-a341-410874e0d4f7",
   "metadata": {},
   "outputs": [
    {
     "data": {
      "text/plain": [
       "11.0"
      ]
     },
     "execution_count": 2,
     "metadata": {},
     "output_type": "execute_result"
    }
   ],
   "source": [
    "mf(90,70,60)"
   ]
  },
  {
   "cell_type": "code",
   "execution_count": 3,
   "id": "3311c7b9-948f-4536-8c29-567e640161b7",
   "metadata": {},
   "outputs": [
    {
     "data": {
      "text/plain": [
       "57.7"
      ]
     },
     "execution_count": 3,
     "metadata": {},
     "output_type": "execute_result"
    }
   ],
   "source": [
    "mf(80,2,4,56,78,89,9,0,7,4,23,4,798)"
   ]
  },
  {
   "cell_type": "code",
   "execution_count": 4,
   "id": "c80d9b40-909d-4c3f-a143-84dc3c43ff54",
   "metadata": {},
   "outputs": [
    {
     "data": {
      "text/plain": [
       "7.5"
      ]
     },
     "execution_count": 4,
     "metadata": {},
     "output_type": "execute_result"
    }
   ],
   "source": [
    "mf(10,20,30,40,50)"
   ]
  },
  {
   "cell_type": "code",
   "execution_count": 19,
   "id": "549491bd-ad2c-47ce-8d3f-4414b5569e0d",
   "metadata": {},
   "outputs": [],
   "source": [
    "# ** kwargs\n",
    "def myf(**kk):\n",
    "    print(kk)\n",
    "    if 'fruit' in kk:\n",
    "        print('my fruit of choice is {}'.format(kk['fruit']))\n",
    "    else:\n",
    "        print('i did not find any fruit here')"
   ]
  },
  {
   "cell_type": "code",
   "execution_count": 21,
   "id": "aee10e50-789c-4203-8c31-60062cb1f4a0",
   "metadata": {},
   "outputs": [
    {
     "name": "stdout",
     "output_type": "stream",
     "text": [
      "{'fruit': 'apple', 'vegitabl': 'carrot'}\n",
      "my fruit of choice is apple\n"
     ]
    }
   ],
   "source": [
    "myf(fruit='apple',vegitabl='carrot')"
   ]
  },
  {
   "cell_type": "code",
   "execution_count": 22,
   "id": "f770e14c-1573-4c99-a834-351e724213a7",
   "metadata": {},
   "outputs": [],
   "source": [
    "def my(*args,**kwargs):\n",
    "    print(args)\n",
    "    print(kwargs)\n",
    "    print('i would like {} {}'.format(args[0],kwargs['food']))"
   ]
  },
  {
   "cell_type": "code",
   "execution_count": 28,
   "id": "57ecf1b1-0ae9-45a6-8adb-912b9563bd1a",
   "metadata": {},
   "outputs": [
    {
     "name": "stdout",
     "output_type": "stream",
     "text": [
      "(4, 10, 20, 30, 40, 50, 60, 70)\n",
      "{'fruit': 'grapes', 'food': 'idly'}\n",
      "i would like 4 idly\n"
     ]
    }
   ],
   "source": [
    "my(4,10,20,30,40,50,60,70,fruit='grapes',food='idly')"
   ]
  },
  {
   "cell_type": "code",
   "execution_count": 46,
   "id": "14de4492-33ec-4e49-a8e6-3301be616655",
   "metadata": {},
   "outputs": [],
   "source": [
    "def my(*args):\n",
    "    return sum(args)"
   ]
  },
  {
   "cell_type": "code",
   "execution_count": 47,
   "id": "f43d48cc-c0e3-4d07-9c55-4f4123c38f00",
   "metadata": {},
   "outputs": [
    {
     "data": {
      "text/plain": [
       "100"
      ]
     },
     "execution_count": 47,
     "metadata": {},
     "output_type": "execute_result"
    }
   ],
   "source": [
    "my (10,20,30,40)"
   ]
  },
  {
   "cell_type": "code",
   "execution_count": 73,
   "id": "4c5d76df-245a-48b1-a934-323bac36d8b0",
   "metadata": {},
   "outputs": [],
   "source": [
    "def lessor(a,b):\n",
    "        if a%2==0 and b%2==0:\n",
    "            if a<b:\n",
    "                print(\"-->\",a)\n",
    "            else:\n",
    "                print(\"-->\",b)\n",
    "        else:\n",
    "            if a>b:\n",
    "                print(\"-->\",a)\n",
    "            else:\n",
    "                print(\"-->\",b)               "
   ]
  },
  {
   "cell_type": "code",
   "execution_count": 74,
   "id": "6a9f80d8-8d7a-4064-9ce4-13183caa4910",
   "metadata": {},
   "outputs": [
    {
     "name": "stdout",
     "output_type": "stream",
     "text": [
      "--> 2\n"
     ]
    }
   ],
   "source": [
    "lessor(2,4)"
   ]
  },
  {
   "cell_type": "code",
   "execution_count": 75,
   "id": "171b3c82-d486-4e07-b634-3805ddad0ef7",
   "metadata": {},
   "outputs": [
    {
     "name": "stdout",
     "output_type": "stream",
     "text": [
      "--> 5\n"
     ]
    }
   ],
   "source": [
    "lessor(2,5)"
   ]
  },
  {
   "cell_type": "code",
   "execution_count": 76,
   "id": "090b8cdb-4664-4930-bcfb-004d7badc280",
   "metadata": {},
   "outputs": [
    {
     "name": "stdout",
     "output_type": "stream",
     "text": [
      "--> 3\n"
     ]
    }
   ],
   "source": [
    "lessor(3,2)"
   ]
  },
  {
   "cell_type": "code",
   "execution_count": 104,
   "id": "2409eebb-f5a8-4929-97aa-de76ce1c162d",
   "metadata": {},
   "outputs": [
    {
     "ename": "IndentationError",
     "evalue": "expected an indented block after 'if' statement on line 7 (480330014.py, line 9)",
     "output_type": "error",
     "traceback": [
      "\u001b[1;36m  Cell \u001b[1;32mIn[104], line 9\u001b[1;36m\u001b[0m\n\u001b[1;33m    return small\u001b[0m\n\u001b[1;37m    ^\u001b[0m\n\u001b[1;31mIndentationError\u001b[0m\u001b[1;31m:\u001b[0m expected an indented block after 'if' statement on line 7\n"
     ]
    }
   ],
   "source": [
    "def less(p):\n",
    "     p.sort()\n",
    "     small=p[0]\n",
    "     large=p[len(p)-1]\n",
    "\n",
    "     for q in range(0,len(p)):\n",
    "         if p[q]%2==0 :\n",
    "             \n",
    "         return small\n",
    "         elif p[q]%2!=0 :\n",
    "            \n",
    "         return large"
   ]
  },
  {
   "cell_type": "code",
   "execution_count": 103,
   "id": "37496f1b-7bc3-4a63-ac7a-4fcb4983dcb0",
   "metadata": {},
   "outputs": [
    {
     "data": {
      "text/plain": [
       "4"
      ]
     },
     "execution_count": 103,
     "metadata": {},
     "output_type": "execute_result"
    }
   ],
   "source": [
    "p=[6,4,9,8,9]\n",
    "less(p)"
   ]
  },
  {
   "cell_type": "code",
   "execution_count": 105,
   "id": "4636c63f-2757-4afa-aa0a-23b016011096",
   "metadata": {},
   "outputs": [
    {
     "ename": "_IncompleteInputError",
     "evalue": "incomplete input (3496730123.py, line 2)",
     "output_type": "error",
     "traceback": [
      "\u001b[1;36m  Cell \u001b[1;32mIn[105], line 2\u001b[1;36m\u001b[0m\n\u001b[1;33m    \u001b[0m\n\u001b[1;37m    ^\u001b[0m\n\u001b[1;31m_IncompleteInputError\u001b[0m\u001b[1;31m:\u001b[0m incomplete input\n"
     ]
    }
   ],
   "source": [
    "def word(text):\n",
    "    "
   ]
  },
  {
   "cell_type": "code",
   "execution_count": 107,
   "id": "f7f4b0ac-fbb8-487a-bc52-6ee5bf4cfbe3",
   "metadata": {},
   "outputs": [
    {
     "name": "stdout",
     "output_type": "stream",
     "text": [
      "['preetham', 'reddy']\n"
     ]
    }
   ],
   "source": [
    "a=(\"preetham reddy\")\n",
    "d=a.split().lower()\n",
    "print(d)"
   ]
  },
  {
   "cell_type": "code",
   "execution_count": 113,
   "id": "706d2c32-0067-42cd-98d4-fd432e7e1118",
   "metadata": {},
   "outputs": [],
   "source": [
    "def square(n):\n",
    "    return n**2"
   ]
  },
  {
   "cell_type": "code",
   "execution_count": 116,
   "id": "0e1e658a-6dab-4ed3-944e-ed245c2d22b7",
   "metadata": {},
   "outputs": [
    {
     "name": "stdout",
     "output_type": "stream",
     "text": [
      "1\n",
      "9\n",
      "25\n",
      "49\n",
      "81\n",
      "4\n",
      "16\n",
      "36\n",
      "64\n"
     ]
    }
   ],
   "source": [
    "num=[1,3,5,7,9,2,4,6,8]\n",
    "for t in map(square,num):\n",
    "    print(t)"
   ]
  },
  {
   "cell_type": "code",
   "execution_count": 120,
   "id": "10f553e2-d5a2-462a-b7b4-d25bf339f825",
   "metadata": {},
   "outputs": [],
   "source": [
    "square=lambda s: s**2"
   ]
  },
  {
   "cell_type": "code",
   "execution_count": 121,
   "id": "23ee375f-c856-4d51-95e1-86b0d959e394",
   "metadata": {},
   "outputs": [
    {
     "data": {
      "text/plain": [
       "64"
      ]
     },
     "execution_count": 121,
     "metadata": {},
     "output_type": "execute_result"
    }
   ],
   "source": [
    "square(8)"
   ]
  },
  {
   "cell_type": "code",
   "execution_count": null,
   "id": "c05403b3-5639-4551-b570-ce4e35b60b41",
   "metadata": {},
   "outputs": [],
   "source": [
    "legp"
   ]
  },
  {
   "cell_type": "code",
   "execution_count": 136,
   "id": "61fe4dd4-0b28-4798-b1ee-c5d8b4520aa8",
   "metadata": {},
   "outputs": [],
   "source": [
    "x=10\n",
    "def pri():\n",
    "    x=20\n",
    "    return x"
   ]
  },
  {
   "cell_type": "code",
   "execution_count": 137,
   "id": "0d6e1e9d-a260-4dc9-90c3-c5c909776d3d",
   "metadata": {},
   "outputs": [
    {
     "name": "stdout",
     "output_type": "stream",
     "text": [
      "10\n"
     ]
    }
   ],
   "source": [
    "print(x)"
   ]
  },
  {
   "cell_type": "code",
   "execution_count": 140,
   "id": "f50ac1d5-6ddd-461c-82dd-8a0fa522fe04",
   "metadata": {},
   "outputs": [
    {
     "name": "stdout",
     "output_type": "stream",
     "text": [
      "20\n"
     ]
    }
   ],
   "source": [
    "print(pri())"
   ]
  },
  {
   "cell_type": "code",
   "execution_count": 11,
   "id": "6613c6da-f981-49f0-81e9-2fe718bf00f8",
   "metadata": {},
   "outputs": [],
   "source": [
    "def animal_crackers(text):\n",
    "    word=text.split()\n",
    "    if word[0][0]==word[1][0]:\n",
    "        return True\n",
    "    else:\n",
    "        return False\n",
    "    "
   ]
  },
  {
   "cell_type": "code",
   "execution_count": 12,
   "id": "c69137c9-1451-4c7c-bd5b-2c1cd5ccd694",
   "metadata": {},
   "outputs": [
    {
     "data": {
      "text/plain": [
       "True"
      ]
     },
     "execution_count": 12,
     "metadata": {},
     "output_type": "execute_result"
    }
   ],
   "source": [
    "animal_crackers('Levelheaded Llama')"
   ]
  },
  {
   "cell_type": "code",
   "execution_count": 13,
   "id": "e2dbc7a5-1faf-46ab-835d-f3edf01adfab",
   "metadata": {},
   "outputs": [
    {
     "data": {
      "text/plain": [
       "False"
      ]
     },
     "execution_count": 13,
     "metadata": {},
     "output_type": "execute_result"
    }
   ],
   "source": [
    "animal_crackers('Crazy Kangaroo')"
   ]
  },
  {
   "cell_type": "code",
   "execution_count": 16,
   "id": "ab38bc57-2123-4400-a84f-ac6f00565d4c",
   "metadata": {},
   "outputs": [],
   "source": [
    "def animal(text):\n",
    "    word=text.split()\n",
    "    return word[0][0]==word[1][0]"
   ]
  },
  {
   "cell_type": "code",
   "execution_count": 18,
   "id": "ffa10d00-db69-4c99-a0a1-62272fb23400",
   "metadata": {},
   "outputs": [
    {
     "data": {
      "text/plain": [
       "False"
      ]
     },
     "execution_count": 18,
     "metadata": {},
     "output_type": "execute_result"
    }
   ],
   "source": [
    "animal('Crazy Kangaroo')"
   ]
  },
  {
   "cell_type": "code",
   "execution_count": 19,
   "id": "d27cb874-dc90-4813-8a72-36f308288a03",
   "metadata": {},
   "outputs": [
    {
     "data": {
      "text/plain": [
       "True"
      ]
     },
     "execution_count": 19,
     "metadata": {},
     "output_type": "execute_result"
    }
   ],
   "source": [
    "animal('Levelheaded Llama')"
   ]
  },
  {
   "cell_type": "code",
   "execution_count": 22,
   "id": "b2850cb3-f501-4401-833b-2ff6e013ff5e",
   "metadata": {},
   "outputs": [],
   "source": [
    "def makes_twenty(n1,n2):\n",
    "    if n1+n2==20 or n1==20 or n2==20:\n",
    "        return True\n",
    "    else:\n",
    "        return False"
   ]
  },
  {
   "cell_type": "code",
   "execution_count": 23,
   "id": "220dbb2c-dde1-4059-9deb-eb93221de74d",
   "metadata": {},
   "outputs": [
    {
     "data": {
      "text/plain": [
       "True"
      ]
     },
     "execution_count": 23,
     "metadata": {},
     "output_type": "execute_result"
    }
   ],
   "source": [
    "makes_twenty(20,10)"
   ]
  },
  {
   "cell_type": "code",
   "execution_count": 24,
   "id": "ffa7b26d-cbfa-4ea3-9a75-68093be29e60",
   "metadata": {},
   "outputs": [
    {
     "data": {
      "text/plain": [
       "False"
      ]
     },
     "execution_count": 24,
     "metadata": {},
     "output_type": "execute_result"
    }
   ],
   "source": [
    "makes_twenty(2,3)"
   ]
  },
  {
   "cell_type": "code",
   "execution_count": 25,
   "id": "6f698cc2-4232-433b-9294-d452a1125e75",
   "metadata": {},
   "outputs": [
    {
     "data": {
      "text/plain": [
       "True"
      ]
     },
     "execution_count": 25,
     "metadata": {},
     "output_type": "execute_result"
    }
   ],
   "source": [
    "makes_twenty(2,18)"
   ]
  },
  {
   "cell_type": "code",
   "execution_count": 47,
   "id": "3cb7def2-97be-4eb7-b0ca-ba27f59673df",
   "metadata": {},
   "outputs": [],
   "source": [
    "def old_macdonald(name):\n",
    "    if len(name)>3:\n",
    "        return name[:3].capitalize()+name[3:].capitalize()\n",
    "    else:\n",
    "        return 'this is too short'"
   ]
  },
  {
   "cell_type": "code",
   "execution_count": 48,
   "id": "f5860577-248a-4050-b794-404ae61abe85",
   "metadata": {},
   "outputs": [
    {
     "data": {
      "text/plain": [
       "'MacDonald'"
      ]
     },
     "execution_count": 48,
     "metadata": {},
     "output_type": "execute_result"
    }
   ],
   "source": [
    "old_macdonald('macdonald')"
   ]
  },
  {
   "cell_type": "code",
   "execution_count": 49,
   "id": "2c8e862c-d624-40cf-bbbc-fe6e1d5eee0b",
   "metadata": {},
   "outputs": [],
   "source": [
    "def master_yoda(text):\n",
    "    return ' '.join(text.split()[::-1])"
   ]
  },
  {
   "cell_type": "code",
   "execution_count": 51,
   "id": "ca009c37-507b-4b85-8413-fa3e20e32b06",
   "metadata": {},
   "outputs": [
    {
     "data": {
      "text/plain": [
       "'reddy preetham is name my'"
      ]
     },
     "execution_count": 51,
     "metadata": {},
     "output_type": "execute_result"
    }
   ],
   "source": [
    "master_yoda(\"my name is preetham reddy\")"
   ]
  },
  {
   "cell_type": "code",
   "execution_count": 53,
   "id": "6ecdce50-5c02-43c0-ba12-f59b99426e78",
   "metadata": {},
   "outputs": [],
   "source": [
    "def almost_there(n):\n",
    "    if (n>=90 and n<=110 ) or (n>=190 and n<=210):\n",
    "        return True\n",
    "    else:\n",
    "        return False"
   ]
  },
  {
   "cell_type": "code",
   "execution_count": 54,
   "id": "0887dd23-cf5f-415f-ba5b-12b150000133",
   "metadata": {},
   "outputs": [
    {
     "data": {
      "text/plain": [
       "True"
      ]
     },
     "execution_count": 54,
     "metadata": {},
     "output_type": "execute_result"
    }
   ],
   "source": [
    "almost_there(104)"
   ]
  },
  {
   "cell_type": "code",
   "execution_count": 55,
   "id": "fd163512-7d30-4949-8e74-72e45a1b006a",
   "metadata": {},
   "outputs": [
    {
     "data": {
      "text/plain": [
       "False"
      ]
     },
     "execution_count": 55,
     "metadata": {},
     "output_type": "execute_result"
    }
   ],
   "source": [
    "almost_there(150)"
   ]
  },
  {
   "cell_type": "code",
   "execution_count": 63,
   "id": "29f1e9b8-a41d-4cf7-ab24-e06f3e267ae6",
   "metadata": {},
   "outputs": [
    {
     "data": {
      "text/plain": [
       "True"
      ]
     },
     "execution_count": 63,
     "metadata": {},
     "output_type": "execute_result"
    }
   ],
   "source": [
    "almost_there(209)"
   ]
  },
  {
   "cell_type": "code",
   "execution_count": 62,
   "id": "61640ca2-cda5-47d6-b80c-a587054a83c9",
   "metadata": {},
   "outputs": [],
   "source": [
    "def almost_there(n):\n",
    "    return ((abs(100 - n) <= 10) or (abs(200 - n) <= 10))"
   ]
  },
  {
   "cell_type": "code",
   "execution_count": 71,
   "id": "6e1e0040-e9ef-47e4-87fb-93814747b5e3",
   "metadata": {},
   "outputs": [],
   "source": [
    "def has_33(n):\n",
    "    for i in range(0,len(n)-1):\n",
    "        if n[i:i+2]==[3,3]:\n",
    "            return True\n",
    "    return False"
   ]
  },
  {
   "cell_type": "code",
   "execution_count": 72,
   "id": "2354b989-0326-43b3-b257-b823c978898b",
   "metadata": {},
   "outputs": [
    {
     "data": {
      "text/plain": [
       "True"
      ]
     },
     "execution_count": 72,
     "metadata": {},
     "output_type": "execute_result"
    }
   ],
   "source": [
    "has_33([1, 3, 3])"
   ]
  },
  {
   "cell_type": "code",
   "execution_count": 74,
   "id": "5723e3a7-6837-4daf-b273-204d94f46faf",
   "metadata": {},
   "outputs": [
    {
     "data": {
      "text/plain": [
       "False"
      ]
     },
     "execution_count": 74,
     "metadata": {},
     "output_type": "execute_result"
    }
   ],
   "source": [
    "has_33([1, 3 , 1, 3])"
   ]
  },
  {
   "cell_type": "code",
   "execution_count": 79,
   "id": "a092a9c3-db54-40e1-bcd0-de6b6d17624a",
   "metadata": {},
   "outputs": [],
   "source": [
    "def paper_doll(text):\n",
    "    result=''\n",
    "    for ch in text:\n",
    "        result +=ch*3\n",
    "    return result"
   ]
  },
  {
   "cell_type": "code",
   "execution_count": 80,
   "id": "8d524e39-8351-4f35-854b-9534fe21f7df",
   "metadata": {},
   "outputs": [
    {
     "data": {
      "text/plain": [
       "'ppprrreeeeeettthhhaaammm'"
      ]
     },
     "execution_count": 80,
     "metadata": {},
     "output_type": "execute_result"
    }
   ],
   "source": [
    "paper_doll(\"preetham\")"
   ]
  },
  {
   "cell_type": "code",
   "execution_count": 81,
   "id": "5c7d8154-4e35-4778-90cb-5d64f0bfb2ff",
   "metadata": {},
   "outputs": [],
   "source": [
    "def blackjack(a,b,c):\n",
    "    if sum([a,b,c])<=21:\n",
    "        return sum([a,b,c])\n",
    "    elif 11 in [a,b,c] and sum([a,b,c])-10<=21:\n",
    "        return sum([a,b,c])-10\n",
    "    else:\n",
    "        return 'bust'"
   ]
  },
  {
   "cell_type": "code",
   "execution_count": 82,
   "id": "09e565d4-4c73-4283-9c80-aea57bf28ad9",
   "metadata": {},
   "outputs": [
    {
     "data": {
      "text/plain": [
       "18"
      ]
     },
     "execution_count": 82,
     "metadata": {},
     "output_type": "execute_result"
    }
   ],
   "source": [
    "blackjack(5,6,7)"
   ]
  },
  {
   "cell_type": "code",
   "execution_count": 83,
   "id": "b77e9757-613d-46da-8401-ba04656a7308",
   "metadata": {},
   "outputs": [
    {
     "data": {
      "text/plain": [
       "'bust'"
      ]
     },
     "execution_count": 83,
     "metadata": {},
     "output_type": "execute_result"
    }
   ],
   "source": [
    "blackjack(9,9,9)"
   ]
  },
  {
   "cell_type": "code",
   "execution_count": 84,
   "id": "84f38c65-f740-4e7a-b357-c86a96cb9497",
   "metadata": {},
   "outputs": [
    {
     "data": {
      "text/plain": [
       "19"
      ]
     },
     "execution_count": 84,
     "metadata": {},
     "output_type": "execute_result"
    }
   ],
   "source": [
    "blackjack(9,9,11)"
   ]
  },
  {
   "cell_type": "code",
   "execution_count": 85,
   "id": "2edfc840-0b23-4895-accf-53f49baa1e84",
   "metadata": {},
   "outputs": [],
   "source": [
    "def vol(rad):\n",
    "    return 4/3*3.14*rad**3"
   ]
  },
  {
   "cell_type": "code",
   "execution_count": 86,
   "id": "aec34664-4fd9-40c6-bd46-5fc0ca6cf5ca",
   "metadata": {},
   "outputs": [
    {
     "data": {
      "text/plain": [
       "33.49333333333333"
      ]
     },
     "execution_count": 86,
     "metadata": {},
     "output_type": "execute_result"
    }
   ],
   "source": [
    "vol(2)"
   ]
  },
  {
   "cell_type": "code",
   "execution_count": 89,
   "id": "306450e7-73d8-4458-bdca-a89a19aeb8a6",
   "metadata": {},
   "outputs": [],
   "source": [
    "def up_low(s):\n",
    "    d={\"upper\":0,\"lower\":0}\n",
    "    for n in s:\n",
    "        if n.isupper():\n",
    "            d[\"upper\"]+=1\n",
    "        elif n.islower():\n",
    "            d[\"lower\"]+=1\n",
    "        else:\n",
    "            pass\n",
    "    print(\"Original String \",s)\n",
    "    print(\"No. of Upper case characters:\",d[\"upper\"])\n",
    "    print(\"No. of Lower case Characters:\",d[\"lower\"])\n",
    "    "
   ]
  },
  {
   "cell_type": "code",
   "execution_count": 90,
   "id": "6f8b99d4-e0d9-4a9d-9684-757aca17f008",
   "metadata": {},
   "outputs": [
    {
     "name": "stdout",
     "output_type": "stream",
     "text": [
      "Original String  Hello Mr. Rogers, how are you this fine Tuesday?\n",
      "No. of Upper case characters: 4\n",
      "No. of Lower case Characters: 33\n"
     ]
    }
   ],
   "source": [
    "up_low(\"Hello Mr. Rogers, how are you this fine Tuesday?\")"
   ]
  },
  {
   "cell_type": "code",
   "execution_count": 93,
   "id": "209f7dfe-a8d3-4e37-843c-e77f5eace283",
   "metadata": {},
   "outputs": [],
   "source": [
    "def unique_list(lst):\n",
    "    x=[]\n",
    "    for a in lst:\n",
    "        if a  not in x:\n",
    "            x.append(a)\n",
    "    return x"
   ]
  },
  {
   "cell_type": "code",
   "execution_count": 94,
   "id": "b9945019-72d1-41f7-8f6e-b61ec4d0c2ba",
   "metadata": {},
   "outputs": [
    {
     "data": {
      "text/plain": [
       "[1, 2, 3, 4, 5]"
      ]
     },
     "execution_count": 94,
     "metadata": {},
     "output_type": "execute_result"
    }
   ],
   "source": [
    "unique_list([1,1,1,1,2,2,3,3,3,3,4,5])"
   ]
  },
  {
   "cell_type": "code",
   "execution_count": 95,
   "id": "b2dbe397-db6a-484a-ba3f-631a5395a5f0",
   "metadata": {},
   "outputs": [],
   "source": [
    "def multiple(num):\n",
    "    total=1\n",
    "    for a in num:\n",
    "        total*=a\n",
    "    return total"
   ]
  },
  {
   "cell_type": "code",
   "execution_count": 96,
   "id": "680d7baa-2015-44e4-b24a-10d03d4455ec",
   "metadata": {},
   "outputs": [
    {
     "data": {
      "text/plain": [
       "-24"
      ]
     },
     "execution_count": 96,
     "metadata": {},
     "output_type": "execute_result"
    }
   ],
   "source": [
    "multiple([1,2,3,-4])"
   ]
  },
  {
   "cell_type": "code",
   "execution_count": 97,
   "id": "7ca1ac92-9cb0-47b3-acdc-2f687a29bf08",
   "metadata": {},
   "outputs": [],
   "source": [
    "def palindrome(s):\n",
    "    s=s.replace(\" \",'')\n",
    "    return s==s[::-1]"
   ]
  },
  {
   "cell_type": "code",
   "execution_count": 98,
   "id": "9c095ce5-c5f6-4bba-8328-b47309ba1690",
   "metadata": {},
   "outputs": [
    {
     "data": {
      "text/plain": [
       "True"
      ]
     },
     "execution_count": 98,
     "metadata": {},
     "output_type": "execute_result"
    }
   ],
   "source": [
    "palindrome('helleh')"
   ]
  },
  {
   "cell_type": "code",
   "execution_count": 20,
   "id": "562119ba-cbbc-4ada-b296-13684ea63783",
   "metadata": {},
   "outputs": [],
   "source": [
    "def check_func(a,b,c):\n",
    "    x = a+b+c\n",
    "    if (a==11 or b==11 or c==11) and x>21:\n",
    "        y = x - 10\n",
    "        return y\n",
    "        \n",
    "    elif x<=21:\n",
    "        return a+b+c\n",
    "    else:\n",
    "        return \"BUST\"\n"
   ]
  },
  {
   "cell_type": "code",
   "execution_count": 21,
   "id": "9ec88dce-085f-47a5-961b-db82154732ff",
   "metadata": {},
   "outputs": [
    {
     "data": {
      "text/plain": [
       "18"
      ]
     },
     "execution_count": 21,
     "metadata": {},
     "output_type": "execute_result"
    }
   ],
   "source": [
    "check_func(5,6,7)"
   ]
  },
  {
   "cell_type": "code",
   "execution_count": 22,
   "id": "11b48698-4591-4d14-a9cd-38f7d4a29c01",
   "metadata": {},
   "outputs": [
    {
     "data": {
      "text/plain": [
       "'BUST'"
      ]
     },
     "execution_count": 22,
     "metadata": {},
     "output_type": "execute_result"
    }
   ],
   "source": [
    "check_func(9,9,9)"
   ]
  },
  {
   "cell_type": "code",
   "execution_count": 23,
   "id": "4811eba5-ae80-48c9-880f-84161e456e59",
   "metadata": {},
   "outputs": [
    {
     "data": {
      "text/plain": [
       "19"
      ]
     },
     "execution_count": 23,
     "metadata": {},
     "output_type": "execute_result"
    }
   ],
   "source": [
    "check_func(9,9,11)"
   ]
  },
  {
   "cell_type": "code",
   "execution_count": 24,
   "id": "ed889bf6-49b4-4413-9d60-7e37c2ee592c",
   "metadata": {},
   "outputs": [
    {
     "data": {
      "text/plain": [
       "'BUST'"
      ]
     },
     "execution_count": 24,
     "metadata": {},
     "output_type": "execute_result"
    }
   ],
   "source": [
    "check_func(12,34,50)"
   ]
  },
  {
   "cell_type": "code",
   "execution_count": 11,
   "id": "1d80d088-f0a8-4eaa-a90a-27cbeb2eeab6",
   "metadata": {},
   "outputs": [],
   "source": [
    "def blackjack(a,b,c):\n",
    "    \n",
    "    if sum((a,b,c)) <= 21:\n",
    "        return sum((a,b,c))\n",
    "    elif sum((a,b,c)) <=31 and 11 in (a,b,c):\n",
    "        return sum((a,b,c)) - 10\n",
    "    else:\n",
    "        return 'BUST'"
   ]
  },
  {
   "cell_type": "code",
   "execution_count": 13,
   "id": "4c213bd4-5e20-4e04-b377-0bbba3b611d0",
   "metadata": {},
   "outputs": [
    {
     "ename": "TypeError",
     "evalue": "'int' object is not callable",
     "output_type": "error",
     "traceback": [
      "\u001b[1;31m---------------------------------------------------------------------------\u001b[0m",
      "\u001b[1;31mTypeError\u001b[0m                                 Traceback (most recent call last)",
      "Cell \u001b[1;32mIn[13], line 1\u001b[0m\n\u001b[1;32m----> 1\u001b[0m \u001b[43mblackjack\u001b[49m\u001b[43m(\u001b[49m\u001b[38;5;241;43m9\u001b[39;49m\u001b[43m,\u001b[49m\u001b[38;5;241;43m9\u001b[39;49m\u001b[43m,\u001b[49m\u001b[38;5;241;43m8\u001b[39;49m\u001b[43m)\u001b[49m\n",
      "Cell \u001b[1;32mIn[11], line 3\u001b[0m, in \u001b[0;36mblackjack\u001b[1;34m(a, b, c)\u001b[0m\n\u001b[0;32m      1\u001b[0m \u001b[38;5;28;01mdef\u001b[39;00m \u001b[38;5;21mblackjack\u001b[39m(a,b,c):\n\u001b[1;32m----> 3\u001b[0m     \u001b[38;5;28;01mif\u001b[39;00m \u001b[38;5;28;43msum\u001b[39;49m\u001b[43m(\u001b[49m\u001b[43m(\u001b[49m\u001b[43ma\u001b[49m\u001b[43m,\u001b[49m\u001b[43mb\u001b[49m\u001b[43m,\u001b[49m\u001b[43mc\u001b[49m\u001b[43m)\u001b[49m\u001b[43m)\u001b[49m \u001b[38;5;241m<\u001b[39m\u001b[38;5;241m=\u001b[39m \u001b[38;5;241m21\u001b[39m:\n\u001b[0;32m      4\u001b[0m         \u001b[38;5;28;01mreturn\u001b[39;00m \u001b[38;5;28msum\u001b[39m((a,b,c))\n\u001b[0;32m      5\u001b[0m     \u001b[38;5;28;01melif\u001b[39;00m \u001b[38;5;28msum\u001b[39m((a,b,c)) \u001b[38;5;241m<\u001b[39m\u001b[38;5;241m=\u001b[39m\u001b[38;5;241m31\u001b[39m \u001b[38;5;129;01mand\u001b[39;00m \u001b[38;5;241m11\u001b[39m \u001b[38;5;129;01min\u001b[39;00m (a,b,c):\n",
      "\u001b[1;31mTypeError\u001b[0m: 'int' object is not callable"
     ]
    }
   ],
   "source": [
    "blackjack(9,9,8)"
   ]
  },
  {
   "cell_type": "code",
   "execution_count": 28,
   "id": "e72f0003-f7f4-4140-b305-920e57372fa0",
   "metadata": {},
   "outputs": [
    {
     "ename": "ModuleNotFoundError",
     "evalue": "No module named 'sum'",
     "output_type": "error",
     "traceback": [
      "\u001b[1;31m---------------------------------------------------------------------------\u001b[0m",
      "\u001b[1;31mModuleNotFoundError\u001b[0m                       Traceback (most recent call last)",
      "Cell \u001b[1;32mIn[28], line 1\u001b[0m\n\u001b[1;32m----> 1\u001b[0m \u001b[38;5;28;01mimport\u001b[39;00m \u001b[38;5;21;01msum\u001b[39;00m\n\u001b[0;32m      2\u001b[0m \u001b[38;5;28;01mdef\u001b[39;00m \u001b[38;5;21mbl\u001b[39m(a,b,c):\n\u001b[0;32m      4\u001b[0m     \u001b[38;5;28;01mif\u001b[39;00m \u001b[38;5;28msum\u001b[39m((a,b,c)) \u001b[38;5;241m<\u001b[39m\u001b[38;5;241m=\u001b[39m \u001b[38;5;241m21\u001b[39m:\n",
      "\u001b[1;31mModuleNotFoundError\u001b[0m: No module named 'sum'"
     ]
    }
   ],
   "source": [
    "import \n",
    "def bl(a,b,c):\n",
    "    if sum((a,b,c)) <= 21:\n",
    "        return sum((a,b,c))\n",
    "    elif sum((a,b,c)) <=31 and 11 in (a,b,c):\n",
    "        return sum((a,b,c)) - 10\n",
    "    else:\n",
    "        return 'BUST'"
   ]
  },
  {
   "cell_type": "code",
   "execution_count": 27,
   "id": "d744c603-72a4-4101-b29f-e64a8b001d79",
   "metadata": {},
   "outputs": [
    {
     "ename": "TypeError",
     "evalue": "'int' object is not callable",
     "output_type": "error",
     "traceback": [
      "\u001b[1;31m---------------------------------------------------------------------------\u001b[0m",
      "\u001b[1;31mTypeError\u001b[0m                                 Traceback (most recent call last)",
      "Cell \u001b[1;32mIn[27], line 1\u001b[0m\n\u001b[1;32m----> 1\u001b[0m \u001b[43mbl\u001b[49m\u001b[43m(\u001b[49m\u001b[38;5;241;43m2\u001b[39;49m\u001b[43m,\u001b[49m\u001b[38;5;241;43m4\u001b[39;49m\u001b[43m,\u001b[49m\u001b[38;5;241;43m5\u001b[39;49m\u001b[43m)\u001b[49m\n",
      "Cell \u001b[1;32mIn[24], line 4\u001b[0m, in \u001b[0;36mbl\u001b[1;34m(a, b, c)\u001b[0m\n\u001b[0;32m      2\u001b[0m \u001b[38;5;28;01mdef\u001b[39;00m \u001b[38;5;21mbl\u001b[39m(a,b,c):\n\u001b[1;32m----> 4\u001b[0m     \u001b[38;5;28;01mif\u001b[39;00m \u001b[38;5;28;43msum\u001b[39;49m\u001b[43m(\u001b[49m\u001b[43m(\u001b[49m\u001b[43ma\u001b[49m\u001b[43m,\u001b[49m\u001b[43mb\u001b[49m\u001b[43m,\u001b[49m\u001b[43mc\u001b[49m\u001b[43m)\u001b[49m\u001b[43m)\u001b[49m \u001b[38;5;241m<\u001b[39m\u001b[38;5;241m=\u001b[39m \u001b[38;5;241m21\u001b[39m:\n\u001b[0;32m      5\u001b[0m         \u001b[38;5;28;01mreturn\u001b[39;00m \u001b[38;5;28msum\u001b[39m((a,b,c))\n\u001b[0;32m      6\u001b[0m     \u001b[38;5;28;01melif\u001b[39;00m \u001b[38;5;28msum\u001b[39m((a,b,c)) \u001b[38;5;241m<\u001b[39m\u001b[38;5;241m=\u001b[39m\u001b[38;5;241m31\u001b[39m \u001b[38;5;129;01mand\u001b[39;00m \u001b[38;5;241m11\u001b[39m \u001b[38;5;129;01min\u001b[39;00m (a,b,c):\n",
      "\u001b[1;31mTypeError\u001b[0m: 'int' object is not callable"
     ]
    }
   ],
   "source": [
    "bl(2,4,5)"
   ]
  },
  {
   "cell_type": "code",
   "execution_count": 29,
   "id": "4f2f3a82-5b74-431e-88d8-bda2f3708442",
   "metadata": {},
   "outputs": [
    {
     "ename": "TypeError",
     "evalue": "'int' object is not callable",
     "output_type": "error",
     "traceback": [
      "\u001b[1;31m---------------------------------------------------------------------------\u001b[0m",
      "\u001b[1;31mTypeError\u001b[0m                                 Traceback (most recent call last)",
      "Cell \u001b[1;32mIn[29], line 2\u001b[0m\n\u001b[0;32m      1\u001b[0m numbers \u001b[38;5;241m=\u001b[39m[\u001b[38;5;241m1\u001b[39m,\u001b[38;5;241m2\u001b[39m,\u001b[38;5;241m3\u001b[39m,\u001b[38;5;241m4\u001b[39m]\n\u001b[1;32m----> 2\u001b[0m \u001b[38;5;28;43msum\u001b[39;49m\u001b[43m(\u001b[49m\u001b[43mnumbers\u001b[49m\u001b[43m)\u001b[49m\n",
      "\u001b[1;31mTypeError\u001b[0m: 'int' object is not callable"
     ]
    }
   ],
   "source": [
    "numbers =[1,2,3,4]\n",
    "sum(numbers)"
   ]
  },
  {
   "cell_type": "code",
   "execution_count": 30,
   "id": "5488e121-aa84-4abb-9a14-738e4f5f3365",
   "metadata": {},
   "outputs": [
    {
     "ename": "TypeError",
     "evalue": "'int' object is not callable",
     "output_type": "error",
     "traceback": [
      "\u001b[1;31m---------------------------------------------------------------------------\u001b[0m",
      "\u001b[1;31mTypeError\u001b[0m                                 Traceback (most recent call last)",
      "Cell \u001b[1;32mIn[30], line 5\u001b[0m\n\u001b[0;32m      2\u001b[0m numbers \u001b[38;5;241m=\u001b[39m [\u001b[38;5;241m1\u001b[39m, \u001b[38;5;241m2\u001b[39m, \u001b[38;5;241m3\u001b[39m, \u001b[38;5;241m4\u001b[39m, \u001b[38;5;241m5\u001b[39m]\n\u001b[0;32m      4\u001b[0m \u001b[38;5;66;03m# Calculate the sum using the built-in sum() function\u001b[39;00m\n\u001b[1;32m----> 5\u001b[0m total_sum \u001b[38;5;241m=\u001b[39m \u001b[38;5;28;43msum\u001b[39;49m\u001b[43m(\u001b[49m\u001b[43mnumbers\u001b[49m\u001b[43m)\u001b[49m\n\u001b[0;32m      7\u001b[0m \u001b[38;5;66;03m# Print the result\u001b[39;00m\n\u001b[0;32m      8\u001b[0m \u001b[38;5;28mprint\u001b[39m(\u001b[38;5;124m\"\u001b[39m\u001b[38;5;124mThe sum of the numbers is:\u001b[39m\u001b[38;5;124m\"\u001b[39m, total_sum)\n",
      "\u001b[1;31mTypeError\u001b[0m: 'int' object is not callable"
     ]
    }
   ],
   "source": [
    "# Example list of numbers\n",
    "numbers = [1, 2, 3, 4, 5]\n",
    "\n",
    "# Calculate the sum using the built-in sum() function\n",
    "total_sum = sum(numbers)\n",
    "\n",
    "# Print the result\n",
    "print(\"The sum of the numbers is:\", total_sum)"
   ]
  },
  {
   "cell_type": "code",
   "execution_count": 33,
   "id": "62c34b1f-2a18-425d-b9f9-6287e1089d40",
   "metadata": {},
   "outputs": [],
   "source": [
    "def has_33(nums):\n",
    "    for i in range(0, len(nums)-1):\n",
    "      \n",
    "        # nicer looking alternative in commented code\n",
    "        #if nums[i] == 3 and nums[i+1] == 3:\n",
    "    \n",
    "        if nums[i:i+3] == [0,0,7]:\n",
    "            return True  \n",
    "    \n",
    "    return False"
   ]
  },
  {
   "cell_type": "code",
   "execution_count": 34,
   "id": "ed27ad8a-226c-46e5-8485-0642b6dc3263",
   "metadata": {},
   "outputs": [
    {
     "data": {
      "text/plain": [
       "True"
      ]
     },
     "execution_count": 34,
     "metadata": {},
     "output_type": "execute_result"
    }
   ],
   "source": [
    "has_33([2,3,4,0,0,7])"
   ]
  },
  {
   "cell_type": "code",
   "execution_count": 36,
   "id": "ce48adb1-06c0-4718-bdd6-3316cea92a47",
   "metadata": {},
   "outputs": [
    {
     "data": {
      "text/plain": [
       "False"
      ]
     },
     "execution_count": 36,
     "metadata": {},
     "output_type": "execute_result"
    }
   ],
   "source": [
    "has_33([1,7,2,0,4,5,0,7])"
   ]
  },
  {
   "cell_type": "code",
   "execution_count": 38,
   "id": "b14ddff0-1fff-4267-b215-6ae2566629b8",
   "metadata": {},
   "outputs": [],
   "source": [
    "def spy(num):\n",
    "    x=[]\n",
    "    for n in num:\n",
    "        if n==0 or n==7:\n",
    "            x.append(n)\n",
    "    for i in range(0,len(x)):\n",
    "         if x[i:i+3]==[0,0,7]:\n",
    "             return  True\n",
    "    return False\n"
   ]
  },
  {
   "cell_type": "code",
   "execution_count": 39,
   "id": "e7a08629-bdf3-411e-a719-c463e7410d50",
   "metadata": {},
   "outputs": [
    {
     "data": {
      "text/plain": [
       "True"
      ]
     },
     "execution_count": 39,
     "metadata": {},
     "output_type": "execute_result"
    }
   ],
   "source": [
    "spy([1,0,2,4,0,5,7])"
   ]
  },
  {
   "cell_type": "code",
   "execution_count": 40,
   "id": "fbeb66c5-fe03-4c0a-a11c-995fe66e39b6",
   "metadata": {},
   "outputs": [
    {
     "data": {
      "text/plain": [
       "True"
      ]
     },
     "execution_count": 40,
     "metadata": {},
     "output_type": "execute_result"
    }
   ],
   "source": [
    "spy([1,2,4,0,0,7,5])"
   ]
  },
  {
   "cell_type": "code",
   "execution_count": 41,
   "id": "5e203ca2-b615-4654-a53a-82b85438fdd0",
   "metadata": {},
   "outputs": [
    {
     "data": {
      "text/plain": [
       "False"
      ]
     },
     "execution_count": 41,
     "metadata": {},
     "output_type": "execute_result"
    }
   ],
   "source": [
    "spy([1,7,2,0,4,5,0])"
   ]
  },
  {
   "cell_type": "code",
   "execution_count": 49,
   "id": "a1bb850d-ac2c-48e6-9975-edd00d40d66d",
   "metadata": {},
   "outputs": [],
   "source": [
    "def spy_game(nums):\n",
    "    code = [0,0,7,'x']\n",
    "    \n",
    "    for num in nums:\n",
    "        if num == code[0]:\n",
    "            code.pop(0)   # code.remove(num) also works\n",
    "       \n",
    "    return code\n",
    "    "
   ]
  },
  {
   "cell_type": "code",
   "execution_count": 51,
   "id": "9b040237-6b5e-4557-ba55-96bbecc880e7",
   "metadata": {},
   "outputs": [
    {
     "data": {
      "text/plain": [
       "True"
      ]
     },
     "execution_count": 51,
     "metadata": {},
     "output_type": "execute_result"
    }
   ],
   "source": [
    "spy([1,2,3,7,0,0,6,4,1,7])"
   ]
  },
  {
   "cell_type": "code",
   "execution_count": 61,
   "id": "68cca919-a42b-43aa-875c-d864f91e0aef",
   "metadata": {},
   "outputs": [
    {
     "data": {
      "text/plain": [
       "[0, 1, 2, 3, 4, 5, 6, 7, 8]"
      ]
     },
     "execution_count": 61,
     "metadata": {},
     "output_type": "execute_result"
    }
   ],
   "source": [
    "n=8\n",
    "list(range(0,n+1))"
   ]
  },
  {
   "cell_type": "code",
   "execution_count": 3,
   "id": "52d4a2d6-086a-4e0b-9ec2-f4cd24f0e283",
   "metadata": {},
   "outputs": [],
   "source": [
    "a=\"preetham\""
   ]
  },
  {
   "cell_type": "code",
   "execution_count": 5,
   "id": "cac2f6b2-ea05-48f6-b884-53280448eb99",
   "metadata": {},
   "outputs": [
    {
     "data": {
      "text/plain": [
       "8"
      ]
     },
     "execution_count": 5,
     "metadata": {},
     "output_type": "execute_result"
    }
   ],
   "source": [
    "len(a)"
   ]
  },
  {
   "cell_type": "code",
   "execution_count": 6,
   "id": "8d1ebf84-89e8-48c7-82f6-ee0ddcb475e9",
   "metadata": {},
   "outputs": [
    {
     "data": {
      "text/plain": [
       "'p'"
      ]
     },
     "execution_count": 6,
     "metadata": {},
     "output_type": "execute_result"
    }
   ],
   "source": [
    "a[0]"
   ]
  },
  {
   "cell_type": "code",
   "execution_count": 7,
   "id": "19cb4310-13ee-4dc2-830b-fa319abd6c91",
   "metadata": {},
   "outputs": [
    {
     "data": {
      "text/plain": [
       "'mahteerp'"
      ]
     },
     "execution_count": 7,
     "metadata": {},
     "output_type": "execute_result"
    }
   ],
   "source": [
    "a[::-1]"
   ]
  },
  {
   "cell_type": "code",
   "execution_count": 8,
   "id": "a344b418-8d64-49a6-8ffe-bda85d37f246",
   "metadata": {},
   "outputs": [],
   "source": [
    "b=\"preetham redy\""
   ]
  },
  {
   "cell_type": "code",
   "execution_count": 11,
   "id": "18a24635-70f0-41e5-b268-63cd8e4f6b4c",
   "metadata": {},
   "outputs": [
    {
     "data": {
      "text/plain": [
       "['preetham', 'redy']"
      ]
     },
     "execution_count": 11,
     "metadata": {},
     "output_type": "execute_result"
    }
   ],
   "source": [
    "b.split()"
   ]
  },
  {
   "cell_type": "code",
   "execution_count": 48,
   "id": "f65d22b9-7115-42c9-82e2-b0e6373b9c95",
   "metadata": {},
   "outputs": [],
   "source": [
    "def user_choice():\n",
    "    choice='WRONG'\n",
    "    accept_range=range(0,10)\n",
    "    within_range= False\n",
    "    while choice.isdigit() == False :\n",
    "        choice=input(\"plese enter a number (0-10):\")\n",
    "        if choice.isdigit()== False:\n",
    "            print(\"sorry this is not a digit!\")\n",
    "        if   choice.isdigit() :\n",
    "            if int(choice) in accept_range:\n",
    "                within_range=True\n",
    "            else:\n",
    "                within_range=False\n",
    "                print(\"the number is  not in a range(0-10)\")\n",
    "    return int(choice)"
   ]
  },
  {
   "cell_type": "code",
   "execution_count": 50,
   "id": "8c461488-a294-4f0f-b6b5-40d26bed0e5b",
   "metadata": {},
   "outputs": [
    {
     "name": "stdin",
     "output_type": "stream",
     "text": [
      "plese enter a number (0-10): l\n"
     ]
    },
    {
     "name": "stdout",
     "output_type": "stream",
     "text": [
      "sorry this is not a digit!\n"
     ]
    },
    {
     "name": "stdin",
     "output_type": "stream",
     "text": [
      "plese enter a number (0-10): 6\n"
     ]
    },
    {
     "data": {
      "text/plain": [
       "6"
      ]
     },
     "execution_count": 50,
     "metadata": {},
     "output_type": "execute_result"
    }
   ],
   "source": [
    "user_choice()"
   ]
  },
  {
   "cell_type": "code",
   "execution_count": 51,
   "id": "bc5efb85-d2b1-4f4f-9c33-2c0025e2d34b",
   "metadata": {},
   "outputs": [],
   "source": [
    "game_list=[0,1,3]"
   ]
  },
  {
   "cell_type": "code",
   "execution_count": 52,
   "id": "a8ca1ba9-2370-409e-b564-126d49b52907",
   "metadata": {},
   "outputs": [],
   "source": [
    "def display_game(game_list):\n",
    "    print(\"here is the current list:\")\n",
    "    print(game_list)"
   ]
  },
  {
   "cell_type": "code",
   "execution_count": 53,
   "id": "a1ee42fe-da69-4df0-aadf-ca80de59f0ee",
   "metadata": {},
   "outputs": [
    {
     "name": "stdout",
     "output_type": "stream",
     "text": [
      "here is the current list:\n",
      "[0, 1, 3]\n"
     ]
    }
   ],
   "source": [
    "display_game(game_list)"
   ]
  },
  {
   "cell_type": "code",
   "execution_count": null,
   "id": "fc949060-46ab-44d9-900a-02ad0be1cd22",
   "metadata": {},
   "outputs": [],
   "source": []
  }
 ],
 "metadata": {
  "kernelspec": {
   "display_name": "Python 3 (ipykernel)",
   "language": "python",
   "name": "python3"
  },
  "language_info": {
   "codemirror_mode": {
    "name": "ipython",
    "version": 3
   },
   "file_extension": ".py",
   "mimetype": "text/x-python",
   "name": "python",
   "nbconvert_exporter": "python",
   "pygments_lexer": "ipython3",
   "version": "3.13.0"
  }
 },
 "nbformat": 4,
 "nbformat_minor": 5
}
