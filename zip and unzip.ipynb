{
 "cells": [
  {
   "cell_type": "code",
   "execution_count": 1,
   "id": "89644c5e-aac5-4d05-a696-b93567b3479e",
   "metadata": {},
   "outputs": [],
   "source": [
    "f=open('file1.txt','w+')\n",
    "f.write('this is first file')\n",
    "f.close()"
   ]
  },
  {
   "cell_type": "code",
   "execution_count": 2,
   "id": "2a0f86f5-df9a-4624-a70a-096cb6cf928b",
   "metadata": {},
   "outputs": [],
   "source": [
    "f=open('file2.txt','w+')\n",
    "f.write('this is second file')\n",
    "f.close()"
   ]
  },
  {
   "cell_type": "code",
   "execution_count": 6,
   "id": "c0f63d45-5561-4734-8edc-9217130b55b2",
   "metadata": {},
   "outputs": [],
   "source": [
    "import zipfile"
   ]
  },
  {
   "cell_type": "code",
   "execution_count": 8,
   "id": "0690ca1d-429d-4b02-8e59-f91a25b669b8",
   "metadata": {},
   "outputs": [],
   "source": [
    "comp=zipfile.ZipFile('comp.zip','w')"
   ]
  },
  {
   "cell_type": "code",
   "execution_count": 10,
   "id": "be31dd4c-5e92-423c-9163-4d733bba9340",
   "metadata": {},
   "outputs": [],
   "source": [
    "comp.write('file1.txt',compress_type=zipfile.ZIP_DEFLATED)"
   ]
  },
  {
   "cell_type": "code",
   "execution_count": 11,
   "id": "28d89008-2392-4f3c-87b9-2bb6d9bc7e64",
   "metadata": {},
   "outputs": [],
   "source": [
    "comp.write('file2.txt',compress_type=zipfile.ZIP_DEFLATED)"
   ]
  },
  {
   "cell_type": "code",
   "execution_count": 12,
   "id": "f7a97d3d-9dfc-4272-ba54-30e334aa99ba",
   "metadata": {},
   "outputs": [],
   "source": [
    "comp.close()"
   ]
  },
  {
   "cell_type": "code",
   "execution_count": 13,
   "id": "a330acab-01eb-4754-8b38-1403dc13cfc0",
   "metadata": {},
   "outputs": [],
   "source": [
    "zip_obj=zipfile.ZipFile('comp.zip','r')"
   ]
  },
  {
   "cell_type": "code",
   "execution_count": 14,
   "id": "dc9a552a-1b04-4429-8631-7d89d03c5168",
   "metadata": {},
   "outputs": [],
   "source": [
    "zip_obj.extractall('extrtacted file1and2')"
   ]
  },
  {
   "cell_type": "code",
   "execution_count": 15,
   "id": "589ba57e-e050-45fd-a6e6-b7ca406212b7",
   "metadata": {},
   "outputs": [
    {
     "data": {
      "text/plain": [
       "'C:\\\\Users\\\\ADMIN\\\\Desktop\\\\All\\\\jupiter'"
      ]
     },
     "execution_count": 15,
     "metadata": {},
     "output_type": "execute_result"
    }
   ],
   "source": [
    "pwd"
   ]
  },
  {
   "cell_type": "code",
   "execution_count": 16,
   "id": "630dee5f-453e-4389-9341-3a242c4be452",
   "metadata": {},
   "outputs": [],
   "source": [
    "import shutil"
   ]
  },
  {
   "cell_type": "code",
   "execution_count": 19,
   "id": "ae9a8bfc-01f2-4ecb-9127-971316f0cd77",
   "metadata": {},
   "outputs": [],
   "source": [
    "dir_zip='C:\\\\Users\\\\ADMIN\\\\Desktop\\\\All\\\\jupiter'"
   ]
  },
  {
   "cell_type": "code",
   "execution_count": 17,
   "id": "43daf427-c3ae-436e-8aff-fe9ff7437e85",
   "metadata": {},
   "outputs": [],
   "source": [
    "output='example'"
   ]
  },
  {
   "cell_type": "code",
   "execution_count": 20,
   "id": "4d7d421e-c7be-4ff4-8f7d-90913e7f2362",
   "metadata": {},
   "outputs": [
    {
     "data": {
      "text/plain": [
       "'C:\\\\Users\\\\ADMIN\\\\Desktop\\\\All\\\\jupiter\\\\example.zip'"
      ]
     },
     "execution_count": 20,
     "metadata": {},
     "output_type": "execute_result"
    }
   ],
   "source": [
    "shutil.make_archive(output,'zip',dir_zip)"
   ]
  },
  {
   "cell_type": "code",
   "execution_count": null,
   "id": "1b3e951a-e26f-4b3e-911d-473636ba779b",
   "metadata": {},
   "outputs": [],
   "source": []
  }
 ],
 "metadata": {
  "kernelspec": {
   "display_name": "Python 3 (ipykernel)",
   "language": "python",
   "name": "python3"
  },
  "language_info": {
   "codemirror_mode": {
    "name": "ipython",
    "version": 3
   },
   "file_extension": ".py",
   "mimetype": "text/x-python",
   "name": "python",
   "nbconvert_exporter": "python",
   "pygments_lexer": "ipython3",
   "version": "3.13.0"
  }
 },
 "nbformat": 4,
 "nbformat_minor": 5
}
