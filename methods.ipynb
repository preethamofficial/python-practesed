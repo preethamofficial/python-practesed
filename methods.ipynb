{
 "cells": [
  {
   "cell_type": "code",
   "execution_count": 1,
   "id": "4641d185-2601-47b2-95d2-50f6083bfc93",
   "metadata": {},
   "outputs": [
    {
     "name": "stdout",
     "output_type": "stream",
     "text": [
      "['apple', 'orange', 'banana', 'grapes', 'kivi', 'pappaya', 'gauva']\n",
      "['apple', 'orange', 'banana', 'grapes', 'kivi', 'pappaya', 'gauva', 'chikki']\n",
      "['apple', 'orange', 'banana', 'grapes', 'kivi', 'watermilon', 'pappaya', 'gauva', 'chikki']\n",
      "['apple', 'orange', 'banana', 'grapes', 'watermilon', 'pappaya', 'gauva', 'chikki']\n",
      "chikki\n",
      "['apple', 'orange', 'banana', 'grapes', 'watermilon', 'pappaya', 'gauva']\n",
      "5\n",
      "['apple', 'banana', 'gauva', 'grapes', 'orange', 'pappaya', 'watermilon']\n",
      "['watermilon', 'pappaya', 'orange', 'grapes', 'gauva', 'banana', 'apple']\n",
      "[]\n"
     ]
    }
   ],
   "source": [
    "## list methods \n",
    "fruits=[\"apple\",\"orange\",\"banana\",\"grapes\",\"kivi\",\"pappaya\",\"gauva\"]\n",
    "print(fruits)\n",
    "fruits.append(\"chikki\") ## add at last \n",
    "print(fruits)\n",
    "fruits.insert(5,\"watermilon\")## adding an item in any position\n",
    "print(fruits)\n",
    "fruits.remove(\"kivi\")## removing \n",
    "print(fruits)\n",
    "popped_fruits=fruits.pop() ## remove all and return last item\n",
    "print(popped_fruits)\n",
    "print(fruits) \n",
    "index=fruits.index(\"pappaya\") ## position of the fruit\n",
    "print(index)\n",
    "fruits.sort() ## arranging in asssending order\n",
    "print(fruits)\n",
    "fruits.reverse() ## reversing the list\n",
    "print(fruits)\n",
    "fruits.clear() ## remove all the items from a list\n",
    "print(fruits)"
   ]
  },
  {
   "cell_type": "code",
   "execution_count": 34,
   "id": "f4852eda-510f-4a3e-b12a-a260dca33dd2",
   "metadata": {},
   "outputs": [
    {
     "name": "stdout",
     "output_type": "stream",
     "text": [
      "[3, 4, 5, 6]\n",
      "[1, 2, 3, 4, 5]\n",
      "[6, 7, 8, 9, 10]\n",
      "[1, 4, 7, 10]\n",
      "[10, 8, 6, 4, 2]\n"
     ]
    }
   ],
   "source": [
    "num=[1,2,3,4,5,6,7,8,9,10]\n",
    "print(num[2:6])\n",
    "print(num[:5])\n",
    "print(num[5:])\n",
    "print(num[::3])\n",
    "print(num[::-2])"
   ]
  },
  {
   "cell_type": "code",
   "execution_count": 37,
   "id": "678b7de8-9ccb-4864-b6f0-6f4137b9ce03",
   "metadata": {},
   "outputs": [
    {
     "name": "stdout",
     "output_type": "stream",
     "text": [
      "1\n",
      "2\n",
      "3\n",
      "4\n",
      "5\n",
      "6\n",
      "7\n",
      "8\n",
      "9\n",
      "10\n"
     ]
    }
   ],
   "source": [
    "for numbers in num:\n",
    "    print(numbers)"
   ]
  },
  {
   "cell_type": "code",
   "execution_count": 40,
   "id": "37239a31-862a-4f49-9f75-9ff882a985f4",
   "metadata": {},
   "outputs": [
    {
     "name": "stdout",
     "output_type": "stream",
     "text": [
      "0 1\n",
      "1 2\n",
      "2 3\n",
      "3 4\n",
      "4 5\n",
      "5 6\n",
      "6 7\n",
      "7 8\n",
      "8 9\n",
      "9 10\n"
     ]
    }
   ],
   "source": [
    "# iterating with index\n",
    "for index,number in enumerate(num):\n",
    "    print(index,number)"
   ]
  },
  {
   "cell_type": "code",
   "execution_count": 46,
   "id": "e47d12b5-590a-4fc7-8fca-ac161661c919",
   "metadata": {},
   "outputs": [
    {
     "name": "stdout",
     "output_type": "stream",
     "text": [
      "[0, 1, 4, 9, 16, 25]\n"
     ]
    }
   ],
   "source": [
    "## list compensation\n",
    "lst=[]\n",
    "for x in range(6):\n",
    "    lst.append(x**2)\n",
    "print(lst)"
   ]
  },
  {
   "cell_type": "code",
   "execution_count": 45,
   "id": "ee91a17e-52c0-4a6b-b572-843b26bf7b4f",
   "metadata": {},
   "outputs": [
    {
     "data": {
      "text/plain": [
       "[0, 1, 4, 9, 16, 25]"
      ]
     },
     "execution_count": 45,
     "metadata": {},
     "output_type": "execute_result"
    }
   ],
   "source": [
    "## list compensation with only 1 line\n",
    "[x**2 for x in range(6)]"
   ]
  },
  {
   "cell_type": "code",
   "execution_count": 49,
   "id": "6256cbb0-9120-4963-9ade-a0e871108326",
   "metadata": {},
   "outputs": [
    {
     "name": "stdout",
     "output_type": "stream",
     "text": [
      "[0, 1, 4, 9, 16, 25, 36, 49, 64, 81]\n"
     ]
    }
   ],
   "source": [
    "## basic  list comphrension\n",
    "square=[num**2 for num in range(10)]\n",
    "print(square)"
   ]
  },
  {
   "cell_type": "code",
   "execution_count": 50,
   "id": "f71268db-e4f2-4d9c-bfe6-fea7cd224b51",
   "metadata": {},
   "outputs": [
    {
     "name": "stdout",
     "output_type": "stream",
     "text": [
      "[0, 2, 4, 6, 8]\n"
     ]
    }
   ],
   "source": [
    "lst=[]\n",
    "for i in range(10):\n",
    "    if i%2==0:\n",
    "        lst.append(i)\n",
    "print(lst)"
   ]
  },
  {
   "cell_type": "code",
   "execution_count": 51,
   "id": "9ac376ef-b040-4c47-a54c-54e32c0b10ba",
   "metadata": {},
   "outputs": [
    {
     "name": "stdout",
     "output_type": "stream",
     "text": [
      "[0, 2, 4, 6, 8]\n"
     ]
    }
   ],
   "source": [
    "even_number=[n for n in range(10) if n%2==0]\n",
    "print(even_number)"
   ]
  },
  {
   "cell_type": "code",
   "execution_count": 52,
   "id": "cde09999-a3fd-4579-baea-fa31e874868e",
   "metadata": {},
   "outputs": [
    {
     "name": "stdout",
     "output_type": "stream",
     "text": [
      "[1, 3, 5, 7, 9]\n"
     ]
    }
   ],
   "source": [
    "odd_number=[n for n in range(10) if n%2!=0]\n",
    "print(odd_number)"
   ]
  },
  {
   "cell_type": "code",
   "execution_count": 56,
   "id": "5c84995a-6e40-4b73-b052-ccdc190c3d44",
   "metadata": {},
   "outputs": [
    {
     "name": "stdout",
     "output_type": "stream",
     "text": [
      "[[1, 'a'], [1, 'b'], [1, 'c'], [1, 'd'], [1, 'e'], [2, 'a'], [2, 'b'], [2, 'c'], [2, 'd'], [2, 'e'], [3, 'a'], [3, 'b'], [3, 'c'], [3, 'd'], [3, 'e'], [4, 'a'], [4, 'b'], [4, 'c'], [4, 'd'], [4, 'e']]\n"
     ]
    }
   ],
   "source": [
    "ls1=[1,2,3,4]\n",
    "ls2=['a','b','c','d','e']\n",
    "pair=[[i,j] for i in ls1 for j in ls2]\n",
    "print(pair)"
   ]
  },
  {
   "cell_type": "code",
   "execution_count": 1,
   "id": "b5a6aea8-808d-408f-a188-ad6ee23999be",
   "metadata": {},
   "outputs": [
    {
     "name": "stdout",
     "output_type": "stream",
     "text": [
      "['preetham', 'reddy', 'teju', 'shashank', 'bhargav']\n",
      "[8, 5, 4, 8, 7]\n"
     ]
    }
   ],
   "source": [
    "words=[\"preetham\",\"reddy\",\"teju\",\"shashank\",\"bhargav\"]\n",
    "length=[len(n) for n in words]\n",
    "print(words)\n",
    "print(length)"
   ]
  },
  {
   "cell_type": "code",
   "execution_count": null,
   "id": "cdeab0b3-e53b-4d8c-97a0-ccac93f4114b",
   "metadata": {},
   "outputs": [],
   "source": []
  }
 ],
 "metadata": {
  "kernelspec": {
   "display_name": "Python 3 (ipykernel)",
   "language": "python",
   "name": "python3"
  },
  "language_info": {
   "codemirror_mode": {
    "name": "ipython",
    "version": 3
   },
   "file_extension": ".py",
   "mimetype": "text/x-python",
   "name": "python",
   "nbconvert_exporter": "python",
   "pygments_lexer": "ipython3",
   "version": "3.13.0"
  }
 },
 "nbformat": 4,
 "nbformat_minor": 5
}
