{
 "cells": [
  {
   "cell_type": "code",
   "execution_count": 1,
   "id": "3d9ecfb5-a98c-4ab3-9d1f-afc8db5066e7",
   "metadata": {},
   "outputs": [],
   "source": [
    "## singhle line cmd\n",
    "##preetham reddy\n"
   ]
  },
  {
   "cell_type": "code",
   "execution_count": 6,
   "id": "88c8d234-b226-4f06-8708-5fbcb2507c66",
   "metadata": {},
   "outputs": [
    {
     "name": "stdout",
     "output_type": "stream",
     "text": [
      "100\n"
     ]
    }
   ],
   "source": [
    "## adding of a 2 numbers\n",
    "x=10;y=90;z=x+y;\n",
    "print(z)"
   ]
  },
  {
   "cell_type": "code",
   "execution_count": 7,
   "id": "6a609f82-e500-4a02-b8c6-17cc74bae207",
   "metadata": {},
   "outputs": [
    {
     "data": {
      "text/plain": [
       "' data types \\n int =10\\n float =10.909\\n str = \"preetham\" (string) '"
      ]
     },
     "execution_count": 7,
     "metadata": {},
     "output_type": "execute_result"
    }
   ],
   "source": [
    "\"\"\" data types \n",
    " int =10\n",
    " float =10.909\n",
    " str = \"preetham\" (string) \n",
    " c=[1,25.67,\"apple\",\"orange\",3,3.4,6,7,8]  (list)\n",
    " student={\"name\": \"preetham reddy\",\"age\":\"19\",\"branch\":\"ise\",\"sem\":\"4\",\"college\":\"brindavan college\"}  (dictionery)\n",
    " t=(4,5,6)(tuple)\n",
    " \"\"\""
   ]
  },
  {
   "cell_type": "code",
   "execution_count": 1,
   "id": "3daa0d05-71df-4b0b-bbb9-5cb1862184fa",
   "metadata": {},
   "outputs": [
    {
     "data": {
      "text/plain": [
       "tuple"
      ]
     },
     "execution_count": 1,
     "metadata": {},
     "output_type": "execute_result"
    }
   ],
   "source": [
    "t=(4,5,6)\n",
    "type(t)"
   ]
  },
  {
   "cell_type": "code",
   "execution_count": 2,
   "id": "a156b8f1-b3ce-4618-afad-69678b85dc20",
   "metadata": {},
   "outputs": [
    {
     "data": {
      "text/plain": [
       "int"
      ]
     },
     "execution_count": 2,
     "metadata": {},
     "output_type": "execute_result"
    }
   ],
   "source": [
    "##data type integer\n",
    "age=80\n",
    "type(age)"
   ]
  },
  {
   "cell_type": "code",
   "execution_count": 3,
   "id": "bdb6f200-f084-40ec-a5e4-f55a37b98669",
   "metadata": {},
   "outputs": [
    {
     "data": {
      "text/plain": [
       "int"
      ]
     },
     "execution_count": 3,
     "metadata": {},
     "output_type": "execute_result"
    }
   ],
   "source": [
    "##data type integer\n",
    "age=80\n",
    "type(age)"
   ]
  },
  {
   "cell_type": "code",
   "execution_count": 8,
   "id": "1e2f8763-f014-42cf-a455-220497144c53",
   "metadata": {},
   "outputs": [
    {
     "name": "stdout",
     "output_type": "stream",
     "text": [
      "correct\n",
      "correct3\n"
     ]
    }
   ],
   "source": [
    "## nested if else condition\n",
    "if True:\n",
    "    print(\"correct\")\n",
    "    if False:\n",
    "        print(\"correct1\")\n",
    "    else: \n",
    "        print(\"correct3\")\n",
    "else: \n",
    "    print(\"correct4\")\n"
   ]
  },
  {
   "cell_type": "code",
   "execution_count": 1,
   "id": "a151318c-d3c3-409a-a300-50f136cefcb7",
   "metadata": {},
   "outputs": [
    {
     "name": "stdout",
     "output_type": "stream",
     "text": [
      "111\n",
      "222\n",
      "444\n"
     ]
    }
   ],
   "source": [
    "## nested if else condition\n",
    "if True:\n",
    "    print(\"111\")\n",
    "    if True: \n",
    "        print(\"222\")\n",
    "        if False:\n",
    "            print(\"333\")\n",
    "        else:\n",
    "            print(\"444\")\n",
    "    else:\n",
    "        print(\"555\")\n",
    "else:\n",
    "    print(\"666\")"
   ]
  },
  {
   "cell_type": "code",
   "execution_count": 9,
   "id": "6ac09452-230d-45dd-b059-4732fdb6ea1f",
   "metadata": {},
   "outputs": [
    {
     "name": "stdout",
     "output_type": "stream",
     "text": [
      "111\n",
      "222\n",
      "333\n",
      "444\n",
      "555\n",
      "666\n"
     ]
    }
   ],
   "source": [
    "##if condition  with syntex error\n",
    "if True:\n",
    "    print(\"111\")\n",
    "    if 70==70.0: \n",
    "        print(\"222\")\n",
    "        if 69==69.00000:\n",
    "            print(\"333\")\n",
    "        print(\"444\")\n",
    "    print(\"555\")\n",
    "print(\"666\")"
   ]
  }
 ],
 "metadata": {
  "kernelspec": {
   "display_name": "Python 3 (ipykernel)",
   "language": "python",
   "name": "python3"
  },
  "language_info": {
   "codemirror_mode": {
    "name": "ipython",
    "version": 3
   },
   "file_extension": ".py",
   "mimetype": "text/x-python",
   "name": "python",
   "nbconvert_exporter": "python",
   "pygments_lexer": "ipython3",
   "version": "3.13.0"
  }
 },
 "nbformat": 4,
 "nbformat_minor": 5
}
