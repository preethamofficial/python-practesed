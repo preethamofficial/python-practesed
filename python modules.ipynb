{
 "cells": [
  {
   "cell_type": "code",
   "execution_count": 2,
   "id": "85aee230-d3e3-4092-a06c-54d0137d1224",
   "metadata": {},
   "outputs": [],
   "source": [
    "from collections import Counter"
   ]
  },
  {
   "cell_type": "code",
   "execution_count": 23,
   "id": "96f0f0da-64ad-48f2-92c7-9633c6d3dfb4",
   "metadata": {},
   "outputs": [],
   "source": [
    "my=[1,1,1,1,1,1,1,1,2,2,2,2,2,2,3,3,3,3,3,4]"
   ]
  },
  {
   "cell_type": "code",
   "execution_count": 24,
   "id": "fc098b1d-48b3-4785-a49b-4f8fdc62d495",
   "metadata": {},
   "outputs": [
    {
     "data": {
      "text/plain": [
       "[1, 1, 1, 1, 1, 1, 1, 1, 2, 2, 2, 2, 2, 2, 3, 3, 3, 3, 3, 4]"
      ]
     },
     "execution_count": 24,
     "metadata": {},
     "output_type": "execute_result"
    }
   ],
   "source": [
    "my"
   ]
  },
  {
   "cell_type": "code",
   "execution_count": 19,
   "id": "2a4b1f8c-85d8-4bd8-b681-b1f8bb996fa6",
   "metadata": {},
   "outputs": [
    {
     "data": {
      "text/plain": [
       "Counter({1: 8, 4: 8, 2: 6, 3: 5})"
      ]
     },
     "execution_count": 19,
     "metadata": {},
     "output_type": "execute_result"
    }
   ],
   "source": [
    "Counter(my)"
   ]
  },
  {
   "cell_type": "code",
   "execution_count": 20,
   "id": "d29041fc-e90f-424e-9088-8cf15926a30a",
   "metadata": {},
   "outputs": [],
   "source": [
    "a=Counter(my)"
   ]
  },
  {
   "cell_type": "code",
   "execution_count": 26,
   "id": "5ac31e17-44d6-4123-8268-79d52a63b020",
   "metadata": {},
   "outputs": [
    {
     "data": {
      "text/plain": [
       "[(1, 8), (4, 8)]"
      ]
     },
     "execution_count": 26,
     "metadata": {},
     "output_type": "execute_result"
    }
   ],
   "source": [
    "a.most_common(2)"
   ]
  },
  {
   "cell_type": "code",
   "execution_count": 27,
   "id": "9c3469c2-f0ff-49fa-8c06-a9b26152a57a",
   "metadata": {},
   "outputs": [
    {
     "data": {
      "text/plain": [
       "[(1, 8)]"
      ]
     },
     "execution_count": 27,
     "metadata": {},
     "output_type": "execute_result"
    }
   ],
   "source": [
    "a.most_common(1)"
   ]
  },
  {
   "cell_type": "code",
   "execution_count": 28,
   "id": "8ce2555c-8050-4b2f-a656-43b479f35c66",
   "metadata": {},
   "outputs": [
    {
     "data": {
      "text/plain": [
       "[1, 2, 3, 4]"
      ]
     },
     "execution_count": 28,
     "metadata": {},
     "output_type": "execute_result"
    }
   ],
   "source": [
    "list(a)"
   ]
  },
  {
   "cell_type": "code",
   "execution_count": 1,
   "id": "940a669e-caf9-433c-ae9b-1ceeede7de24",
   "metadata": {},
   "outputs": [],
   "source": [
    "from collections import defaultdict"
   ]
  },
  {
   "cell_type": "code",
   "execution_count": 2,
   "id": "f0935306-e437-46c5-81e4-7d94c8dbeeca",
   "metadata": {},
   "outputs": [],
   "source": [
    "d={'a':10}"
   ]
  },
  {
   "cell_type": "code",
   "execution_count": 3,
   "id": "c6e6d436-ae6b-4852-b092-24725a8cd199",
   "metadata": {},
   "outputs": [
    {
     "data": {
      "text/plain": [
       "{'a': 10}"
      ]
     },
     "execution_count": 3,
     "metadata": {},
     "output_type": "execute_result"
    }
   ],
   "source": [
    "d"
   ]
  },
  {
   "cell_type": "code",
   "execution_count": 4,
   "id": "bfd98c53-d667-4e11-b3e7-56bc59c67ee0",
   "metadata": {},
   "outputs": [
    {
     "data": {
      "text/plain": [
       "10"
      ]
     },
     "execution_count": 4,
     "metadata": {},
     "output_type": "execute_result"
    }
   ],
   "source": [
    "d['a']"
   ]
  },
  {
   "cell_type": "code",
   "execution_count": 6,
   "id": "2ece0e8e-6f6c-4edc-901e-db93bc5f3814",
   "metadata": {},
   "outputs": [],
   "source": [
    "a=defaultdict(lambda:0)"
   ]
  },
  {
   "cell_type": "code",
   "execution_count": 7,
   "id": "8f1d4eee-c214-4d5e-a7ce-7faa977e5916",
   "metadata": {},
   "outputs": [
    {
     "data": {
      "text/plain": [
       "0"
      ]
     },
     "execution_count": 7,
     "metadata": {},
     "output_type": "execute_result"
    }
   ],
   "source": [
    "a['defalt  dictionery']"
   ]
  },
  {
   "cell_type": "code",
   "execution_count": 8,
   "id": "fa37394a-f165-4fd3-96d0-9a0329184dc4",
   "metadata": {},
   "outputs": [
    {
     "data": {
      "text/plain": [
       "defaultdict(<function __main__.<lambda>()>, {'defalt  dictionery': 0})"
      ]
     },
     "execution_count": 8,
     "metadata": {},
     "output_type": "execute_result"
    }
   ],
   "source": [
    "a"
   ]
  },
  {
   "cell_type": "code",
   "execution_count": null,
   "id": "38477627-1823-4906-9701-b6d2e6abcea9",
   "metadata": {},
   "outputs": [],
   "source": []
  }
 ],
 "metadata": {
  "kernelspec": {
   "display_name": "Python 3 (ipykernel)",
   "language": "python",
   "name": "python3"
  },
  "language_info": {
   "codemirror_mode": {
    "name": "ipython",
    "version": 3
   },
   "file_extension": ".py",
   "mimetype": "text/x-python",
   "name": "python",
   "nbconvert_exporter": "python",
   "pygments_lexer": "ipython3",
   "version": "3.13.0"
  }
 },
 "nbformat": 4,
 "nbformat_minor": 5
}
