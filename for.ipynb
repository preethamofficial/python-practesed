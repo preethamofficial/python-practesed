{
 "cells": [
  {
   "cell_type": "code",
   "execution_count": 1,
   "id": "de81a060-7032-4e6e-ab2a-5dcb031a422c",
   "metadata": {},
   "outputs": [
    {
     "name": "stdout",
     "output_type": "stream",
     "text": [
      "1\n",
      "3\n",
      "5\n",
      "7\n",
      "9\n"
     ]
    }
   ],
   "source": [
    "## odd numbers\n",
    "for i in range(10):\n",
    "    if i%2==0:\n",
    "        continue\n",
    "    print(i)"
   ]
  },
  {
   "cell_type": "code",
   "execution_count": 7,
   "id": "455ff9bc-5e2f-45f6-b0e6-78a8b23c2a59",
   "metadata": {},
   "outputs": [
    {
     "name": "stdout",
     "output_type": "stream",
     "text": [
      "0\n",
      "1\n"
     ]
    }
   ],
   "source": [
    "# print i mod 3=2 values of range 10\n",
    "for i in range(10):\n",
    "    if i%3==2:\n",
    "        break\n",
    "    print(i)"
   ]
  },
  {
   "cell_type": "code",
   "execution_count": 40,
   "id": "297a3e6d-e1a9-4700-978f-3a6a6a242db8",
   "metadata": {},
   "outputs": [
    {
     "name": "stdout",
     "output_type": "stream",
     "text": [
      "0\n",
      "1\n",
      "2\n",
      "the number is: 3\n",
      "3\n",
      "4\n"
     ]
    }
   ],
   "source": [
    "for i in range(5):\n",
    "    if i==3:\n",
    "        pass\n",
    "        print(\"the number is:\",i)\n",
    "       \n",
    "    print(i)"
   ]
  },
  {
   "cell_type": "code",
   "execution_count": 43,
   "id": "8d6ae315-4917-4cc2-a5bc-ee6e4458d019",
   "metadata": {},
   "outputs": [
    {
     "name": "stdout",
     "output_type": "stream",
     "text": [
      "i:0and j:0\n",
      "i:0and j:1\n",
      "i:1and j:0\n",
      "i:1and j:1\n"
     ]
    }
   ],
   "source": [
    "## truth table\n",
    "for i in range(2):\n",
    "    for j in range(2):\n",
    "        print(f\"i:{i}and j:{j}\")"
   ]
  },
  {
   "cell_type": "code",
   "execution_count": 45,
   "id": "cd16f236-1057-44da-8e88-65cc6a4967f5",
   "metadata": {},
   "outputs": [
    {
     "name": "stdout",
     "output_type": "stream",
     "text": [
      "i:0and j:0\n",
      "i:0and j:1\n",
      "i:0and j:2\n",
      "i:1and j:0\n",
      "i:1and j:1\n",
      "i:1and j:2\n",
      "i:2and j:0\n",
      "i:2and j:1\n",
      "i:2and j:2\n",
      "i:3and j:0\n",
      "i:3and j:1\n",
      "i:3and j:2\n"
     ]
    }
   ],
   "source": [
    "## truth table\n",
    "for i in range(4):\n",
    "    for j in range(3):\n",
    "        print(f\"i:{i}and j:{j}\")"
   ]
  },
  {
   "cell_type": "code",
   "execution_count": 2,
   "id": "c5d71b96-b387-4560-b688-9e9e2e304949",
   "metadata": {},
   "outputs": [
    {
     "name": "stdout",
     "output_type": "stream",
     "text": [
      "sum of first 5 natural number: 15\n"
     ]
    }
   ],
   "source": [
    "## sum of first 5 natural numbers\n",
    "n=5\n",
    "sum=0\n",
    "count=1\n",
    "while count<=n:\n",
    "    sum=sum+count\n",
    "    count=count+1\n",
    "print(\"sum of first 5 natural number:\",sum)"
   ]
  },
  {
   "cell_type": "code",
   "execution_count": 1,
   "id": "25e79b84-fb5c-4923-9181-c987424fd6f9",
   "metadata": {},
   "outputs": [
    {
     "name": "stdout",
     "output_type": "stream",
     "text": [
      "1\n",
      "2\n",
      "3\n",
      "4\n",
      "5\n",
      "= 15\n"
     ]
    }
   ],
   "source": [
    "## sum of 1 to 6 \n",
    "sum=0\n",
    "for i in range(1,6):\n",
    "    print(i)\n",
    "    sum=sum+i\n",
    "print(\"=\",sum)"
   ]
  },
  {
   "cell_type": "code",
   "execution_count": 72,
   "id": "6770eaa1-3a60-46b5-b64a-8c6f560b9c7e",
   "metadata": {},
   "outputs": [
    {
     "name": "stdout",
     "output_type": "stream",
     "text": [
      "2\n",
      "3\n",
      "5\n",
      "7\n",
      "11\n",
      "13\n",
      "17\n",
      "19\n",
      "23\n",
      "29\n",
      "31\n",
      "37\n",
      "41\n",
      "43\n",
      "47\n",
      "53\n",
      "59\n",
      "61\n",
      "67\n",
      "71\n",
      "73\n",
      "79\n",
      "83\n",
      "89\n",
      "97\n"
     ]
    }
   ],
   "source": [
    "## break   clear the logic\n",
    "for n in range(1,101):\n",
    "    if n>1:\n",
    "        for i in range(2,n):\n",
    "            if n%i==0:\n",
    "                break\n",
    "        else:\n",
    "             print(n)"
   ]
  },
  {
   "cell_type": "code",
   "execution_count": 8,
   "id": "65d37078-07df-45e5-9790-21aba22c6f8e",
   "metadata": {},
   "outputs": [
    {
     "data": {
      "text/plain": [
       "list"
      ]
     },
     "execution_count": 8,
     "metadata": {},
     "output_type": "execute_result"
    }
   ],
   "source": [
    "## date type\n",
    "lst=[]\n",
    "type(lst)"
   ]
  },
  {
   "cell_type": "code",
   "execution_count": 10,
   "id": "5103c51c-b27f-4bc0-932f-e5c97f4a31b7",
   "metadata": {},
   "outputs": [
    {
     "name": "stdout",
     "output_type": "stream",
     "text": [
      "['apple', 'banana', 'orange', 'grapes']\n"
     ]
    }
   ],
   "source": [
    "## list\n",
    "name=[\"apple\",\"banana\",\"orange\",\"grapes\"]\n",
    "print(name)"
   ]
  },
  {
   "cell_type": "code",
   "execution_count": 11,
   "id": "cb2bb57e-3974-4327-a36a-ceeaeb705944",
   "metadata": {},
   "outputs": [
    {
     "name": "stdout",
     "output_type": "stream",
     "text": [
      "[1, 25.67, 'apple', 'orange', 3, 3.4, 6, 7, 8] <class 'list'>\n"
     ]
    }
   ],
   "source": [
    "c=[1,25.67,\"apple\",\"orange\",3,3.4,6,7,8]\n",
    "print(c,type(c))"
   ]
  },
  {
   "cell_type": "code",
   "execution_count": 2,
   "id": "c183c9c0-0ef5-4eee-9296-d07e39fb4b2f",
   "metadata": {},
   "outputs": [
    {
     "name": "stdout",
     "output_type": "stream",
     "text": [
      "grapes\n",
      "bannana\n",
      "apple\n",
      "kiwi\n",
      "['grapes', 'kiwi', 'bannana']\n",
      "['apple', 'orange']\n",
      "['orange', 'grapes']\n",
      "['apple', 'watermelon', 'grapes', 'kiwi', 'bannana']\n"
     ]
    }
   ],
   "source": [
    "## printing list position value, replacing\n",
    "fruit=[\"apple\",\"orange\",\"grapes\",\"kiwi\",\"bannana\"]\n",
    "print(fruit[2])\n",
    "print(fruit[-1])\n",
    "print(fruit[0])\n",
    "print(fruit[-2])\n",
    "print(fruit[2:])\n",
    "print(fruit[:2])\n",
    "print(fruit[1:-2])\n",
    "fruit[1]=\"watermelon\"\n",
    "print(fruit)"
   ]
  }
 ],
 "metadata": {
  "kernelspec": {
   "display_name": "Python 3 (ipykernel)",
   "language": "python",
   "name": "python3"
  },
  "language_info": {
   "codemirror_mode": {
    "name": "ipython",
    "version": 3
   },
   "file_extension": ".py",
   "mimetype": "text/x-python",
   "name": "python",
   "nbconvert_exporter": "python",
   "pygments_lexer": "ipython3",
   "version": "3.13.0"
  }
 },
 "nbformat": 4,
 "nbformat_minor": 5
}
