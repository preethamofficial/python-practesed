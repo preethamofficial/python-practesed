{
 "cells": [
  {
   "cell_type": "code",
   "execution_count": 6,
   "id": "f4622031-e595-4225-babf-38723234dbef",
   "metadata": {},
   "outputs": [
    {
     "name": "stdin",
     "output_type": "stream",
     "text": [
      "enter first valur 90\n",
      "enter second value 4\n"
     ]
    },
    {
     "name": "stdout",
     "output_type": "stream",
     "text": [
      "addition: 94.0\n",
      "substraction: 86.0\n",
      "multiplication: 360.0\n",
      "division: 22.5\n",
      "floor dividion: 22.0\n",
      "modulus: 2.0\n",
      "exponent: 65610000.0\n"
     ]
    }
   ],
   "source": [
    "## simple calulator\n",
    "a=float(input(\"enter first valur\"))\n",
    "b=float(input(\"enter second value\"))\n",
    "add_result=a+b\n",
    "sub_result=a-b\n",
    "mult_result=a*b\n",
    "div_result=a/b\n",
    "floor_result=a//b\n",
    "modulus_result=a%b\n",
    "expo_result=a**b\n",
    "print(\"addition:\",add_result)\n",
    "print(\"substraction:\",sub_result)\n",
    "print(\"multiplication:\",mult_result)\n",
    "print(\"division:\",div_result)\n",
    "print(\"floor dividion:\",floor_result)\n",
    "print(\"modulus:\",modulus_result)\n",
    "print(\"exponent:\",expo_result)"
   ]
  },
  {
   "cell_type": "code",
   "execution_count": 7,
   "id": "1384ba56-18dc-4d56-9c12-fc4d66371ed5",
   "metadata": {},
   "outputs": [
    {
     "data": {
      "text/plain": [
       "512000"
      ]
     },
     "execution_count": 7,
     "metadata": {},
     "output_type": "execute_result"
    }
   ],
   "source": [
    "80**3"
   ]
  },
  {
   "cell_type": "code",
   "execution_count": 20,
   "id": "d7b8dd55-2fe8-432b-a387-a7f14a26323a",
   "metadata": {},
   "outputs": [
    {
     "data": {
      "text/plain": [
       "4.0"
      ]
     },
     "execution_count": 20,
     "metadata": {},
     "output_type": "execute_result"
    }
   ],
   "source": [
    "8/2"
   ]
  },
  {
   "cell_type": "code",
   "execution_count": 15,
   "id": "c6d016ca-df32-47af-b30d-03362c75161a",
   "metadata": {},
   "outputs": [
    {
     "data": {
      "text/plain": [
       "2"
      ]
     },
     "execution_count": 15,
     "metadata": {},
     "output_type": "execute_result"
    }
   ],
   "source": [
    "8//3"
   ]
  },
  {
   "cell_type": "code",
   "execution_count": 16,
   "id": "a19881ad-2dc8-4aef-8a21-863c2fd8fc33",
   "metadata": {},
   "outputs": [
    {
     "data": {
      "text/plain": [
       "4"
      ]
     },
     "execution_count": 16,
     "metadata": {},
     "output_type": "execute_result"
    }
   ],
   "source": [
    "8//2\n"
   ]
  },
  {
   "cell_type": "code",
   "execution_count": 21,
   "id": "6340a20a-acc1-4cac-be9c-91984a8abe21",
   "metadata": {},
   "outputs": [
    {
     "data": {
      "text/plain": [
       "10"
      ]
     },
     "execution_count": 21,
     "metadata": {},
     "output_type": "execute_result"
    }
   ],
   "source": [
    "21//2"
   ]
  },
  {
   "cell_type": "code",
   "execution_count": 24,
   "id": "a2466c08-0587-4cea-a0fd-07230e95e9e4",
   "metadata": {},
   "outputs": [
    {
     "data": {
      "text/plain": [
       "10.5"
      ]
     },
     "execution_count": 24,
     "metadata": {},
     "output_type": "execute_result"
    }
   ],
   "source": [
    "21/2"
   ]
  },
  {
   "cell_type": "code",
   "execution_count": 25,
   "id": "28d45921-abc7-4dbe-a635-3264c590a207",
   "metadata": {},
   "outputs": [
    {
     "data": {
      "text/plain": [
       "True"
      ]
     },
     "execution_count": 25,
     "metadata": {},
     "output_type": "execute_result"
    }
   ],
   "source": [
    "## equals to\n",
    "a=10\n",
    "b=10\n",
    "a==b"
   ]
  },
  {
   "cell_type": "code",
   "execution_count": 26,
   "id": "907df73a-1823-4f99-ad81-fb1e8ef77aed",
   "metadata": {},
   "outputs": [
    {
     "data": {
      "text/plain": [
       "True"
      ]
     },
     "execution_count": 26,
     "metadata": {},
     "output_type": "execute_result"
    }
   ],
   "source": [
    "## not equals to\n",
    "a=10\n",
    "b=20\n",
    "a!=b"
   ]
  },
  {
   "cell_type": "code",
   "execution_count": 27,
   "id": "97126f37-b928-40f5-a85b-8a032a2910ad",
   "metadata": {},
   "outputs": [
    {
     "data": {
      "text/plain": [
       "False"
      ]
     },
     "execution_count": 27,
     "metadata": {},
     "output_type": "execute_result"
    }
   ],
   "source": [
    "a=20\n",
    "b=20\n",
    "a!=b"
   ]
  },
  {
   "cell_type": "code",
   "execution_count": 28,
   "id": "6d5c6ef6-3601-41dc-971d-dce1c28f2f22",
   "metadata": {},
   "outputs": [
    {
     "data": {
      "text/plain": [
       "True"
      ]
     },
     "execution_count": 28,
     "metadata": {},
     "output_type": "execute_result"
    }
   ],
   "source": [
    "st1=\"Preetham\"\n",
    "st2=\"preetham\"\n",
    "st1!=st2"
   ]
  },
  {
   "cell_type": "code",
   "execution_count": 12,
   "id": "e68d83b0-86c3-4213-a5f1-81d3e0044b9a",
   "metadata": {},
   "outputs": [
    {
     "name": "stdout",
     "output_type": "stream",
     "text": [
      "if it false  True\n"
     ]
    }
   ],
   "source": [
    "st1=\"Preetham\"\n",
    "st2=\"preetham\"\n",
    "if False:\n",
    "    print(st1!=st2)\n",
    "print(\"if it false \",st1!=st2)"
   ]
  },
  {
   "cell_type": "code",
   "execution_count": 33,
   "id": "7f3ef1b5-5885-4df3-ae9d-965e47365549",
   "metadata": {},
   "outputs": [
    {
     "data": {
      "text/plain": [
       "False"
      ]
     },
     "execution_count": 33,
     "metadata": {},
     "output_type": "execute_result"
    }
   ],
   "source": [
    "## greater than\n",
    "a=10\n",
    "b=20\n",
    "a>b"
   ]
  },
  {
   "cell_type": "code",
   "execution_count": 34,
   "id": "9a30d6bd-c7a6-41da-a551-c8ec52cc6617",
   "metadata": {},
   "outputs": [
    {
     "data": {
      "text/plain": [
       "True"
      ]
     },
     "execution_count": 34,
     "metadata": {},
     "output_type": "execute_result"
    }
   ],
   "source": [
    "a=10\n",
    "b=30\n",
    "b>a"
   ]
  },
  {
   "cell_type": "code",
   "execution_count": 35,
   "id": "77c4dee2-3114-4547-a950-73b1fdd004c3",
   "metadata": {},
   "outputs": [
    {
     "data": {
      "text/plain": [
       "True"
      ]
     },
     "execution_count": 35,
     "metadata": {},
     "output_type": "execute_result"
    }
   ],
   "source": [
    "## less than\n",
    "a=10\n",
    "b=20\n",
    "a<b"
   ]
  },
  {
   "cell_type": "code",
   "execution_count": 40,
   "id": "56041bb6-30bb-4485-839b-7f7e8708ba74",
   "metadata": {},
   "outputs": [
    {
     "name": "stdout",
     "output_type": "stream",
     "text": [
      "True\n",
      "True\n",
      "False\n",
      "False\n"
     ]
    }
   ],
   "source": [
    "## >=  <=   >  <\n",
    "a=10\n",
    "b=10\n",
    "print(a>=b)\n",
    "print(a<=b)\n",
    "print(a>b)\n",
    "print(a<b)\n"
   ]
  },
  {
   "cell_type": "code",
   "execution_count": 37,
   "id": "1a123dca-3b81-43a0-b716-58b32b8a2a16",
   "metadata": {},
   "outputs": [
    {
     "data": {
      "text/plain": [
       "True"
      ]
     },
     "execution_count": 37,
     "metadata": {},
     "output_type": "execute_result"
    }
   ],
   "source": [
    "a=10\n",
    "b=10\n",
    "a<=b"
   ]
  },
  {
   "cell_type": "code",
   "execution_count": 1,
   "id": "e3fc49c1-6869-4418-9f73-64e83d2cd0bf",
   "metadata": {},
   "outputs": [
    {
     "name": "stdout",
     "output_type": "stream",
     "text": [
      "False\n",
      "True\n",
      "False\n",
      "True\n",
      "<class 'bool'>\n",
      "<class 'bool'>\n"
     ]
    }
   ],
   "source": [
    "## and ,or ,not gate\n",
    "x=False\n",
    "y=True\n",
    "and_result=x and y\n",
    "or_result=x or y\n",
    "print(and_result)\n",
    "print(or_result)\n",
    "print(not y)\n",
    "print(not x)\n",
    "print(type(x))\n",
    "print(type(y))"
   ]
  },
  {
   "cell_type": "code",
   "execution_count": 49,
   "id": "e80ef8fa-da9c-4669-948b-6ba317b4be75",
   "metadata": {},
   "outputs": [
    {
     "data": {
      "text/plain": [
       "False"
      ]
     },
     "execution_count": 49,
     "metadata": {},
     "output_type": "execute_result"
    }
   ],
   "source": [
    "x=True\n",
    "not x"
   ]
  },
  {
   "cell_type": "code",
   "execution_count": 51,
   "id": "6d1238cd-dd85-423d-911d-2492ff291890",
   "metadata": {},
   "outputs": [
    {
     "data": {
      "text/plain": [
       "True"
      ]
     },
     "execution_count": 51,
     "metadata": {},
     "output_type": "execute_result"
    }
   ],
   "source": [
    "x=False\n",
    "not x"
   ]
  },
  {
   "cell_type": "code",
   "execution_count": 11,
   "id": "f44146dc-2f87-4dd9-8765-2567507bec09",
   "metadata": {},
   "outputs": [
    {
     "name": "stdout",
     "output_type": "stream",
     "text": [
      "you are still minur \n"
     ]
    }
   ],
   "source": [
    "## if else condition\n",
    "age=17\n",
    "if age>=18:\n",
    "    print(\"you are allowed to vote in the ellection\")\n",
    "else:\n",
    "    print(\"you are still minur \")"
   ]
  },
  {
   "cell_type": "code",
   "execution_count": 17,
   "id": "2fb2c986-3501-4820-9f2c-6f93e63e4aba",
   "metadata": {},
   "outputs": [
    {
     "name": "stdin",
     "output_type": "stream",
     "text": [
      "enter your age 12\n"
     ]
    },
    {
     "name": "stdout",
     "output_type": "stream",
     "text": [
      "still you are minure you can't vote afther 6 year yu will get a chance\n"
     ]
    }
   ],
   "source": [
    "a=int(input(\"enter your age\"))\n",
    "if a>=18:\n",
    "      print(\"you are elgible to vote\")\n",
    "else:\n",
    "    c=18-a\n",
    "    print(\"still you are minure you can't vote afther\",c,\"year yu will get a chance\")\n"
   ]
  },
  {
   "cell_type": "code",
   "execution_count": 9,
   "id": "633c78c5-017b-45b2-88ed-d63923511965",
   "metadata": {},
   "outputs": [
    {
     "name": "stdin",
     "output_type": "stream",
     "text": [
      "what is your age? 19\n"
     ]
    },
    {
     "name": "stdout",
     "output_type": "stream",
     "text": [
      "you are youth\n"
     ]
    }
   ],
   "source": [
    "## if elif else condition\n",
    "a=int(input(\"what is your age?\"))\n",
    "if a<13:\n",
    "    print(\"you are child\")\n",
    "elif a<18:\n",
    "    print(\"yor are teenager\")\n",
    "elif a<25:\n",
    "    print(\"you are youth\")\n",
    "elif a<60:\n",
    "    print(\"you are adult \")\n",
    "elif a<130:\n",
    "    print(\"you are grandparent\")\n",
    "else:\n",
    "    print(\"menction your proper age\")"
   ]
  },
  {
   "cell_type": "code",
   "execution_count": 11,
   "id": "f1fcd026-aee1-4674-bfb3-0b3a8d968c97",
   "metadata": {},
   "outputs": [
    {
     "name": "stdin",
     "output_type": "stream",
     "text": [
      "enter the number: 51\n"
     ]
    },
    {
     "name": "stdout",
     "output_type": "stream",
     "text": [
      "the number is poisitive\n",
      "the number is odd\n"
     ]
    }
   ],
   "source": [
    "## nested if elif else condition\n",
    "n=int(input(\"enter the number:\"))\n",
    "if n>0:\n",
    "    print(\"the number is poisitive\")\n",
    "    if n%2==0:\n",
    "        print(\"the number is even\")\n",
    "    else:\n",
    "        print(\"the number is odd\")\n",
    "elif n==0:\n",
    "    print(\"the number is zero\")\n",
    "else :\n",
    "    print(\"the number is negitive\")\n",
    "    \n",
    "           "
   ]
  },
  {
   "cell_type": "code",
   "execution_count": 5,
   "id": "30d8e716-c898-4903-b6ed-356078239fb3",
   "metadata": {},
   "outputs": [
    {
     "name": "stdin",
     "output_type": "stream",
     "text": [
      "enter the first number 70\n",
      "entr the second number 9\n",
      "enter the operation(+,-,*,/,//,%): //\n"
     ]
    },
    {
     "name": "stdout",
     "output_type": "stream",
     "text": [
      "result: 7.0\n",
      "<class 'float'>\n"
     ]
    }
   ],
   "source": [
    "## claculator using if elif else \n",
    "n1=float(input(\"enter the first number\"))\n",
    "n2=float(input(\"entr the second number\"))\n",
    "ch=input(\"enter the operation(+,-,*,/,//,%):\")\n",
    "if ch =='+':\n",
    "    rs=n1+n2\n",
    "elif ch =='-':\n",
    "    rs=n1-n2\n",
    "elif ch =='*':\n",
    "    rs=n1*n2\n",
    "elif ch =='/':\n",
    "    rs=n1/n2\n",
    "elif ch=='//':\n",
    "    rs=n1//n2\n",
    "elif ch =='%':\n",
    "    rs=n1%n2\n",
    "else:\n",
    "    print(\"invalid option\")\n",
    "print(\"result:\",rs)\n",
    "print(type(rs))"
   ]
  },
  {
   "cell_type": "code",
   "execution_count": 18,
   "id": "9a05f3f0-0063-4fad-9459-4df74f6ceab0",
   "metadata": {},
   "outputs": [
    {
     "name": "stdin",
     "output_type": "stream",
     "text": [
      "enter your age 19\n",
      "are you a student?(yes/no): y\n"
     ]
    },
    {
     "name": "stdout",
     "output_type": "stream",
     "text": [
      "ticket price: $12\n"
     ]
    }
   ],
   "source": [
    "## ticket price printing based on age\n",
    "age=int(input(\"enter your age\"))\n",
    "is_student=input(\"are you a student?(yes/no):\").lower() \n",
    "if age<5:\n",
    "    price=\"free\"\n",
    "elif age<=15:\n",
    "    price=\"$8\"\n",
    "elif age<=22:\n",
    "    if is_student == 'y':\n",
    "        price=\"$12\"\n",
    "    else:\n",
    "        price=\"$15\"\n",
    "elif age<=70:\n",
    "    price=\"$20\"\n",
    "else:\n",
    "    price =\"$16\"\n",
    "print(\"ticket price:\",price)\n"
   ]
  },
  {
   "cell_type": "code",
   "execution_count": 121,
   "id": "293dffcc-c141-4444-8225-64b02be2b2d5",
   "metadata": {},
   "outputs": [
    {
     "name": "stdout",
     "output_type": "stream",
     "text": [
      "PREETHAM REDDY\n"
     ]
    }
   ],
   "source": [
    "## uppercase\n",
    "a=\"preetham reddy\"\n",
    "print(a.upper())"
   ]
  },
  {
   "cell_type": "code",
   "execution_count": 122,
   "id": "1d32a0a5-07dd-48d7-b197-c9f6c3384fd8",
   "metadata": {},
   "outputs": [
    {
     "name": "stdout",
     "output_type": "stream",
     "text": [
      "A PREETHAM REDDY\n"
     ]
    }
   ],
   "source": [
    "## uppercase\n",
    "a=\"A PREETHAM REDDY\"\n",
    "print(a.upper())"
   ]
  },
  {
   "cell_type": "code",
   "execution_count": 126,
   "id": "14f43a53-2692-4080-9747-028373bf928b",
   "metadata": {},
   "outputs": [
    {
     "data": {
      "text/plain": [
       "range(0, 90)"
      ]
     },
     "execution_count": 126,
     "metadata": {},
     "output_type": "execute_result"
    }
   ],
   "source": [
    "range(90)"
   ]
  },
  {
   "cell_type": "code",
   "execution_count": 127,
   "id": "cc652d02-6459-49a6-8f45-86fcd22adcd3",
   "metadata": {},
   "outputs": [
    {
     "name": "stdout",
     "output_type": "stream",
     "text": [
      "0\n",
      "1\n",
      "2\n",
      "3\n",
      "4\n",
      "5\n",
      "6\n",
      "7\n",
      "8\n",
      "9\n"
     ]
    }
   ],
   "source": [
    "## for loop\n",
    "for i in range(10):\n",
    "    print(i)"
   ]
  },
  {
   "cell_type": "code",
   "execution_count": 128,
   "id": "eef192cb-2906-4547-844a-723501f99127",
   "metadata": {},
   "outputs": [
    {
     "name": "stdout",
     "output_type": "stream",
     "text": [
      "2\n",
      "3\n",
      "4\n",
      "5\n",
      "6\n",
      "7\n",
      "8\n",
      "9\n"
     ]
    }
   ],
   "source": [
    "for i in range(2,10):\n",
    "    print(i)"
   ]
  },
  {
   "cell_type": "code",
   "execution_count": 130,
   "id": "05bedd95-8701-4b19-bf22-6e3d5863b26f",
   "metadata": {},
   "outputs": [
    {
     "data": {
      "text/plain": [
       "range(1, 10, 2)"
      ]
     },
     "execution_count": 130,
     "metadata": {},
     "output_type": "execute_result"
    }
   ],
   "source": [
    "range(1,10,2)"
   ]
  },
  {
   "cell_type": "code",
   "execution_count": 138,
   "id": "cfdd3049-fa06-4ac0-843a-ff9d61b01bf2",
   "metadata": {},
   "outputs": [
    {
     "name": "stdout",
     "output_type": "stream",
     "text": [
      "1\n",
      "4\n",
      "7\n"
     ]
    }
   ],
   "source": [
    "for i in range(1,10,3):\n",
    "    print(i)"
   ]
  },
  {
   "cell_type": "code",
   "execution_count": 139,
   "id": "bbdab658-ce8c-45e9-8c48-a233db463f2d",
   "metadata": {},
   "outputs": [
    {
     "name": "stdout",
     "output_type": "stream",
     "text": [
      "1\n",
      "2\n",
      "3\n",
      "4\n"
     ]
    }
   ],
   "source": [
    "for i in range(1,5):\n",
    "    print(i)"
   ]
  },
  {
   "cell_type": "code",
   "execution_count": 11,
   "id": "0a86f00a-2f04-49a6-9565-e16235c9d853",
   "metadata": {},
   "outputs": [
    {
     "name": "stdout",
     "output_type": "stream",
     "text": [
      "0\n",
      "4\n",
      "8\n",
      "12\n",
      "16\n",
      "20\n",
      "24\n",
      "28\n",
      "32\n",
      "36\n",
      "40\n"
     ]
    }
   ],
   "source": [
    "for i in range(0,41,4):\n",
    "    print(i)"
   ]
  },
  {
   "cell_type": "code",
   "execution_count": 15,
   "id": "85781cbc-051a-4c04-8784-1f7b3e3ccb13",
   "metadata": {},
   "outputs": [
    {
     "name": "stdout",
     "output_type": "stream",
     "text": [
      "10\n",
      "8\n",
      "6\n",
      "4\n",
      "2\n"
     ]
    }
   ],
   "source": [
    "for i in range(10,1,-2):\n",
    "    print(i)"
   ]
  },
  {
   "cell_type": "code",
   "execution_count": 18,
   "id": "000b9417-cc01-48c9-87c7-7dd292f666c6",
   "metadata": {},
   "outputs": [
    {
     "name": "stdout",
     "output_type": "stream",
     "text": [
      "p\n",
      "r\n",
      "e\n",
      "e\n",
      "t\n",
      "h\n",
      "a\n",
      "m\n",
      " \n",
      " \n",
      " \n",
      " \n",
      "r\n",
      "e\n",
      "d\n",
      "d\n",
      "y\n"
     ]
    }
   ],
   "source": [
    "str=\"preetham    reddy\"\n",
    "for i in str:\n",
    "    print(i)\n"
   ]
  },
  {
   "cell_type": "code",
   "execution_count": 1,
   "id": "b376df2f-9924-449c-bb9c-55cd482db9cf",
   "metadata": {},
   "outputs": [
    {
     "name": "stdout",
     "output_type": "stream",
     "text": [
      "0\n",
      "1\n",
      "2\n",
      "3\n",
      "4\n",
      "5\n"
     ]
    }
   ],
   "source": [
    "## while loop\n",
    "count=0\n",
    "while count<6:\n",
    "    print(count)\n",
    "    count=count+1"
   ]
  }
 ],
 "metadata": {
  "kernelspec": {
   "display_name": "Python 3 (ipykernel)",
   "language": "python",
   "name": "python3"
  },
  "language_info": {
   "codemirror_mode": {
    "name": "ipython",
    "version": 3
   },
   "file_extension": ".py",
   "mimetype": "text/x-python",
   "name": "python",
   "nbconvert_exporter": "python",
   "pygments_lexer": "ipython3",
   "version": "3.13.0"
  }
 },
 "nbformat": 4,
 "nbformat_minor": 5
}
