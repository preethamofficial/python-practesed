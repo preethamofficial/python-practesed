{
 "cells": [
  {
   "cell_type": "code",
   "execution_count": 1,
   "id": "69536f22-0cda-4aa2-bcc7-d0d64d98052d",
   "metadata": {},
   "outputs": [],
   "source": [
    "def fun1(n):\n",
    "    return [str(num) for num in range(n)]"
   ]
  },
  {
   "cell_type": "code",
   "execution_count": 2,
   "id": "208510f7-4ac8-47b1-83c7-fac35a1fdc80",
   "metadata": {},
   "outputs": [
    {
     "data": {
      "text/plain": [
       "['0', '1', '2', '3', '4', '5', '6', '7', '8', '9']"
      ]
     },
     "execution_count": 2,
     "metadata": {},
     "output_type": "execute_result"
    }
   ],
   "source": [
    "fun1(10)"
   ]
  },
  {
   "cell_type": "code",
   "execution_count": 3,
   "id": "c5e20554-c367-4f6d-a1aa-bd74f8206e41",
   "metadata": {},
   "outputs": [],
   "source": [
    "def fun2(n):\n",
    "    return list(map(str,range(n)))"
   ]
  },
  {
   "cell_type": "code",
   "execution_count": 4,
   "id": "90353a1e-a131-45e4-b897-f449199a31b9",
   "metadata": {},
   "outputs": [
    {
     "data": {
      "text/plain": [
       "['0', '1', '2', '3', '4', '5', '6', '7', '8', '9']"
      ]
     },
     "execution_count": 4,
     "metadata": {},
     "output_type": "execute_result"
    }
   ],
   "source": [
    "fun2(10)"
   ]
  },
  {
   "cell_type": "code",
   "execution_count": 5,
   "id": "d65189ba-54cf-4935-b536-9152bbbda148",
   "metadata": {},
   "outputs": [],
   "source": [
    "import time"
   ]
  },
  {
   "cell_type": "code",
   "execution_count": 6,
   "id": "aee0362c-4113-4a27-9f3e-1727c0d1a6f6",
   "metadata": {},
   "outputs": [
    {
     "name": "stdout",
     "output_type": "stream",
     "text": [
      "0.003377676010131836\n"
     ]
    }
   ],
   "source": [
    "start=time.time()\n",
    "result=fun1(10000)\n",
    "end=time.time()\n",
    "fineal=end-start\n",
    "print(fineal)"
   ]
  },
  {
   "cell_type": "code",
   "execution_count": 7,
   "id": "83c32c67-4091-4af7-9f3e-0863fa55d201",
   "metadata": {},
   "outputs": [
    {
     "name": "stdout",
     "output_type": "stream",
     "text": [
      "0.0028645992279052734\n"
     ]
    }
   ],
   "source": [
    "start=time.time()\n",
    "result=fun2(10000)\n",
    "end=time.time()\n",
    "fineal=end-start\n",
    "print(fineal)"
   ]
  },
  {
   "cell_type": "code",
   "execution_count": 8,
   "id": "8bf7d6ae-edc8-4e42-888b-09fe16b5a34f",
   "metadata": {},
   "outputs": [],
   "source": [
    "import timeit"
   ]
  },
  {
   "cell_type": "code",
   "execution_count": 12,
   "id": "0585fcc2-04a3-42ec-bb64-0f53e6b4d224",
   "metadata": {},
   "outputs": [],
   "source": [
    "stmt='''\n",
    "fun1(10)\n",
    "'''"
   ]
  },
  {
   "cell_type": "code",
   "execution_count": 15,
   "id": "acbd953b-d1ee-4b17-a8d9-50223bfa1f2b",
   "metadata": {},
   "outputs": [],
   "source": [
    "setup='''\n",
    "def fun1(n):\n",
    "    return [str(num) for num in range(n)]\n",
    "'''"
   ]
  },
  {
   "cell_type": "code",
   "execution_count": 16,
   "id": "cd8a29c6-cc96-419a-a295-0c05e73357ef",
   "metadata": {},
   "outputs": [
    {
     "data": {
      "text/plain": [
       "0.07565449993126094"
      ]
     },
     "execution_count": 16,
     "metadata": {},
     "output_type": "execute_result"
    }
   ],
   "source": [
    "timeit.timeit(stmt,setup,number=10000)"
   ]
  },
  {
   "cell_type": "code",
   "execution_count": 20,
   "id": "ef3b8635-a9f1-4783-83cd-811322d796e8",
   "metadata": {},
   "outputs": [],
   "source": [
    "stmt2='''\n",
    "fun2(10)\n",
    "'''"
   ]
  },
  {
   "cell_type": "code",
   "execution_count": 21,
   "id": "325dfc71-760d-48f9-a637-77d24e70d4c4",
   "metadata": {},
   "outputs": [],
   "source": [
    "setup2='''\n",
    "def fun2(n):\n",
    "    return list(map(str,range(n)))\n",
    "'''"
   ]
  },
  {
   "cell_type": "code",
   "execution_count": 22,
   "id": "3dda2d02-59c1-4a2b-9f91-c252c986855f",
   "metadata": {},
   "outputs": [
    {
     "data": {
      "text/plain": [
       "0.03466390003450215"
      ]
     },
     "execution_count": 22,
     "metadata": {},
     "output_type": "execute_result"
    }
   ],
   "source": [
    "timeit.timeit(stmt2,setup2,number=10000)"
   ]
  },
  {
   "cell_type": "code",
   "execution_count": 23,
   "id": "71fb9548-f868-4ca4-884b-e77ad94f5e88",
   "metadata": {},
   "outputs": [
    {
     "name": "stdout",
     "output_type": "stream",
     "text": [
      "26 μs ± 1.63 μs per loop (mean ± std. dev. of 7 runs, 10,000 loops each)\n"
     ]
    }
   ],
   "source": [
    "%%timeit\n",
    "fun1(100)"
   ]
  },
  {
   "cell_type": "code",
   "execution_count": 24,
   "id": "601f5f87-2363-4e39-9b0a-8acecfbdd5d8",
   "metadata": {},
   "outputs": [
    {
     "name": "stdout",
     "output_type": "stream",
     "text": [
      "21.1 μs ± 2.57 μs per loop (mean ± std. dev. of 7 runs, 10,000 loops each)\n"
     ]
    }
   ],
   "source": [
    "%%timeit\n",
    "fun2(100)"
   ]
  },
  {
   "cell_type": "code",
   "execution_count": null,
   "id": "7ded07c3-ada8-4b26-bfef-0897bf53e21a",
   "metadata": {},
   "outputs": [],
   "source": []
  }
 ],
 "metadata": {
  "kernelspec": {
   "display_name": "Python 3 (ipykernel)",
   "language": "python",
   "name": "python3"
  },
  "language_info": {
   "codemirror_mode": {
    "name": "ipython",
    "version": 3
   },
   "file_extension": ".py",
   "mimetype": "text/x-python",
   "name": "python",
   "nbconvert_exporter": "python",
   "pygments_lexer": "ipython3",
   "version": "3.13.0"
  }
 },
 "nbformat": 4,
 "nbformat_minor": 5
}
