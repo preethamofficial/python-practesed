{
 "cells": [
  {
   "cell_type": "code",
   "execution_count": 3,
   "id": "2add82b3-7578-4bd7-ade8-da1a37634a30",
   "metadata": {},
   "outputs": [
    {
     "name": "stdout",
     "output_type": "stream",
     "text": [
      "()\n"
     ]
    },
    {
     "data": {
      "text/plain": [
       "tuple"
      ]
     },
     "execution_count": 3,
     "metadata": {},
     "output_type": "execute_result"
    }
   ],
   "source": [
    "## tuple\n",
    "emp_tuple=()\n",
    "print(emp_tuple)\n",
    "type(emp_tuple)"
   ]
  },
  {
   "cell_type": "code",
   "execution_count": 4,
   "id": "d7f31ec0-268e-46d1-8b84-5df29e63d997",
   "metadata": {},
   "outputs": [
    {
     "name": "stdout",
     "output_type": "stream",
     "text": [
      "<class 'list'>\n",
      "<class 'tuple'>\n"
     ]
    }
   ],
   "source": [
    "## dsifference between list and tuple\n",
    "lst=list()\n",
    "print(type(lst))\n",
    "tpl=tuple()\n",
    "print(type(tpl))"
   ]
  },
  {
   "cell_type": "code",
   "execution_count": 7,
   "id": "8fa3e72d-bbba-4a0c-a589-9756dbc27eed",
   "metadata": {},
   "outputs": [
    {
     "name": "stdout",
     "output_type": "stream",
     "text": [
      "(1, 2, 3, 4, 6, 5)\n"
     ]
    },
    {
     "data": {
      "text/plain": [
       "tuple"
      ]
     },
     "execution_count": 7,
     "metadata": {},
     "output_type": "execute_result"
    }
   ],
   "source": [
    "numbers=tuple([1,2,3,4,6,5])\n",
    "print(numbers)\n",
    "type(numbers)"
   ]
  },
  {
   "cell_type": "code",
   "execution_count": 8,
   "id": "f2a58483-56ed-4c28-ba15-781df01e3e5b",
   "metadata": {},
   "outputs": [
    {
     "data": {
      "text/plain": [
       "(1, 2, 3, 4, 6, 5)"
      ]
     },
     "execution_count": 8,
     "metadata": {},
     "output_type": "execute_result"
    }
   ],
   "source": [
    "tuple([1,2,3,4,6,5])"
   ]
  },
  {
   "cell_type": "code",
   "execution_count": 11,
   "id": "78b3e846-bfe2-4fee-bf72-a4edef7671ad",
   "metadata": {},
   "outputs": [
    {
     "data": {
      "text/plain": [
       "[1, 2, 3, 4, 6, 5]"
      ]
     },
     "execution_count": 11,
     "metadata": {},
     "output_type": "execute_result"
    }
   ],
   "source": [
    "list((1,2,3,4,6,5))"
   ]
  },
  {
   "cell_type": "code",
   "execution_count": 15,
   "id": "b72e9222-6942-4570-996d-781ed1fb5563",
   "metadata": {},
   "outputs": [
    {
     "name": "stdout",
     "output_type": "stream",
     "text": [
      "(1, 'pretham', 3.6, True)\n"
     ]
    }
   ],
   "source": [
    "## print mixed tuple \n",
    "mx_tp=(1,\"pretham\",3.6,True)\n",
    "print(mx_tp)"
   ]
  },
  {
   "cell_type": "code",
   "execution_count": 16,
   "id": "97bdbe4e-e41c-49de-9e27-8fdc3d15e957",
   "metadata": {},
   "outputs": [
    {
     "data": {
      "text/plain": [
       "(1, 2, 3, 4, 6, 5)"
      ]
     },
     "execution_count": 16,
     "metadata": {},
     "output_type": "execute_result"
    }
   ],
   "source": [
    "numbers"
   ]
  },
  {
   "cell_type": "code",
   "execution_count": 19,
   "id": "73f831d2-1aa6-492f-b855-3b0b469a18e2",
   "metadata": {},
   "outputs": [
    {
     "data": {
      "text/plain": [
       "4"
      ]
     },
     "execution_count": 19,
     "metadata": {},
     "output_type": "execute_result"
    }
   ],
   "source": [
    "numbers[3]"
   ]
  },
  {
   "cell_type": "code",
   "execution_count": 20,
   "id": "03d94c94-e398-412a-8801-f62766c01393",
   "metadata": {},
   "outputs": [
    {
     "data": {
      "text/plain": [
       "6"
      ]
     },
     "execution_count": 20,
     "metadata": {},
     "output_type": "execute_result"
    }
   ],
   "source": [
    "numbers[-2]"
   ]
  },
  {
   "cell_type": "code",
   "execution_count": 21,
   "id": "aaa15fbc-aab0-4847-bcbe-7889843a5ae0",
   "metadata": {},
   "outputs": [
    {
     "data": {
      "text/plain": [
       "(1, 2)"
      ]
     },
     "execution_count": 21,
     "metadata": {},
     "output_type": "execute_result"
    }
   ],
   "source": [
    "numbers[:2]"
   ]
  },
  {
   "cell_type": "code",
   "execution_count": 22,
   "id": "912b9406-c68f-4984-99dd-7f279299754c",
   "metadata": {},
   "outputs": [
    {
     "data": {
      "text/plain": [
       "(3, 4, 6, 5)"
      ]
     },
     "execution_count": 22,
     "metadata": {},
     "output_type": "execute_result"
    }
   ],
   "source": [
    "numbers[2:]"
   ]
  },
  {
   "cell_type": "code",
   "execution_count": 23,
   "id": "4562771a-68f4-4da3-b4b4-3df888f5f9cd",
   "metadata": {},
   "outputs": [
    {
     "data": {
      "text/plain": [
       "(1, 2, 3, 4, 6, 5, 1, 'pretham', 3.6, True)"
      ]
     },
     "execution_count": 23,
     "metadata": {},
     "output_type": "execute_result"
    }
   ],
   "source": [
    "numbers+mx_tp"
   ]
  },
  {
   "cell_type": "code",
   "execution_count": 24,
   "id": "0d22e4eb-2f03-4b17-adec-9a561b1d851e",
   "metadata": {},
   "outputs": [
    {
     "data": {
      "text/plain": [
       "(1, 'pretham', 3.6, True, 1, 2, 3, 4, 6, 5)"
      ]
     },
     "execution_count": 24,
     "metadata": {},
     "output_type": "execute_result"
    }
   ],
   "source": [
    "mx_tp+numbers"
   ]
  },
  {
   "cell_type": "code",
   "execution_count": 29,
   "id": "f80f394f-1a22-4c36-a9f8-44c9495b6446",
   "metadata": {},
   "outputs": [
    {
     "data": {
      "text/plain": [
       "(1,\n",
       " 'pretham',\n",
       " 3.6,\n",
       " True,\n",
       " 1,\n",
       " 'pretham',\n",
       " 3.6,\n",
       " True,\n",
       " 1,\n",
       " 'pretham',\n",
       " 3.6,\n",
       " True,\n",
       " 1,\n",
       " 'pretham',\n",
       " 3.6,\n",
       " True)"
      ]
     },
     "execution_count": 29,
     "metadata": {},
     "output_type": "execute_result"
    }
   ],
   "source": [
    "mx_tp *4"
   ]
  },
  {
   "cell_type": "code",
   "execution_count": 30,
   "id": "9cd5d068-3313-4fb8-abb9-7c74b030b3e2",
   "metadata": {},
   "outputs": [
    {
     "data": {
      "text/plain": [
       "(1, 2, 3, 4, 6, 5, 1, 2, 3, 4, 6, 5, 1, 2, 3, 4, 6, 5)"
      ]
     },
     "execution_count": 30,
     "metadata": {},
     "output_type": "execute_result"
    }
   ],
   "source": [
    "numbers *3"
   ]
  },
  {
   "cell_type": "code",
   "execution_count": 31,
   "id": "79fc1b77-575d-47d7-8291-0722b3ec5f4a",
   "metadata": {},
   "outputs": [
    {
     "name": "stdout",
     "output_type": "stream",
     "text": [
      "[1, 2, 3, 4, 5]\n",
      "[1, 'preetham', 3, 4, 5]\n"
     ]
    }
   ],
   "source": [
    "## list are mutable\n",
    "lst=[1,2,3,4,5]\n",
    "print(lst)\n",
    "lst[1]=\"preetham\"\n",
    "print(lst)"
   ]
  },
  {
   "cell_type": "code",
   "execution_count": 32,
   "id": "cbdf3550-e6d4-4220-99c4-4d773a2d753d",
   "metadata": {},
   "outputs": [
    {
     "data": {
      "text/plain": [
       "(1, 2, 3, 4, 6, 5)"
      ]
     },
     "execution_count": 32,
     "metadata": {},
     "output_type": "execute_result"
    }
   ],
   "source": [
    "numbers"
   ]
  },
  {
   "cell_type": "code",
   "execution_count": 35,
   "id": "067df3f6-ff30-4663-827d-50698a819180",
   "metadata": {},
   "outputs": [
    {
     "ename": "TypeError",
     "evalue": "'tuple' object does not support item assignment",
     "output_type": "error",
     "traceback": [
      "\u001b[1;31m---------------------------------------------------------------------------\u001b[0m",
      "\u001b[1;31mTypeError\u001b[0m                                 Traceback (most recent call last)",
      "Cell \u001b[1;32mIn[35], line 2\u001b[0m\n\u001b[0;32m      1\u001b[0m \u001b[38;5;66;03m## in tuples are immutable so we get an error (because tuples are immutable)\u001b[39;00m\n\u001b[1;32m----> 2\u001b[0m \u001b[43mnumbers\u001b[49m\u001b[43m[\u001b[49m\u001b[38;5;241;43m2\u001b[39;49m\u001b[43m]\u001b[49m\u001b[38;5;241m=\u001b[39m\u001b[38;5;241m2\u001b[39m\n\u001b[0;32m      3\u001b[0m \u001b[38;5;28mprint\u001b[39m(numbers)\n",
      "\u001b[1;31mTypeError\u001b[0m: 'tuple' object does not support item assignment"
     ]
    }
   ],
   "source": [
    "## in tuples are immutable so we get an error (because tuples are immutable)\n",
    "numbers[2]=2\n",
    "print(numbers)"
   ]
  },
  {
   "cell_type": "code",
   "execution_count": 37,
   "id": "b6b2f720-9a78-40bb-abdd-37dfcf1d634a",
   "metadata": {},
   "outputs": [
    {
     "name": "stdout",
     "output_type": "stream",
     "text": [
      "1\n"
     ]
    }
   ],
   "source": [
    "## count how many times it repeated\n",
    "print(numbers.count(1))"
   ]
  },
  {
   "cell_type": "code",
   "execution_count": 41,
   "id": "db02bf26-aef7-417e-9af2-d8bfa9695472",
   "metadata": {},
   "outputs": [
    {
     "data": {
      "text/plain": [
       "(1, 2, 3, 4, 6, 5)"
      ]
     },
     "execution_count": 41,
     "metadata": {},
     "output_type": "execute_result"
    }
   ],
   "source": [
    "numbers"
   ]
  },
  {
   "cell_type": "code",
   "execution_count": 42,
   "id": "77ffa0ca-8699-4c11-9190-317b435fad9d",
   "metadata": {},
   "outputs": [
    {
     "name": "stdout",
     "output_type": "stream",
     "text": [
      "4\n"
     ]
    }
   ],
   "source": [
    "## menction index positon of tuple\n",
    "print(numbers.index(6))"
   ]
  },
  {
   "cell_type": "code",
   "execution_count": 44,
   "id": "ca9bde5b-d5be-467d-88bb-a250e6e91667",
   "metadata": {},
   "outputs": [
    {
     "name": "stdout",
     "output_type": "stream",
     "text": [
      "(1, 'preetham', 3.53)\n",
      "1\n",
      "3.53\n",
      "preetham\n"
     ]
    }
   ],
   "source": [
    "## packed and unpacked tuple\n",
    "pc_tp=1,\"preetham\",3.53  ##packed\n",
    "print(pc_tp)\n",
    "a,b,c=pc_tp  ## unpacked\n",
    "print(a)\n",
    "print(c)\n",
    "print(b)"
   ]
  },
  {
   "cell_type": "code",
   "execution_count": 45,
   "id": "ff1a2e6f-9eba-48da-8392-08e3335f8047",
   "metadata": {},
   "outputs": [
    {
     "data": {
      "text/plain": [
       "(1, 2, 3, 4, 6, 5)"
      ]
     },
     "execution_count": 45,
     "metadata": {},
     "output_type": "execute_result"
    }
   ],
   "source": [
    "numbers\n"
   ]
  },
  {
   "cell_type": "code",
   "execution_count": 51,
   "id": "0acfa8b0-5ad4-4081-b48a-5c5e4a12fe9c",
   "metadata": {},
   "outputs": [
    {
     "name": "stdout",
     "output_type": "stream",
     "text": [
      "5\n",
      "2 3 4 6\n",
      "1\n"
     ]
    }
   ],
   "source": [
    "first,*mid,last=numbers\n",
    "print(last)\n",
    "print(*mid)\n",
    "print(first)"
   ]
  },
  {
   "cell_type": "code",
   "execution_count": 61,
   "id": "87e768bb-94d1-4f2e-9136-965eae3f841b",
   "metadata": {},
   "outputs": [
    {
     "name": "stdout",
     "output_type": "stream",
     "text": [
      "[[1, 2.8, 'helo'], [3.8, 'preeetham', 5], [5.9, 6, 'reddy'], [7.8, 8, 'kalki']]\n",
      "[3.8, 'preeetham', 5]\n",
      "preeetham\n"
     ]
    }
   ],
   "source": [
    "## nested list\n",
    "lst=[[1,2.8,\"helo\"],[3.8,\"preeetham\",5],[5.9,6,\"reddy\"],[7.8,8,\"kalki\"]]\n",
    "print(lst)\n",
    "print(lst[1])\n",
    "print(lst[1][1])"
   ]
  },
  {
   "cell_type": "code",
   "execution_count": 58,
   "id": "b54e6aed-3a57-4433-92f3-9d0649cf3ddc",
   "metadata": {},
   "outputs": [
    {
     "data": {
      "text/plain": [
       "(1, 2, 3, 4, 6, 5)"
      ]
     },
     "execution_count": 58,
     "metadata": {},
     "output_type": "execute_result"
    }
   ],
   "source": [
    "numbers"
   ]
  },
  {
   "cell_type": "code",
   "execution_count": 67,
   "id": "8239dfc8-6eea-4646-9b22-2e5995cf3fb5",
   "metadata": {},
   "outputs": [
    {
     "name": "stdout",
     "output_type": "stream",
     "text": [
      "((2, 3.4, 'kill'), (5.6, 'virat'), ('punny', 7.8, 7), ('preetham', 'reddy'))\n",
      "(5.6, 'virat')\n",
      "preetham\n"
     ]
    }
   ],
   "source": [
    "## nested tuple\n",
    "num=((2,3.4,\"kill\"),(5.6,\"virat\"),(\"punny\",7.8,7),(\"preetham\",\"reddy\",))\n",
    "print(num)\n",
    "print(num[1])\n",
    "print(num[3][0])"
   ]
  },
  {
   "cell_type": "code",
   "execution_count": 69,
   "id": "4a240374-5845-413d-978a-a52d587f437b",
   "metadata": {},
   "outputs": [
    {
     "name": "stdout",
     "output_type": "stream",
     "text": [
      "2 3.4 kill \n",
      "5.6 virat \n",
      "punny 7.8 7 \n",
      "preetham reddy \n"
     ]
    }
   ],
   "source": [
    "for sub_tp in num:\n",
    "    for item in sub_tp:\n",
    "        print(item,end=\" \")\n",
    "    print()"
   ]
  },
  {
   "cell_type": "code",
   "execution_count": null,
   "id": "40ecb471-cda0-4ee3-9582-3bd951d8ba1d",
   "metadata": {},
   "outputs": [],
   "source": []
  }
 ],
 "metadata": {
  "kernelspec": {
   "display_name": "Python 3 (ipykernel)",
   "language": "python",
   "name": "python3"
  },
  "language_info": {
   "codemirror_mode": {
    "name": "ipython",
    "version": 3
   },
   "file_extension": ".py",
   "mimetype": "text/x-python",
   "name": "python",
   "nbconvert_exporter": "python",
   "pygments_lexer": "ipython3",
   "version": "3.13.0"
  }
 },
 "nbformat": 4,
 "nbformat_minor": 5
}
