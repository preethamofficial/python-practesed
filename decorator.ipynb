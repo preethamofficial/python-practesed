{
 "cells": [
  {
   "cell_type": "code",
   "execution_count": 1,
   "id": "c700ebfb-149f-4371-a8eb-61c511d777d4",
   "metadata": {},
   "outputs": [],
   "source": [
    "def func():\n",
    "    return 1"
   ]
  },
  {
   "cell_type": "code",
   "execution_count": 2,
   "id": "03a5ca45-f639-444d-a617-ae9c3e5a5b5e",
   "metadata": {},
   "outputs": [
    {
     "data": {
      "text/plain": [
       "1"
      ]
     },
     "execution_count": 2,
     "metadata": {},
     "output_type": "execute_result"
    }
   ],
   "source": [
    "func()"
   ]
  },
  {
   "cell_type": "code",
   "execution_count": 3,
   "id": "c893ffbe-3fb6-4616-99eb-0fedbca68abf",
   "metadata": {},
   "outputs": [
    {
     "data": {
      "text/plain": [
       "<function __main__.func()>"
      ]
     },
     "execution_count": 3,
     "metadata": {},
     "output_type": "execute_result"
    }
   ],
   "source": [
    "func"
   ]
  },
  {
   "cell_type": "code",
   "execution_count": 4,
   "id": "4f2abb34-3000-4576-b145-06b9c76e9638",
   "metadata": {},
   "outputs": [],
   "source": [
    "def hello(name='preetham'):\n",
    "    print('the hello function has been exiguted')\n",
    "\n",
    "    def greet():\n",
    "        return 'this is greet'\n",
    "    def welcome():\n",
    "        return 'this is welcome'\n",
    "    print(\"i am going to return function\")\n",
    "    if name=='preetham':\n",
    "        return greet\n",
    "    else:\n",
    "        return welcome"
   ]
  },
  {
   "cell_type": "code",
   "execution_count": 5,
   "id": "8673a989-b771-4858-8eb1-d22284e67bbe",
   "metadata": {},
   "outputs": [
    {
     "name": "stdout",
     "output_type": "stream",
     "text": [
      "the hello function has been exiguted\n",
      "i am going to return function\n"
     ]
    }
   ],
   "source": [
    "my_self=hello('preetham')"
   ]
  },
  {
   "cell_type": "code",
   "execution_count": 6,
   "id": "f10db21a-57a9-42e6-91ff-3e591f047f4e",
   "metadata": {},
   "outputs": [
    {
     "data": {
      "text/plain": [
       "'this is greet'"
      ]
     },
     "execution_count": 6,
     "metadata": {},
     "output_type": "execute_result"
    }
   ],
   "source": [
    "my_self()"
   ]
  },
  {
   "cell_type": "code",
   "execution_count": 7,
   "id": "eadd210b-3f98-4820-842b-b4b03e07b82b",
   "metadata": {},
   "outputs": [
    {
     "name": "stdout",
     "output_type": "stream",
     "text": [
      "the hello function has been exiguted\n",
      "i am going to return function\n"
     ]
    }
   ],
   "source": [
    "new_self=hello('rakshith')"
   ]
  },
  {
   "cell_type": "code",
   "execution_count": 8,
   "id": "684d34ba-6e50-4b35-87db-6a3fe25bbd36",
   "metadata": {},
   "outputs": [
    {
     "data": {
      "text/plain": [
       "'this is welcome'"
      ]
     },
     "execution_count": 8,
     "metadata": {},
     "output_type": "execute_result"
    }
   ],
   "source": [
    "new_self()"
   ]
  },
  {
   "cell_type": "code",
   "execution_count": 11,
   "id": "0bb3a2f9-2214-495b-ac65-7926ae38c69c",
   "metadata": {},
   "outputs": [],
   "source": [
    "def name():\n",
    "    return 'preetham'"
   ]
  },
  {
   "cell_type": "code",
   "execution_count": 3,
   "id": "ed1453ae-de32-472b-aef2-2a784ee85bb1",
   "metadata": {},
   "outputs": [],
   "source": [
    "def other(def_func):\n",
    "    print(\"my name is\")\n",
    "    print(def_func())"
   ]
  },
  {
   "cell_type": "code",
   "execution_count": 4,
   "id": "584e8a5a-5296-460f-b86b-427891eb0c88",
   "metadata": {},
   "outputs": [
    {
     "data": {
      "text/plain": [
       "<function __main__.other(def_func)>"
      ]
     },
     "execution_count": 4,
     "metadata": {},
     "output_type": "execute_result"
    }
   ],
   "source": [
    "other"
   ]
  },
  {
   "cell_type": "code",
   "execution_count": 5,
   "id": "c1acd7d2-a964-4a61-8277-8e256d3e465c",
   "metadata": {},
   "outputs": [],
   "source": [
    "new_decorate=other"
   ]
  },
  {
   "cell_type": "code",
   "execution_count": 6,
   "id": "57536c7f-6683-42e1-b56b-bbb73bedce49",
   "metadata": {},
   "outputs": [
    {
     "name": "stdout",
     "output_type": "stream",
     "text": [
      "my name is\n",
      "want to decorate\n",
      "None\n"
     ]
    }
   ],
   "source": [
    "@new_decorate\n",
    "def new():\n",
    "    print(\"want to decorate\")"
   ]
  },
  {
   "cell_type": "code",
   "execution_count": null,
   "id": "d8ee87bc-ebbe-408e-848f-2385d34b273f",
   "metadata": {},
   "outputs": [],
   "source": []
  },
  {
   "cell_type": "code",
   "execution_count": 16,
   "id": "f8b99202-11f5-447e-a4fc-d728679c74f1",
   "metadata": {},
   "outputs": [
    {
     "name": "stdout",
     "output_type": "stream",
     "text": [
      "my name is\n",
      "preetham\n"
     ]
    }
   ],
   "source": [
    "other(name)"
   ]
  },
  {
   "cell_type": "code",
   "execution_count": null,
   "id": "95005eea-6936-4e6b-8c88-c99d0d72aa22",
   "metadata": {},
   "outputs": [],
   "source": []
  }
 ],
 "metadata": {
  "kernelspec": {
   "display_name": "Python 3 (ipykernel)",
   "language": "python",
   "name": "python3"
  },
  "language_info": {
   "codemirror_mode": {
    "name": "ipython",
    "version": 3
   },
   "file_extension": ".py",
   "mimetype": "text/x-python",
   "name": "python",
   "nbconvert_exporter": "python",
   "pygments_lexer": "ipython3",
   "version": "3.13.0"
  }
 },
 "nbformat": 4,
 "nbformat_minor": 5
}
